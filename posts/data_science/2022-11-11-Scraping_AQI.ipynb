{
 "cells": [
  {
   "cell_type": "raw",
   "id": "ce583c7d-e266-4009-bd5b-570337db5d4f",
   "metadata": {},
   "source": [
    "---\n",
    "title: \"Scraping AQI\"\n",
    "description: \"Extracting AQI data from web for data sciences analysis.\"\n",
    "author: \"Me\"\n",
    "date: \"2022-11-11\"\n",
    "categories: [Scraping, ML]\n",
    "image: images/aqilogo.jpg\n",
    "skip_exec: true\n",
    "skip_showdoc: true\n",
    "---"
   ]
  },
  {
   "cell_type": "markdown",
   "id": "23f1edc9-094d-47ec-ab7b-3e370ba575d9",
   "metadata": {},
   "source": [
    "Data available in `https://aqicn.org` is good for downloading all data, but this data in compartion of data available in `https://aqms.doe.ir/` site is incomplete and incorrect. So, because the latest site has `DOE` reference it is better to obtain data from this site.\n",
    "Downloading data from `https://aqms.doe.ir/` can be done in multi-steps as in following:"
   ]
  },
  {
   "cell_type": "markdown",
   "id": "13f15088-577b-47b8-8f0a-be077784da7e",
   "metadata": {},
   "source": [
    "1- Install chrome extension `Print Friendly & PDF`.</br>\n",
    "2- Open site in `English` language.</br>\n",
    "3- Define `Date`.</br>\n",
    "4- Export data as `PDF`.</br>\n",
    "5- Convert pdf files to python `list` with `tabula-py` python library.\n",
    "6- Convert list to `Pandas Dataframe`.\n",
    "7- This data is `AQI` and must be converted to `Concenteartion`, for doing it we can use [AQI Calculator](https://www.airnow.gov/aqi/aqi-calculator-concentration/)."
   ]
  },
  {
   "cell_type": "code",
   "execution_count": null,
   "id": "568fd210-d8de-43e5-abda-ce3841346a80",
   "metadata": {},
   "outputs": [],
   "source": []
  }
 ],
 "metadata": {
  "kernelspec": {
   "display_name": "Python 3 (ipykernel)",
   "language": "python",
   "name": "python3"
  }
 },
 "nbformat": 4,
 "nbformat_minor": 5
}
