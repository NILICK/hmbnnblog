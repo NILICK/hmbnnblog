{
 "cells": [
  {
   "cell_type": "raw",
   "id": "ce583c7d-e266-4009-bd5b-570337db5d4f",
   "metadata": {},
   "source": [
    "---\n",
    "title: \"Scraping AQI\"\n",
    "description: \"Extracting AQI data from web for data sciences analysis.\"\n",
    "author: \"Me\"\n",
    "date: \"2022-11-11\"\n",
    "categories: [Scraping, ML]\n",
    "image: images/aqilogo.jpg\n",
    "skip_exec: true\n",
    "skip_showdoc: true\n",
    "---"
   ]
  },
  {
   "cell_type": "markdown",
   "id": "9f704668-1cd2-44bf-a235-3be063509843",
   "metadata": {},
   "source": [
    "You can download AQI data using two methods:"
   ]
  },
  {
   "cell_type": "markdown",
   "id": "23f1edc9-094d-47ec-ab7b-3e370ba575d9",
   "metadata": {},
   "source": [
    "## 1- Data from doe.ir\n",
    "Data available in `https://aqicn.org` is good for downloading all data, but this data in compartion of data available in `https://aqms.doe.ir/` site is incomplete and incorrect. So, because the latest site has `DOE` reference it is better to obtain data from this site.\n",
    "Downloading data from `https://aqms.doe.ir/` can be done in multi-steps as in following:\n",
    "\n",
    "1- Install chrome extension `Print Friendly & PDF`.</br>\n",
    "2- Open site in `English` language.</br>\n",
    "3- Define `Date`.</br>\n",
    "4- Export data as `PDF`.</br>\n",
    "5- Convert pdf files to python `list` with `tabula-py` python library.\n",
    "6- Convert list to `Pandas Dataframe`.\n",
    "7- This data is `AQI` and must be converted to `Concenteartion`, for doing it we can use [AQI Calculator](https://www.airnow.gov/aqi/aqi-calculator-concentration/)."
   ]
  },
  {
   "cell_type": "markdown",
   "id": "13f15088-577b-47b8-8f0a-be077784da7e",
   "metadata": {},
   "source": [
    "## 2- Data from aqicn.org\n",
    "\n",
    "1- AQICN Token\n",
    "\n",
    "The first step is to make sure to acquire your own token for all API access.</br>\n",
    "You can get your token from the [data-platform token](https://aqicn.org/data-platform/token/) page. \n",
    "\n",
    "2- Downloading Lat-Lon from [www.aqicn.org](https://aqicn.org/)</br>\n",
    "\n",
    "Historical data downloaded manually from [aqicn](www.aqicn.org) does not any information about `latitude` and `longitude` of each station. So, for obtaining this information we can use [API](https://aqicn.org/json-api/doc/#api-Map_Queries-GetMapStations).</br>\n",
    "There is a general code for getting information of stations based on boundary such as following:</br>\n",
    "\n",
    "```\n",
    "/map/bounds?token=:token&latlng=:latlng\n",
    "```\n",
    "We used the following code for obtaining the stations data (`name`, `lat`, `lon` and `uid`):</br>\n",
    "\n",
    "```\n",
    "https://api.waqi.info/v2/map/bounds?latlng=11.88,25.74,42.57,63.45&networks=all&token=f8a5365329b83961a149e7e4ada3946b84a63528\n",
    "```\n"
   ]
  },
  {
   "cell_type": "markdown",
   "id": "5743f080-1f98-4cb9-a212-59ed928e654c",
   "metadata": {},
   "source": [
    "## Reading JSON file\n",
    "\n",
    "https://towardsdatascience.com/how-to-convert-json-into-a-pandas-dataframe-100b2ae1e0d8"
   ]
  },
  {
   "cell_type": "code",
   "execution_count": null,
   "id": "b7a42799-b61c-4353-84e7-d87e38ed66d7",
   "metadata": {},
   "outputs": [
    {
     "data": {
      "text/html": [
       "<div>\n",
       "<style scoped>\n",
       "    .dataframe tbody tr th:only-of-type {\n",
       "        vertical-align: middle;\n",
       "    }\n",
       "\n",
       "    .dataframe tbody tr th {\n",
       "        vertical-align: top;\n",
       "    }\n",
       "\n",
       "    .dataframe thead th {\n",
       "        text-align: right;\n",
       "    }\n",
       "</style>\n",
       "<table border=\"1\" class=\"dataframe\">\n",
       "  <thead>\n",
       "    <tr style=\"text-align: right;\">\n",
       "      <th></th>\n",
       "      <th>status</th>\n",
       "      <th>data</th>\n",
       "    </tr>\n",
       "  </thead>\n",
       "  <tbody>\n",
       "    <tr>\n",
       "      <th>0</th>\n",
       "      <td>ok</td>\n",
       "      <td>{'lat': 32.243608, 'lon': 48.813886, 'uid': 11...</td>\n",
       "    </tr>\n",
       "    <tr>\n",
       "      <th>1</th>\n",
       "      <td>ok</td>\n",
       "      <td>{'lat': 35.034016, 'lon': 50.368211, 'uid': 10...</td>\n",
       "    </tr>\n",
       "    <tr>\n",
       "      <th>2</th>\n",
       "      <td>ok</td>\n",
       "      <td>{'lat': 41.5462, 'lon': 45.0145, 'uid': 12472,...</td>\n",
       "    </tr>\n",
       "    <tr>\n",
       "      <th>3</th>\n",
       "      <td>ok</td>\n",
       "      <td>{'lat': 32.536037, 'lon': 35.863945, 'uid': 11...</td>\n",
       "    </tr>\n",
       "    <tr>\n",
       "      <th>4</th>\n",
       "      <td>ok</td>\n",
       "      <td>{'lat': 41.197475, 'lon': 32.623379, 'uid': 10...</td>\n",
       "    </tr>\n",
       "  </tbody>\n",
       "</table>\n",
       "</div>"
      ],
      "text/plain": [
       "  status                                               data\n",
       "0     ok  {'lat': 32.243608, 'lon': 48.813886, 'uid': 11...\n",
       "1     ok  {'lat': 35.034016, 'lon': 50.368211, 'uid': 10...\n",
       "2     ok  {'lat': 41.5462, 'lon': 45.0145, 'uid': 12472,...\n",
       "3     ok  {'lat': 32.536037, 'lon': 35.863945, 'uid': 11...\n",
       "4     ok  {'lat': 41.197475, 'lon': 32.623379, 'uid': 10..."
      ]
     },
     "execution_count": null,
     "metadata": {},
     "output_type": "execute_result"
    }
   ],
   "source": [
    "import pandas as pd\n",
    "\n",
    "path = '/mnt/864424144424098F/Anaconda_Projects/Air_Pollution_Projects/Middle_East_Prj/AQICN_Dataset/Lat_Long/'\n",
    "df = pd.read_json(path + 'bounds_API.json')\n",
    "df.head()"
   ]
  },
  {
   "cell_type": "markdown",
   "id": "ab188a35-02f7-4223-84b4-0bc176f83e2e",
   "metadata": {},
   "source": [
    "After reading this JSON, we can see that our nested list is put up into a single column **data**. How can we flatten the nested list? One solution is to apply a custom function to flatten the values in **data**.\n",
    "\n",
    "This certainly does our work, but it requires extra code to get the data in the form we require. We can solve this effectively using the Pandas `json_normalize()` function."
   ]
  },
  {
   "cell_type": "markdown",
   "id": "88409205-d95c-4e51-a996-244eaf05285a",
   "metadata": {},
   "source": [
    "## Flattening nested list from JSON object"
   ]
  },
  {
   "cell_type": "code",
   "execution_count": null,
   "id": "4110ea6e-61d9-4266-948b-41729d9049b2",
   "metadata": {},
   "outputs": [
    {
     "data": {
      "text/html": [
       "<div>\n",
       "<style scoped>\n",
       "    .dataframe tbody tr th:only-of-type {\n",
       "        vertical-align: middle;\n",
       "    }\n",
       "\n",
       "    .dataframe tbody tr th {\n",
       "        vertical-align: top;\n",
       "    }\n",
       "\n",
       "    .dataframe thead th {\n",
       "        text-align: right;\n",
       "    }\n",
       "</style>\n",
       "<table border=\"1\" class=\"dataframe\">\n",
       "  <thead>\n",
       "    <tr style=\"text-align: right;\">\n",
       "      <th></th>\n",
       "      <th>lat</th>\n",
       "      <th>lon</th>\n",
       "      <th>uid</th>\n",
       "      <th>aqi</th>\n",
       "      <th>station.name</th>\n",
       "      <th>station.time</th>\n",
       "    </tr>\n",
       "  </thead>\n",
       "  <tbody>\n",
       "    <tr>\n",
       "      <th>0</th>\n",
       "      <td>32.243608</td>\n",
       "      <td>48.813886</td>\n",
       "      <td>11254</td>\n",
       "      <td>35</td>\n",
       "      <td>Gotvand, Khouzestan, Iran (گتوند خوزستان)</td>\n",
       "      <td>2022-11-19T04:30:00+09:00</td>\n",
       "    </tr>\n",
       "    <tr>\n",
       "      <th>1</th>\n",
       "      <td>35.034016</td>\n",
       "      <td>50.368211</td>\n",
       "      <td>10640</td>\n",
       "      <td>57</td>\n",
       "      <td>Saveh, Markazy, Iran (ساوه مركزی)</td>\n",
       "      <td>2022-11-19T04:30:00+09:00</td>\n",
       "    </tr>\n",
       "    <tr>\n",
       "      <th>2</th>\n",
       "      <td>41.546200</td>\n",
       "      <td>45.014500</td>\n",
       "      <td>12472</td>\n",
       "      <td>76</td>\n",
       "      <td>Batumi Str. 19, Rustavi, Georgia</td>\n",
       "      <td>2022-11-19T03:00:00+09:00</td>\n",
       "    </tr>\n",
       "    <tr>\n",
       "      <th>3</th>\n",
       "      <td>32.536037</td>\n",
       "      <td>35.863945</td>\n",
       "      <td>11420</td>\n",
       "      <td>42</td>\n",
       "      <td>Al-Hassan Sport City, Irbid, Jordan (ﻣﺪﯾﻨﺔ اﻟﺤ...</td>\n",
       "      <td>2022-11-19T03:00:00+09:00</td>\n",
       "    </tr>\n",
       "    <tr>\n",
       "      <th>4</th>\n",
       "      <td>41.197475</td>\n",
       "      <td>32.623379</td>\n",
       "      <td>10677</td>\n",
       "      <td>168</td>\n",
       "      <td>Toren Alani, Turkey</td>\n",
       "      <td>2022-11-19T04:00:00+09:00</td>\n",
       "    </tr>\n",
       "  </tbody>\n",
       "</table>\n",
       "</div>"
      ],
      "text/plain": [
       "         lat        lon    uid  aqi  \\\n",
       "0  32.243608  48.813886  11254   35   \n",
       "1  35.034016  50.368211  10640   57   \n",
       "2  41.546200  45.014500  12472   76   \n",
       "3  32.536037  35.863945  11420   42   \n",
       "4  41.197475  32.623379  10677  168   \n",
       "\n",
       "                                        station.name  \\\n",
       "0          Gotvand, Khouzestan, Iran (گتوند خوزستان)   \n",
       "1                  Saveh, Markazy, Iran (ساوه مركزی)   \n",
       "2                   Batumi Str. 19, Rustavi, Georgia   \n",
       "3  Al-Hassan Sport City, Irbid, Jordan (ﻣﺪﯾﻨﺔ اﻟﺤ...   \n",
       "4                                Toren Alani, Turkey   \n",
       "\n",
       "                station.time  \n",
       "0  2022-11-19T04:30:00+09:00  \n",
       "1  2022-11-19T04:30:00+09:00  \n",
       "2  2022-11-19T03:00:00+09:00  \n",
       "3  2022-11-19T03:00:00+09:00  \n",
       "4  2022-11-19T04:00:00+09:00  "
      ]
     },
     "execution_count": null,
     "metadata": {},
     "output_type": "execute_result"
    }
   ],
   "source": [
    "import json\n",
    "# load data using Python JSON module\n",
    "with open((path + 'bounds_API.json'),'r') as f:\n",
    "    data = json.loads(f.read())\n",
    "    \n",
    "# Flatten data\n",
    "df_nested_list = pd.json_normalize(data, record_path =['data'])\n",
    "df_nested_list.head()"
   ]
  },
  {
   "cell_type": "markdown",
   "id": "dce46171-da46-486b-8b03-c5f5603fcc95",
   "metadata": {},
   "source": [
    "## Spliting `station.name`"
   ]
  },
  {
   "cell_type": "code",
   "execution_count": null,
   "id": "88c03617-25b9-4b39-aead-e7e093a9383c",
   "metadata": {},
   "outputs": [
    {
     "data": {
      "text/html": [
       "<div>\n",
       "<style scoped>\n",
       "    .dataframe tbody tr th:only-of-type {\n",
       "        vertical-align: middle;\n",
       "    }\n",
       "\n",
       "    .dataframe tbody tr th {\n",
       "        vertical-align: top;\n",
       "    }\n",
       "\n",
       "    .dataframe thead th {\n",
       "        text-align: right;\n",
       "    }\n",
       "</style>\n",
       "<table border=\"1\" class=\"dataframe\">\n",
       "  <thead>\n",
       "    <tr style=\"text-align: right;\">\n",
       "      <th></th>\n",
       "      <th>lat</th>\n",
       "      <th>lon</th>\n",
       "      <th>uid</th>\n",
       "      <th>aqi</th>\n",
       "      <th>station.name</th>\n",
       "      <th>station.time</th>\n",
       "      <th>country</th>\n",
       "      <th>province</th>\n",
       "      <th>station</th>\n",
       "    </tr>\n",
       "  </thead>\n",
       "  <tbody>\n",
       "    <tr>\n",
       "      <th>0</th>\n",
       "      <td>32.243608</td>\n",
       "      <td>48.813886</td>\n",
       "      <td>11254</td>\n",
       "      <td>35</td>\n",
       "      <td>Gotvand, Khouzestan, Iran (گتوند خوزستان)</td>\n",
       "      <td>2022-11-19T04:30:00+09:00</td>\n",
       "      <td>Iran (گتوند خوزستان)</td>\n",
       "      <td>Khouzestan</td>\n",
       "      <td>Gotvand</td>\n",
       "    </tr>\n",
       "    <tr>\n",
       "      <th>1</th>\n",
       "      <td>35.034016</td>\n",
       "      <td>50.368211</td>\n",
       "      <td>10640</td>\n",
       "      <td>57</td>\n",
       "      <td>Saveh, Markazy, Iran (ساوه مركزی)</td>\n",
       "      <td>2022-11-19T04:30:00+09:00</td>\n",
       "      <td>Iran (ساوه مركزی)</td>\n",
       "      <td>Markazy</td>\n",
       "      <td>Saveh</td>\n",
       "    </tr>\n",
       "    <tr>\n",
       "      <th>2</th>\n",
       "      <td>41.546200</td>\n",
       "      <td>45.014500</td>\n",
       "      <td>12472</td>\n",
       "      <td>76</td>\n",
       "      <td>Batumi Str. 19, Rustavi, Georgia</td>\n",
       "      <td>2022-11-19T03:00:00+09:00</td>\n",
       "      <td>Georgia</td>\n",
       "      <td>Rustavi</td>\n",
       "      <td>Batumi Str. 19</td>\n",
       "    </tr>\n",
       "    <tr>\n",
       "      <th>3</th>\n",
       "      <td>32.536037</td>\n",
       "      <td>35.863945</td>\n",
       "      <td>11420</td>\n",
       "      <td>42</td>\n",
       "      <td>Al-Hassan Sport City, Irbid, Jordan (ﻣﺪﯾﻨﺔ اﻟﺤ...</td>\n",
       "      <td>2022-11-19T03:00:00+09:00</td>\n",
       "      <td>Jordan (ﻣﺪﯾﻨﺔ اﻟﺤﺴﻦ اﻟﺮﯾﺎﺿﯿﺔ/ارﺑﺪ)</td>\n",
       "      <td>Irbid</td>\n",
       "      <td>Al-Hassan Sport City</td>\n",
       "    </tr>\n",
       "    <tr>\n",
       "      <th>4</th>\n",
       "      <td>41.197475</td>\n",
       "      <td>32.623379</td>\n",
       "      <td>10677</td>\n",
       "      <td>168</td>\n",
       "      <td>Toren Alani, Turkey</td>\n",
       "      <td>2022-11-19T04:00:00+09:00</td>\n",
       "      <td>Turkey</td>\n",
       "      <td>Toren Alani</td>\n",
       "      <td>NaN</td>\n",
       "    </tr>\n",
       "  </tbody>\n",
       "</table>\n",
       "</div>"
      ],
      "text/plain": [
       "         lat        lon    uid  aqi  \\\n",
       "0  32.243608  48.813886  11254   35   \n",
       "1  35.034016  50.368211  10640   57   \n",
       "2  41.546200  45.014500  12472   76   \n",
       "3  32.536037  35.863945  11420   42   \n",
       "4  41.197475  32.623379  10677  168   \n",
       "\n",
       "                                        station.name  \\\n",
       "0          Gotvand, Khouzestan, Iran (گتوند خوزستان)   \n",
       "1                  Saveh, Markazy, Iran (ساوه مركزی)   \n",
       "2                   Batumi Str. 19, Rustavi, Georgia   \n",
       "3  Al-Hassan Sport City, Irbid, Jordan (ﻣﺪﯾﻨﺔ اﻟﺤ...   \n",
       "4                                Toren Alani, Turkey   \n",
       "\n",
       "                station.time                              country  \\\n",
       "0  2022-11-19T04:30:00+09:00                 Iran (گتوند خوزستان)   \n",
       "1  2022-11-19T04:30:00+09:00                    Iran (ساوه مركزی)   \n",
       "2  2022-11-19T03:00:00+09:00                              Georgia   \n",
       "3  2022-11-19T03:00:00+09:00   Jordan (ﻣﺪﯾﻨﺔ اﻟﺤﺴﻦ اﻟﺮﯾﺎﺿﯿﺔ/ارﺑﺪ)   \n",
       "4  2022-11-19T04:00:00+09:00                               Turkey   \n",
       "\n",
       "      province               station  \n",
       "0   Khouzestan               Gotvand  \n",
       "1      Markazy                 Saveh  \n",
       "2      Rustavi        Batumi Str. 19  \n",
       "3        Irbid  Al-Hassan Sport City  \n",
       "4  Toren Alani                   NaN  "
      ]
     },
     "execution_count": null,
     "metadata": {},
     "output_type": "execute_result"
    }
   ],
   "source": [
    "splitted = df_nested_list['station.name'].str.split(',')\n",
    "df_nested_list['country'] = splitted.str[-1]\n",
    "df_nested_list['province'] = splitted.str[-2]\n",
    "df_nested_list['station'] = splitted.str[-3]\n",
    "                                         \n",
    "df_nested_list.head()"
   ]
  },
  {
   "cell_type": "code",
   "execution_count": null,
   "id": "cdc2d8b4-dd2e-4196-bf71-07835918bb92",
   "metadata": {},
   "outputs": [],
   "source": [
    "df_nested_list['country'] = df_nested_list['country'].str.split('(').str[0]"
   ]
  },
  {
   "cell_type": "markdown",
   "id": "2ca18d47-4013-49f6-b927-0e56aa0c04a2",
   "metadata": {},
   "source": [
    "It seems that we have white space before, after or both for each word in `country_new` column. So, for achive clean data you must remove this white spaces with `strip()`."
   ]
  },
  {
   "cell_type": "code",
   "execution_count": null,
   "id": "97ef4cb8-91d7-41fc-a102-6d7055090be5",
   "metadata": {},
   "outputs": [],
   "source": [
    "# Remove white space before and after words\n",
    "df_nested_list['country'] = df_nested_list['country'].str.strip()"
   ]
  },
  {
   "cell_type": "code",
   "execution_count": null,
   "id": "31f37cbd-140d-431d-b389-b25d0c8538af",
   "metadata": {},
   "outputs": [],
   "source": [
    "# Change some values to return Country names correctly (such as example following)\n",
    "df_nested_list.loc[df_nested_list[\"country\"] == 'שפלה פנימית)', \"country\"] = 'Israel'"
   ]
  },
  {
   "cell_type": "code",
   "execution_count": null,
   "id": "8926d3b2-ae1b-4d7d-8f4d-881ac7c2ad5e",
   "metadata": {},
   "outputs": [
    {
     "data": {
      "text/plain": [
       "array(['Iran', 'Georgia', 'Jordan', 'Turkey', 'Kuwait', 'UAE', 'Cyprus',\n",
       "       'Egypt', 'Israel', 'Qatar', 'Greece', 'Bulgaria', 'Iraq',\n",
       "       'Palestine', 'Saudi Arabia', 'Turkmenistan', 'Azerbaijan', 'Sudan'],\n",
       "      dtype=object)"
      ]
     },
     "execution_count": null,
     "metadata": {},
     "output_type": "execute_result"
    }
   ],
   "source": [
    "# Checking unique values in `country` column\n",
    "df_nested_list['country'].unique()"
   ]
  },
  {
   "cell_type": "code",
   "execution_count": null,
   "id": "d4c1a270-eef6-447d-84a2-1f2694829b01",
   "metadata": {},
   "outputs": [
    {
     "data": {
      "text/plain": [
       "array(['Iran', 'Jordan', 'Turkey', 'Kuwait', 'UAE', 'Egypt', 'Israel',\n",
       "       'Qatar', 'Iraq', 'Palestine', 'Saudi Arabia'], dtype=object)"
      ]
     },
     "execution_count": null,
     "metadata": {},
     "output_type": "execute_result"
    }
   ],
   "source": [
    "# Remove Countries out of Middle East\n",
    "df_ME = df_nested_list.drop(df_nested_list[(df_nested_list['country'] == 'Cyprus') | \n",
    "                                          (df_nested_list['country'] == 'Greece') | \n",
    "                                          (df_nested_list['country'] == 'Turkmenistan') | \n",
    "                                          (df_nested_list['country'] == 'Sudan') |\n",
    "                                          (df_nested_list['country'] == 'Bulgaria') |\n",
    "                                          (df_nested_list['country'] == 'Georgia') |\n",
    "                                          (df_nested_list['country'] == 'Azerbaijan')].index)\n",
    "df_ME['country'].unique()"
   ]
  },
  {
   "cell_type": "code",
   "execution_count": null,
   "id": "5b47b12c-73b1-4b37-8fec-32fac909d775",
   "metadata": {},
   "outputs": [],
   "source": [
    "# Save initial cleaned dataframe as df_middle_east.csv\n",
    "df_ME.to_csv('df_middle_east.csv', index=False)"
   ]
  },
  {
   "cell_type": "code",
   "execution_count": null,
   "id": "68a3a3eb-4962-4552-a098-0b5d4c6d7899",
   "metadata": {},
   "outputs": [],
   "source": [
    "# Get Null (None) values index in `country` column.\n",
    "#non = df_nested_list.loc[pd.isna(df_nested_list[\"country\"]), :].index.tolist()\n",
    "\n",
    "# Replace None with Country names\n",
    "#for i in non:\n",
    "#    txt = df_nested_list.iloc[i]['province']\n",
    "#    df_nested_list['country'].replace('None', str(txt), inplace=True)\n",
    "#    df_nested_list.loc[i] = str(txt)\n",
    "\n",
    "#df_nested_list.head()"
   ]
  },
  {
   "cell_type": "markdown",
   "id": "138db4df-86b2-47a1-8df5-497d7f92f6c0",
   "metadata": {},
   "source": [
    "## Mapping Stations"
   ]
  },
  {
   "cell_type": "markdown",
   "id": "31d1867f-8f48-45dc-938d-5e7d121b9485",
   "metadata": {},
   "source": [
    "### *Plotting with Folium*"
   ]
  },
  {
   "cell_type": "code",
   "execution_count": null,
   "id": "3eb2112c-852c-4aa2-9c48-ad44974a5f9e",
   "metadata": {},
   "outputs": [],
   "source": [
    "# Import Libraries\n",
    "import pandas as pd\n",
    "import geopandas as gpd\n",
    "import folium\n",
    "import matplotlib.pyplot as plt"
   ]
  },
  {
   "cell_type": "code",
   "execution_count": null,
   "id": "951074c8-d3c5-4676-8e14-7b94ceee22ab",
   "metadata": {},
   "outputs": [
    {
     "data": {
      "text/html": [
       "<div>\n",
       "<style scoped>\n",
       "    .dataframe tbody tr th:only-of-type {\n",
       "        vertical-align: middle;\n",
       "    }\n",
       "\n",
       "    .dataframe tbody tr th {\n",
       "        vertical-align: top;\n",
       "    }\n",
       "\n",
       "    .dataframe thead th {\n",
       "        text-align: right;\n",
       "    }\n",
       "</style>\n",
       "<table border=\"1\" class=\"dataframe\">\n",
       "  <thead>\n",
       "    <tr style=\"text-align: right;\">\n",
       "      <th></th>\n",
       "      <th>lat</th>\n",
       "      <th>lon</th>\n",
       "      <th>uid</th>\n",
       "      <th>aqi</th>\n",
       "      <th>station.name</th>\n",
       "      <th>station.time</th>\n",
       "      <th>country</th>\n",
       "      <th>province</th>\n",
       "      <th>station</th>\n",
       "    </tr>\n",
       "  </thead>\n",
       "  <tbody>\n",
       "    <tr>\n",
       "      <th>0</th>\n",
       "      <td>32.243608</td>\n",
       "      <td>48.813886</td>\n",
       "      <td>11254</td>\n",
       "      <td>35</td>\n",
       "      <td>Gotvand, Khouzestan, Iran (گتوند خوزستان)</td>\n",
       "      <td>2022-11-19T04:30:00+09:00</td>\n",
       "      <td>Iran</td>\n",
       "      <td>Khouzestan</td>\n",
       "      <td>Gotvand</td>\n",
       "    </tr>\n",
       "    <tr>\n",
       "      <th>1</th>\n",
       "      <td>35.034016</td>\n",
       "      <td>50.368211</td>\n",
       "      <td>10640</td>\n",
       "      <td>57</td>\n",
       "      <td>Saveh, Markazy, Iran (ساوه مركزی)</td>\n",
       "      <td>2022-11-19T04:30:00+09:00</td>\n",
       "      <td>Iran</td>\n",
       "      <td>Markazy</td>\n",
       "      <td>Saveh</td>\n",
       "    </tr>\n",
       "    <tr>\n",
       "      <th>2</th>\n",
       "      <td>32.536037</td>\n",
       "      <td>35.863945</td>\n",
       "      <td>11420</td>\n",
       "      <td>42</td>\n",
       "      <td>Al-Hassan Sport City, Irbid, Jordan (ﻣﺪﯾﻨﺔ اﻟﺤ...</td>\n",
       "      <td>2022-11-19T03:00:00+09:00</td>\n",
       "      <td>Jordan</td>\n",
       "      <td>Irbid</td>\n",
       "      <td>Al-Hassan Sport City</td>\n",
       "    </tr>\n",
       "    <tr>\n",
       "      <th>3</th>\n",
       "      <td>41.197475</td>\n",
       "      <td>32.623379</td>\n",
       "      <td>10677</td>\n",
       "      <td>168</td>\n",
       "      <td>Toren Alani, Turkey</td>\n",
       "      <td>2022-11-19T04:00:00+09:00</td>\n",
       "      <td>Turkey</td>\n",
       "      <td>Toren Alani</td>\n",
       "      <td>NaN</td>\n",
       "    </tr>\n",
       "    <tr>\n",
       "      <th>4</th>\n",
       "      <td>38.674596</td>\n",
       "      <td>39.211668</td>\n",
       "      <td>4058</td>\n",
       "      <td>39</td>\n",
       "      <td>Elazig, Turkey</td>\n",
       "      <td>2022-11-19T04:00:00+09:00</td>\n",
       "      <td>Turkey</td>\n",
       "      <td>Elazig</td>\n",
       "      <td>NaN</td>\n",
       "    </tr>\n",
       "  </tbody>\n",
       "</table>\n",
       "</div>"
      ],
      "text/plain": [
       "         lat        lon    uid  aqi  \\\n",
       "0  32.243608  48.813886  11254   35   \n",
       "1  35.034016  50.368211  10640   57   \n",
       "2  32.536037  35.863945  11420   42   \n",
       "3  41.197475  32.623379  10677  168   \n",
       "4  38.674596  39.211668   4058   39   \n",
       "\n",
       "                                        station.name  \\\n",
       "0          Gotvand, Khouzestan, Iran (گتوند خوزستان)   \n",
       "1                  Saveh, Markazy, Iran (ساوه مركزی)   \n",
       "2  Al-Hassan Sport City, Irbid, Jordan (ﻣﺪﯾﻨﺔ اﻟﺤ...   \n",
       "3                                Toren Alani, Turkey   \n",
       "4                                     Elazig, Turkey   \n",
       "\n",
       "                station.time country     province               station  \n",
       "0  2022-11-19T04:30:00+09:00    Iran   Khouzestan               Gotvand  \n",
       "1  2022-11-19T04:30:00+09:00    Iran      Markazy                 Saveh  \n",
       "2  2022-11-19T03:00:00+09:00  Jordan        Irbid  Al-Hassan Sport City  \n",
       "3  2022-11-19T04:00:00+09:00  Turkey  Toren Alani                   NaN  \n",
       "4  2022-11-19T04:00:00+09:00  Turkey       Elazig                   NaN  "
      ]
     },
     "execution_count": null,
     "metadata": {},
     "output_type": "execute_result"
    }
   ],
   "source": [
    "# Reading Data\n",
    "df_me = pd.read_csv('df_middle_east.csv')\n",
    "df_me.head()"
   ]
  },
  {
   "cell_type": "code",
   "execution_count": null,
   "id": "d95f9090-1267-47ec-a36d-4f610088012b",
   "metadata": {},
   "outputs": [
    {
     "name": "stdout",
     "output_type": "stream",
     "text": [
      "<class 'pandas.core.frame.DataFrame'>\n",
      "RangeIndex: 309 entries, 0 to 308\n",
      "Data columns (total 9 columns):\n",
      " #   Column        Non-Null Count  Dtype  \n",
      "---  ------        --------------  -----  \n",
      " 0   lat           309 non-null    float64\n",
      " 1   lon           309 non-null    float64\n",
      " 2   uid           309 non-null    int64  \n",
      " 3   aqi           309 non-null    object \n",
      " 4   station.name  309 non-null    object \n",
      " 5   station.time  309 non-null    object \n",
      " 6   country       309 non-null    object \n",
      " 7   province      297 non-null    object \n",
      " 8   station       125 non-null    object \n",
      "dtypes: float64(2), int64(1), object(6)\n",
      "memory usage: 21.9+ KB\n"
     ]
    }
   ],
   "source": [
    "# Datafrma info\n",
    "df_me.info()"
   ]
  },
  {
   "cell_type": "code",
   "execution_count": null,
   "id": "881b84b8-934c-4361-9589-655dd63dc28d",
   "metadata": {},
   "outputs": [
    {
     "data": {
      "text/html": [
       "<div>\n",
       "<style scoped>\n",
       "    .dataframe tbody tr th:only-of-type {\n",
       "        vertical-align: middle;\n",
       "    }\n",
       "\n",
       "    .dataframe tbody tr th {\n",
       "        vertical-align: top;\n",
       "    }\n",
       "\n",
       "    .dataframe thead th {\n",
       "        text-align: right;\n",
       "    }\n",
       "</style>\n",
       "<table border=\"1\" class=\"dataframe\">\n",
       "  <thead>\n",
       "    <tr style=\"text-align: right;\">\n",
       "      <th></th>\n",
       "      <th>lat</th>\n",
       "      <th>lon</th>\n",
       "      <th>uid</th>\n",
       "      <th>country</th>\n",
       "      <th>province</th>\n",
       "      <th>station</th>\n",
       "    </tr>\n",
       "  </thead>\n",
       "  <tbody>\n",
       "    <tr>\n",
       "      <th>0</th>\n",
       "      <td>32.243608</td>\n",
       "      <td>48.813886</td>\n",
       "      <td>11254</td>\n",
       "      <td>Iran</td>\n",
       "      <td>Khouzestan</td>\n",
       "      <td>Gotvand</td>\n",
       "    </tr>\n",
       "    <tr>\n",
       "      <th>1</th>\n",
       "      <td>35.034016</td>\n",
       "      <td>50.368211</td>\n",
       "      <td>10640</td>\n",
       "      <td>Iran</td>\n",
       "      <td>Markazy</td>\n",
       "      <td>Saveh</td>\n",
       "    </tr>\n",
       "    <tr>\n",
       "      <th>2</th>\n",
       "      <td>32.536037</td>\n",
       "      <td>35.863945</td>\n",
       "      <td>11420</td>\n",
       "      <td>Jordan</td>\n",
       "      <td>Irbid</td>\n",
       "      <td>Al-Hassan Sport City</td>\n",
       "    </tr>\n",
       "    <tr>\n",
       "      <th>3</th>\n",
       "      <td>41.197475</td>\n",
       "      <td>32.623379</td>\n",
       "      <td>10677</td>\n",
       "      <td>Turkey</td>\n",
       "      <td>Toren Alani</td>\n",
       "      <td>NaN</td>\n",
       "    </tr>\n",
       "    <tr>\n",
       "      <th>4</th>\n",
       "      <td>38.674596</td>\n",
       "      <td>39.211668</td>\n",
       "      <td>4058</td>\n",
       "      <td>Turkey</td>\n",
       "      <td>Elazig</td>\n",
       "      <td>NaN</td>\n",
       "    </tr>\n",
       "  </tbody>\n",
       "</table>\n",
       "</div>"
      ],
      "text/plain": [
       "         lat        lon    uid country     province               station\n",
       "0  32.243608  48.813886  11254    Iran   Khouzestan               Gotvand\n",
       "1  35.034016  50.368211  10640    Iran      Markazy                 Saveh\n",
       "2  32.536037  35.863945  11420  Jordan        Irbid  Al-Hassan Sport City\n",
       "3  41.197475  32.623379  10677  Turkey  Toren Alani                   NaN\n",
       "4  38.674596  39.211668   4058  Turkey       Elazig                   NaN"
      ]
     },
     "execution_count": null,
     "metadata": {},
     "output_type": "execute_result"
    }
   ],
   "source": [
    "# Keep only relevant columns\n",
    "df_me.drop(columns = ['aqi', 'station.name', 'station.time'], inplace=True)\n",
    "df_me.head()"
   ]
  },
  {
   "cell_type": "code",
   "execution_count": null,
   "id": "deefa803-a9fc-4426-a5ed-8a57a3c02c5d",
   "metadata": {},
   "outputs": [
    {
     "data": {
      "text/plain": [
       "array(['Iran', 'Jordan', 'Turkey', 'Kuwait', 'UAE', 'Egypt', 'Israel',\n",
       "       'Qatar', 'Iraq', 'Palestine', 'Saudi Arabia'], dtype=object)"
      ]
     },
     "execution_count": null,
     "metadata": {},
     "output_type": "execute_result"
    }
   ],
   "source": [
    "df_me['country'].unique()"
   ]
  },
  {
   "cell_type": "code",
   "execution_count": null,
   "id": "3ecf72cf-d2ea-43e2-9545-88d905196fe5",
   "metadata": {},
   "outputs": [
    {
     "data": {
      "text/html": [
       "<div>\n",
       "<style scoped>\n",
       "    .dataframe tbody tr th:only-of-type {\n",
       "        vertical-align: middle;\n",
       "    }\n",
       "\n",
       "    .dataframe tbody tr th {\n",
       "        vertical-align: top;\n",
       "    }\n",
       "\n",
       "    .dataframe thead th {\n",
       "        text-align: right;\n",
       "    }\n",
       "</style>\n",
       "<table border=\"1\" class=\"dataframe\">\n",
       "  <thead>\n",
       "    <tr style=\"text-align: right;\">\n",
       "      <th></th>\n",
       "      <th>uid</th>\n",
       "      <th>station</th>\n",
       "      <th>province</th>\n",
       "      <th>country</th>\n",
       "      <th>lat</th>\n",
       "      <th>lon</th>\n",
       "      <th>geometry</th>\n",
       "    </tr>\n",
       "  </thead>\n",
       "  <tbody>\n",
       "    <tr>\n",
       "      <th>0</th>\n",
       "      <td>11254</td>\n",
       "      <td>Gotvand</td>\n",
       "      <td>Khouzestan</td>\n",
       "      <td>Iran</td>\n",
       "      <td>32.243608</td>\n",
       "      <td>48.813886</td>\n",
       "      <td>POINT (48.81389 32.24361)</td>\n",
       "    </tr>\n",
       "    <tr>\n",
       "      <th>1</th>\n",
       "      <td>10640</td>\n",
       "      <td>Saveh</td>\n",
       "      <td>Markazy</td>\n",
       "      <td>Iran</td>\n",
       "      <td>35.034016</td>\n",
       "      <td>50.368211</td>\n",
       "      <td>POINT (50.36821 35.03402)</td>\n",
       "    </tr>\n",
       "    <tr>\n",
       "      <th>2</th>\n",
       "      <td>11420</td>\n",
       "      <td>Al-Hassan Sport City</td>\n",
       "      <td>Irbid</td>\n",
       "      <td>Jordan</td>\n",
       "      <td>32.536037</td>\n",
       "      <td>35.863945</td>\n",
       "      <td>POINT (35.86395 32.53604)</td>\n",
       "    </tr>\n",
       "    <tr>\n",
       "      <th>3</th>\n",
       "      <td>10677</td>\n",
       "      <td>NaN</td>\n",
       "      <td>Toren Alani</td>\n",
       "      <td>Turkey</td>\n",
       "      <td>41.197475</td>\n",
       "      <td>32.623379</td>\n",
       "      <td>POINT (32.62338 41.19747)</td>\n",
       "    </tr>\n",
       "    <tr>\n",
       "      <th>4</th>\n",
       "      <td>4058</td>\n",
       "      <td>NaN</td>\n",
       "      <td>Elazig</td>\n",
       "      <td>Turkey</td>\n",
       "      <td>38.674596</td>\n",
       "      <td>39.211668</td>\n",
       "      <td>POINT (39.21167 38.67460)</td>\n",
       "    </tr>\n",
       "  </tbody>\n",
       "</table>\n",
       "</div>"
      ],
      "text/plain": [
       "     uid               station     province country        lat        lon  \\\n",
       "0  11254               Gotvand   Khouzestan    Iran  32.243608  48.813886   \n",
       "1  10640                 Saveh      Markazy    Iran  35.034016  50.368211   \n",
       "2  11420  Al-Hassan Sport City        Irbid  Jordan  32.536037  35.863945   \n",
       "3  10677                   NaN  Toren Alani  Turkey  41.197475  32.623379   \n",
       "4   4058                   NaN       Elazig  Turkey  38.674596  39.211668   \n",
       "\n",
       "                    geometry  \n",
       "0  POINT (48.81389 32.24361)  \n",
       "1  POINT (50.36821 35.03402)  \n",
       "2  POINT (35.86395 32.53604)  \n",
       "3  POINT (32.62338 41.19747)  \n",
       "4  POINT (39.21167 38.67460)  "
      ]
     },
     "execution_count": null,
     "metadata": {},
     "output_type": "execute_result"
    }
   ],
   "source": [
    "# Create point geometries\n",
    "geometry = gpd.points_from_xy(df_me.lon, df_me.lat)\n",
    "geo_df = gpd.GeoDataFrame(\n",
    "    df_me[[\"uid\", \"station\", 'province', 'country', 'lat', 'lon']], geometry=geometry\n",
    ")\n",
    "\n",
    "geo_df.head()"
   ]
  },
  {
   "cell_type": "markdown",
   "id": "707f5cf2-aa4c-4df9-bc4e-211f16c0e632",
   "metadata": {},
   "source": [
    "# Convert AQI of PM10 to PM10 Concentration"
   ]
  },
  {
   "cell_type": "markdown",
   "id": "8858230d-dc89-487b-a5fe-fe2581d904bb",
   "metadata": {},
   "source": [
    "AQI data in [aqicn](aqicn.org) should be converted to the raw concentration using the US EPA standard.\n",
    "In this project we need concetraion of `PM10`, so we should convert `PM10 AQI` to `PM10 Concentarion`, such as [AQI Calculator](https://www.airnow.gov/aqi/aqi-calculator/)."
   ]
  },
  {
   "cell_type": "markdown",
   "id": "9d793d75-74d3-4d89-9f6b-da58303337b6",
   "metadata": {},
   "source": [
    "# How does the AQI work?"
   ]
  },
  {
   "cell_type": "markdown",
   "id": "38c904a3-15cf-47fd-b5c1-b286c6793e1e",
   "metadata": {},
   "source": [
    "(srcs: [1](https://www.airnow.gov/aqi/aqi-basics/), [2](https://en.wikipedia.org/wiki/Air_quality_index#United_States))"
   ]
  },
  {
   "cell_type": "markdown",
   "id": "14878b22-2af8-4dcd-b309-c992414df15d",
   "metadata": {},
   "source": [
    "hink of the `AQI` as a yardstick that runs from 0 to 500. The higher the `AQI` value, the greater the level of air pollution and the greater the health concern. For example, an `AQI` value of 50 or below represents good air quality, while an `AQI` value over 300 represents hazardous air quality.\n",
    "\n",
    "For each pollutant an `AQI` value of 100 generally corresponds to an ambient air concentration that equals the level of the short-term national ambient air quality standard for protection of public health. `AQI` values at or below 100 are generally thought of as satisfactory. When `AQI` values are above 100, air quality is unhealthy: at first for certain sensitive groups of people, then for everyone as `AQI` values get higher.\n",
    "\n",
    "The `AQI` is divided into six categories. Each category corresponds to a different level of health concern. Each category also has a specific color. The color makes it easy for people to quickly determine whether air quality is reaching unhealthy levels in their communities."
   ]
  },
  {
   "cell_type": "markdown",
   "id": "617210dc-8e6d-49e2-9884-b6eb743fede8",
   "metadata": {},
   "source": [
    "| ![aqi_category](images/aqi_categories.png)| \n",
    "|:--:| \n",
    "| *AQI Categories* |"
   ]
  },
  {
   "cell_type": "markdown",
   "id": "41931f7b-fa10-4dc2-9953-47404d7953f0",
   "metadata": {},
   "source": [
    "| ![aqi_epa_usa](images/aqi_epa_usa.png) | \n",
    "|:--:| \n",
    "| *AQI of EPA Categories* |"
   ]
  },
  {
   "cell_type": "markdown",
   "id": "2b872221-ef7b-4b13-9163-9df8556faa87",
   "metadata": {},
   "source": [
    "Converting `AQI values` to `Concentration values`, we can use [python-aqi](https://github.com/NILICK/python-aqi) python library."
   ]
  },
  {
   "cell_type": "markdown",
   "id": "bf6e36e2-1f49-4757-8dfb-9837c63e81ff",
   "metadata": {},
   "source": [
    "# Using `python-aqi` in pandas"
   ]
  },
  {
   "cell_type": "code",
   "execution_count": null,
   "id": "d06918d4-0475-44cd-89db-53d117bca554",
   "metadata": {},
   "outputs": [],
   "source": [
    "# import libraries\n",
    "import pandas as pd\n",
    "import numpy as np\n",
    "import aqi"
   ]
  },
  {
   "cell_type": "code",
   "execution_count": null,
   "id": "77a66ca8-f15c-43b8-a7e0-40104073d668",
   "metadata": {},
   "outputs": [
    {
     "data": {
      "text/html": [
       "<div>\n",
       "<style scoped>\n",
       "    .dataframe tbody tr th:only-of-type {\n",
       "        vertical-align: middle;\n",
       "    }\n",
       "\n",
       "    .dataframe tbody tr th {\n",
       "        vertical-align: top;\n",
       "    }\n",
       "\n",
       "    .dataframe thead th {\n",
       "        text-align: right;\n",
       "    }\n",
       "</style>\n",
       "<table border=\"1\" class=\"dataframe\">\n",
       "  <thead>\n",
       "    <tr style=\"text-align: right;\">\n",
       "      <th></th>\n",
       "      <th>pm25</th>\n",
       "      <th>pm10</th>\n",
       "      <th>o3</th>\n",
       "      <th>no2</th>\n",
       "      <th>so2</th>\n",
       "      <th>co</th>\n",
       "      <th>lat</th>\n",
       "      <th>lon</th>\n",
       "      <th>country</th>\n",
       "      <th>station</th>\n",
       "    </tr>\n",
       "    <tr>\n",
       "      <th>date</th>\n",
       "      <th></th>\n",
       "      <th></th>\n",
       "      <th></th>\n",
       "      <th></th>\n",
       "      <th></th>\n",
       "      <th></th>\n",
       "      <th></th>\n",
       "      <th></th>\n",
       "      <th></th>\n",
       "      <th></th>\n",
       "    </tr>\n",
       "  </thead>\n",
       "  <tbody>\n",
       "    <tr>\n",
       "      <th>2013-12-31</th>\n",
       "      <td>NaN</td>\n",
       "      <td>NaN</td>\n",
       "      <td>12.0</td>\n",
       "      <td>1.0</td>\n",
       "      <td>1.0</td>\n",
       "      <td>NaN</td>\n",
       "      <td>37.186701</td>\n",
       "      <td>35.264586</td>\n",
       "      <td>Turkey</td>\n",
       "      <td>Adana catalan</td>\n",
       "    </tr>\n",
       "    <tr>\n",
       "      <th>2014-01-01</th>\n",
       "      <td>NaN</td>\n",
       "      <td>24.0</td>\n",
       "      <td>11.0</td>\n",
       "      <td>1.0</td>\n",
       "      <td>3.0</td>\n",
       "      <td>NaN</td>\n",
       "      <td>37.186701</td>\n",
       "      <td>35.264586</td>\n",
       "      <td>Turkey</td>\n",
       "      <td>Adana catalan</td>\n",
       "    </tr>\n",
       "    <tr>\n",
       "      <th>2014-01-02</th>\n",
       "      <td>NaN</td>\n",
       "      <td>24.0</td>\n",
       "      <td>15.0</td>\n",
       "      <td>1.0</td>\n",
       "      <td>1.0</td>\n",
       "      <td>NaN</td>\n",
       "      <td>37.186701</td>\n",
       "      <td>35.264586</td>\n",
       "      <td>Turkey</td>\n",
       "      <td>Adana catalan</td>\n",
       "    </tr>\n",
       "    <tr>\n",
       "      <th>2014-01-03</th>\n",
       "      <td>NaN</td>\n",
       "      <td>24.0</td>\n",
       "      <td>18.0</td>\n",
       "      <td>1.0</td>\n",
       "      <td>1.0</td>\n",
       "      <td>NaN</td>\n",
       "      <td>37.186701</td>\n",
       "      <td>35.264586</td>\n",
       "      <td>Turkey</td>\n",
       "      <td>Adana catalan</td>\n",
       "    </tr>\n",
       "    <tr>\n",
       "      <th>2014-01-04</th>\n",
       "      <td>NaN</td>\n",
       "      <td>23.0</td>\n",
       "      <td>14.0</td>\n",
       "      <td>1.0</td>\n",
       "      <td>4.0</td>\n",
       "      <td>NaN</td>\n",
       "      <td>37.186701</td>\n",
       "      <td>35.264586</td>\n",
       "      <td>Turkey</td>\n",
       "      <td>Adana catalan</td>\n",
       "    </tr>\n",
       "  </tbody>\n",
       "</table>\n",
       "</div>"
      ],
      "text/plain": [
       "            pm25  pm10    o3  no2  so2  co        lat        lon country  \\\n",
       "date                                                                       \n",
       "2013-12-31   NaN   NaN  12.0  1.0  1.0 NaN  37.186701  35.264586  Turkey   \n",
       "2014-01-01   NaN  24.0  11.0  1.0  3.0 NaN  37.186701  35.264586  Turkey   \n",
       "2014-01-02   NaN  24.0  15.0  1.0  1.0 NaN  37.186701  35.264586  Turkey   \n",
       "2014-01-03   NaN  24.0  18.0  1.0  1.0 NaN  37.186701  35.264586  Turkey   \n",
       "2014-01-04   NaN  23.0  14.0  1.0  4.0 NaN  37.186701  35.264586  Turkey   \n",
       "\n",
       "                  station  \n",
       "date                       \n",
       "2013-12-31  Adana catalan  \n",
       "2014-01-01  Adana catalan  \n",
       "2014-01-02  Adana catalan  \n",
       "2014-01-03  Adana catalan  \n",
       "2014-01-04  Adana catalan  "
      ]
     },
     "execution_count": null,
     "metadata": {},
     "output_type": "execute_result"
    }
   ],
   "source": [
    "# Reading aqi file in csv format\n",
    "df = pd.read_csv(\"./Cleand_data/Turkey/tr_adana_catalan.csv\") # read csv\n",
    "df['date'] = pd.to_datetime(df['date'], format='%Y/%m/%d') # change `date` column to 'datetime'.\n",
    "df.set_index(['date'], inplace=True) # setting index column.\n",
    "df = df.sort_index() # sort date based on `datetime`.\n",
    "df.head()"
   ]
  },
  {
   "cell_type": "code",
   "execution_count": null,
   "id": "5a47bb9a-f3ac-4749-a060-59df366252bd",
   "metadata": {},
   "outputs": [
    {
     "name": "stdout",
     "output_type": "stream",
     "text": [
      "<class 'pandas.core.frame.DataFrame'>\n",
      "DatetimeIndex: 3069 entries, 2013-12-31 to 2022-11-16\n",
      "Data columns (total 10 columns):\n",
      " #   Column   Non-Null Count  Dtype  \n",
      "---  ------   --------------  -----  \n",
      " 0   pm25     698 non-null    float64\n",
      " 1   pm10     2959 non-null   float64\n",
      " 2   o3       2954 non-null   float64\n",
      " 3   no2      2057 non-null   float64\n",
      " 4   so2      2370 non-null   float64\n",
      " 5   co       1126 non-null   float64\n",
      " 6   lat      3069 non-null   float64\n",
      " 7   lon      3069 non-null   float64\n",
      " 8   country  3069 non-null   object \n",
      " 9   station  3069 non-null   object \n",
      "dtypes: float64(8), object(2)\n",
      "memory usage: 263.7+ KB\n"
     ]
    }
   ],
   "source": [
    "df.info()"
   ]
  },
  {
   "cell_type": "code",
   "execution_count": null,
   "id": "fa3a833b-c97d-49ae-9cd1-f2f5c3d20955",
   "metadata": {},
   "outputs": [
    {
     "data": {
      "text/plain": [
       "3069"
      ]
     },
     "execution_count": null,
     "metadata": {},
     "output_type": "execute_result"
    }
   ],
   "source": [
    "len(df)"
   ]
  },
  {
   "cell_type": "code",
   "execution_count": null,
   "id": "01693cc9-f9b0-43e5-9ba3-43ac339e1c14",
   "metadata": {},
   "outputs": [],
   "source": [
    "# Subset dataframe include ['pm10', 'lat', 'lon', 'country', 'station'] columns\n",
    "def pm10(df):\n",
    "    if 'pm10' in df.columns:\n",
    "        df_pm10 = df[['pm10', 'lat', 'lon', 'country', 'station']]\n",
    "        return df_pm10\n",
    "    else:\n",
    "        return None"
   ]
  },
  {
   "cell_type": "code",
   "execution_count": null,
   "id": "9fe1fb77-18d7-4ab0-8d8c-3f91e0761563",
   "metadata": {},
   "outputs": [
    {
     "data": {
      "text/html": [
       "<div>\n",
       "<style scoped>\n",
       "    .dataframe tbody tr th:only-of-type {\n",
       "        vertical-align: middle;\n",
       "    }\n",
       "\n",
       "    .dataframe tbody tr th {\n",
       "        vertical-align: top;\n",
       "    }\n",
       "\n",
       "    .dataframe thead th {\n",
       "        text-align: right;\n",
       "    }\n",
       "</style>\n",
       "<table border=\"1\" class=\"dataframe\">\n",
       "  <thead>\n",
       "    <tr style=\"text-align: right;\">\n",
       "      <th></th>\n",
       "      <th>pm10</th>\n",
       "      <th>lat</th>\n",
       "      <th>lon</th>\n",
       "      <th>country</th>\n",
       "      <th>station</th>\n",
       "    </tr>\n",
       "    <tr>\n",
       "      <th>date</th>\n",
       "      <th></th>\n",
       "      <th></th>\n",
       "      <th></th>\n",
       "      <th></th>\n",
       "      <th></th>\n",
       "    </tr>\n",
       "  </thead>\n",
       "  <tbody>\n",
       "    <tr>\n",
       "      <th>2013-12-31</th>\n",
       "      <td>NaN</td>\n",
       "      <td>37.186701</td>\n",
       "      <td>35.264586</td>\n",
       "      <td>Turkey</td>\n",
       "      <td>Adana catalan</td>\n",
       "    </tr>\n",
       "    <tr>\n",
       "      <th>2014-01-01</th>\n",
       "      <td>24.0</td>\n",
       "      <td>37.186701</td>\n",
       "      <td>35.264586</td>\n",
       "      <td>Turkey</td>\n",
       "      <td>Adana catalan</td>\n",
       "    </tr>\n",
       "    <tr>\n",
       "      <th>2014-01-02</th>\n",
       "      <td>24.0</td>\n",
       "      <td>37.186701</td>\n",
       "      <td>35.264586</td>\n",
       "      <td>Turkey</td>\n",
       "      <td>Adana catalan</td>\n",
       "    </tr>\n",
       "    <tr>\n",
       "      <th>2014-01-03</th>\n",
       "      <td>24.0</td>\n",
       "      <td>37.186701</td>\n",
       "      <td>35.264586</td>\n",
       "      <td>Turkey</td>\n",
       "      <td>Adana catalan</td>\n",
       "    </tr>\n",
       "    <tr>\n",
       "      <th>2014-01-04</th>\n",
       "      <td>23.0</td>\n",
       "      <td>37.186701</td>\n",
       "      <td>35.264586</td>\n",
       "      <td>Turkey</td>\n",
       "      <td>Adana catalan</td>\n",
       "    </tr>\n",
       "  </tbody>\n",
       "</table>\n",
       "</div>"
      ],
      "text/plain": [
       "            pm10        lat        lon country        station\n",
       "date                                                         \n",
       "2013-12-31   NaN  37.186701  35.264586  Turkey  Adana catalan\n",
       "2014-01-01  24.0  37.186701  35.264586  Turkey  Adana catalan\n",
       "2014-01-02  24.0  37.186701  35.264586  Turkey  Adana catalan\n",
       "2014-01-03  24.0  37.186701  35.264586  Turkey  Adana catalan\n",
       "2014-01-04  23.0  37.186701  35.264586  Turkey  Adana catalan"
      ]
     },
     "execution_count": null,
     "metadata": {},
     "output_type": "execute_result"
    }
   ],
   "source": [
    "df_pm10 = pm10(df)\n",
    "df_pm10.head()"
   ]
  },
  {
   "cell_type": "code",
   "execution_count": null,
   "id": "e6653bb2-fcc5-4b91-99e9-8dc809166e12",
   "metadata": {},
   "outputs": [
    {
     "data": {
      "text/plain": [
       "['pm10']"
      ]
     },
     "execution_count": null,
     "metadata": {},
     "output_type": "execute_result"
    }
   ],
   "source": [
    "# Checking `NaN` values in columns\n",
    "df_pm10.columns[df_pm10.isna().any()].tolist()"
   ]
  },
  {
   "cell_type": "code",
   "execution_count": null,
   "id": "e00e556c-3e88-40fe-b887-93f4279d18f3",
   "metadata": {},
   "outputs": [],
   "source": [
    "# Drop 'NaN' rows\n",
    "df_pm10.dropna(inplace=True)"
   ]
  },
  {
   "cell_type": "code",
   "execution_count": null,
   "id": "fa7bfdfd-c721-404c-ab19-170bbbdb5036",
   "metadata": {},
   "outputs": [
    {
     "data": {
      "text/plain": [
       "2959"
      ]
     },
     "execution_count": null,
     "metadata": {},
     "output_type": "execute_result"
    }
   ],
   "source": [
    "len(df_pm10)"
   ]
  },
  {
   "cell_type": "code",
   "execution_count": null,
   "id": "072d701c-6491-45a9-81a6-6901ec931976",
   "metadata": {},
   "outputs": [
    {
     "data": {
      "text/plain": [
       "746.0"
      ]
     },
     "execution_count": null,
     "metadata": {},
     "output_type": "execute_result"
    }
   ],
   "source": [
    "df_pm10['pm10'].max()"
   ]
  },
  {
   "cell_type": "code",
   "execution_count": null,
   "id": "e6224fc4-f82a-41a1-9083-fdc9b3a26df7",
   "metadata": {},
   "outputs": [
    {
     "data": {
      "text/plain": [
       "433.0"
      ]
     },
     "execution_count": null,
     "metadata": {},
     "output_type": "execute_result"
    }
   ],
   "source": [
    "# Maximum AQI is 500, so AQI more than this value should be drop\n",
    "dfpm10 = df_pm10[df_pm10['pm10'] <= 500]\n",
    "dfpm10.pm10.max()"
   ]
  },
  {
   "cell_type": "code",
   "execution_count": null,
   "id": "37991dec-a7df-4b65-b351-9f22d7f8a107",
   "metadata": {},
   "outputs": [
    {
     "data": {
      "text/plain": [
       "2957"
      ]
     },
     "execution_count": null,
     "metadata": {},
     "output_type": "execute_result"
    }
   ],
   "source": [
    "len(aa)"
   ]
  },
  {
   "cell_type": "code",
   "execution_count": null,
   "id": "52574a18-f485-4cd3-a03f-0ce82edd0740",
   "metadata": {},
   "outputs": [],
   "source": [
    "# define a function to calculate concentration value `cc` from AQI value.\n",
    "def aqi_to_cc_pm10(x):\n",
    "    cc = aqi.to_cc(aqi.POLLUTANT_PM10, x, algo=aqi.ALGO_EPA) # calculate PM10 concentration.\n",
    "    pm10_cc = pd.to_numeric(cc) # convert series to float number.\n",
    "    return pm10_cc"
   ]
  },
  {
   "cell_type": "code",
   "execution_count": null,
   "id": "c5960c0e-5b85-4c41-b929-707dbb31bc82",
   "metadata": {},
   "outputs": [],
   "source": [
    "# Using function and create new column `PM10_ug/m3` for results as pm10 concentration.\n",
    "dfpm10['PM10_ug/m3'] = dfpm10['pm10'].apply(aqi_to_cc_pm10)"
   ]
  },
  {
   "cell_type": "code",
   "execution_count": null,
   "id": "9a600286-9425-4c3d-806d-3e342eb83531",
   "metadata": {},
   "outputs": [
    {
     "data": {
      "text/html": [
       "<div>\n",
       "<style scoped>\n",
       "    .dataframe tbody tr th:only-of-type {\n",
       "        vertical-align: middle;\n",
       "    }\n",
       "\n",
       "    .dataframe tbody tr th {\n",
       "        vertical-align: top;\n",
       "    }\n",
       "\n",
       "    .dataframe thead th {\n",
       "        text-align: right;\n",
       "    }\n",
       "</style>\n",
       "<table border=\"1\" class=\"dataframe\">\n",
       "  <thead>\n",
       "    <tr style=\"text-align: right;\">\n",
       "      <th></th>\n",
       "      <th>pm10</th>\n",
       "      <th>lat</th>\n",
       "      <th>lon</th>\n",
       "      <th>country</th>\n",
       "      <th>station</th>\n",
       "      <th>PM10_ug/m3</th>\n",
       "    </tr>\n",
       "    <tr>\n",
       "      <th>date</th>\n",
       "      <th></th>\n",
       "      <th></th>\n",
       "      <th></th>\n",
       "      <th></th>\n",
       "      <th></th>\n",
       "      <th></th>\n",
       "    </tr>\n",
       "  </thead>\n",
       "  <tbody>\n",
       "    <tr>\n",
       "      <th>2014-01-01</th>\n",
       "      <td>24.0</td>\n",
       "      <td>37.186701</td>\n",
       "      <td>35.264586</td>\n",
       "      <td>Turkey</td>\n",
       "      <td>Adana catalan</td>\n",
       "      <td>25.0</td>\n",
       "    </tr>\n",
       "    <tr>\n",
       "      <th>2014-01-02</th>\n",
       "      <td>24.0</td>\n",
       "      <td>37.186701</td>\n",
       "      <td>35.264586</td>\n",
       "      <td>Turkey</td>\n",
       "      <td>Adana catalan</td>\n",
       "      <td>25.0</td>\n",
       "    </tr>\n",
       "    <tr>\n",
       "      <th>2014-01-03</th>\n",
       "      <td>24.0</td>\n",
       "      <td>37.186701</td>\n",
       "      <td>35.264586</td>\n",
       "      <td>Turkey</td>\n",
       "      <td>Adana catalan</td>\n",
       "      <td>25.0</td>\n",
       "    </tr>\n",
       "    <tr>\n",
       "      <th>2014-01-04</th>\n",
       "      <td>23.0</td>\n",
       "      <td>37.186701</td>\n",
       "      <td>35.264586</td>\n",
       "      <td>Turkey</td>\n",
       "      <td>Adana catalan</td>\n",
       "      <td>24.0</td>\n",
       "    </tr>\n",
       "    <tr>\n",
       "      <th>2014-01-05</th>\n",
       "      <td>29.0</td>\n",
       "      <td>37.186701</td>\n",
       "      <td>35.264586</td>\n",
       "      <td>Turkey</td>\n",
       "      <td>Adana catalan</td>\n",
       "      <td>31.0</td>\n",
       "    </tr>\n",
       "  </tbody>\n",
       "</table>\n",
       "</div>"
      ],
      "text/plain": [
       "            pm10        lat        lon country        station  PM10_ug/m3\n",
       "date                                                                     \n",
       "2014-01-01  24.0  37.186701  35.264586  Turkey  Adana catalan        25.0\n",
       "2014-01-02  24.0  37.186701  35.264586  Turkey  Adana catalan        25.0\n",
       "2014-01-03  24.0  37.186701  35.264586  Turkey  Adana catalan        25.0\n",
       "2014-01-04  23.0  37.186701  35.264586  Turkey  Adana catalan        24.0\n",
       "2014-01-05  29.0  37.186701  35.264586  Turkey  Adana catalan        31.0"
      ]
     },
     "execution_count": null,
     "metadata": {},
     "output_type": "execute_result"
    }
   ],
   "source": [
    "dfpm10.head()"
   ]
  },
  {
   "cell_type": "code",
   "execution_count": null,
   "id": "7cb56f25-bd56-4583-9442-34bd9f5544e9",
   "metadata": {},
   "outputs": [
    {
     "data": {
      "text/plain": [
       "2957"
      ]
     },
     "execution_count": null,
     "metadata": {},
     "output_type": "execute_result"
    }
   ],
   "source": [
    "len(dfpm10)"
   ]
  },
  {
   "cell_type": "code",
   "execution_count": null,
   "id": "7fe0bd6b-1cd4-4849-9dc0-97fa8d1e2ee1",
   "metadata": {},
   "outputs": [
    {
     "data": {
      "text/html": [
       "<div>\n",
       "<style scoped>\n",
       "    .dataframe tbody tr th:only-of-type {\n",
       "        vertical-align: middle;\n",
       "    }\n",
       "\n",
       "    .dataframe tbody tr th {\n",
       "        vertical-align: top;\n",
       "    }\n",
       "\n",
       "    .dataframe thead th {\n",
       "        text-align: right;\n",
       "    }\n",
       "</style>\n",
       "<table border=\"1\" class=\"dataframe\">\n",
       "  <thead>\n",
       "    <tr style=\"text-align: right;\">\n",
       "      <th></th>\n",
       "      <th>pm10</th>\n",
       "      <th>lat</th>\n",
       "      <th>lon</th>\n",
       "      <th>country</th>\n",
       "      <th>station</th>\n",
       "      <th>PM10_ug/m3</th>\n",
       "    </tr>\n",
       "    <tr>\n",
       "      <th>date</th>\n",
       "      <th></th>\n",
       "      <th></th>\n",
       "      <th></th>\n",
       "      <th></th>\n",
       "      <th></th>\n",
       "      <th></th>\n",
       "    </tr>\n",
       "  </thead>\n",
       "  <tbody>\n",
       "    <tr>\n",
       "      <th>2014-09-10</th>\n",
       "      <td>25.0</td>\n",
       "      <td>37.186701</td>\n",
       "      <td>35.264586</td>\n",
       "      <td>Turkey</td>\n",
       "      <td>Adana catalan</td>\n",
       "      <td>27.0</td>\n",
       "    </tr>\n",
       "    <tr>\n",
       "      <th>2014-09-11</th>\n",
       "      <td>26.0</td>\n",
       "      <td>37.186701</td>\n",
       "      <td>35.264586</td>\n",
       "      <td>Turkey</td>\n",
       "      <td>Adana catalan</td>\n",
       "      <td>28.0</td>\n",
       "    </tr>\n",
       "    <tr>\n",
       "      <th>2014-09-12</th>\n",
       "      <td>29.0</td>\n",
       "      <td>37.186701</td>\n",
       "      <td>35.264586</td>\n",
       "      <td>Turkey</td>\n",
       "      <td>Adana catalan</td>\n",
       "      <td>31.0</td>\n",
       "    </tr>\n",
       "    <tr>\n",
       "      <th>2014-09-13</th>\n",
       "      <td>34.0</td>\n",
       "      <td>37.186701</td>\n",
       "      <td>35.264586</td>\n",
       "      <td>Turkey</td>\n",
       "      <td>Adana catalan</td>\n",
       "      <td>36.0</td>\n",
       "    </tr>\n",
       "    <tr>\n",
       "      <th>2014-09-14</th>\n",
       "      <td>27.0</td>\n",
       "      <td>37.186701</td>\n",
       "      <td>35.264586</td>\n",
       "      <td>Turkey</td>\n",
       "      <td>Adana catalan</td>\n",
       "      <td>29.0</td>\n",
       "    </tr>\n",
       "    <tr>\n",
       "      <th>2014-09-15</th>\n",
       "      <td>27.0</td>\n",
       "      <td>37.186701</td>\n",
       "      <td>35.264586</td>\n",
       "      <td>Turkey</td>\n",
       "      <td>Adana catalan</td>\n",
       "      <td>29.0</td>\n",
       "    </tr>\n",
       "    <tr>\n",
       "      <th>2014-09-16</th>\n",
       "      <td>28.0</td>\n",
       "      <td>37.186701</td>\n",
       "      <td>35.264586</td>\n",
       "      <td>Turkey</td>\n",
       "      <td>Adana catalan</td>\n",
       "      <td>30.0</td>\n",
       "    </tr>\n",
       "    <tr>\n",
       "      <th>2014-09-17</th>\n",
       "      <td>20.0</td>\n",
       "      <td>37.186701</td>\n",
       "      <td>35.264586</td>\n",
       "      <td>Turkey</td>\n",
       "      <td>Adana catalan</td>\n",
       "      <td>21.0</td>\n",
       "    </tr>\n",
       "    <tr>\n",
       "      <th>2014-09-18</th>\n",
       "      <td>20.0</td>\n",
       "      <td>37.186701</td>\n",
       "      <td>35.264586</td>\n",
       "      <td>Turkey</td>\n",
       "      <td>Adana catalan</td>\n",
       "      <td>21.0</td>\n",
       "    </tr>\n",
       "    <tr>\n",
       "      <th>2014-09-19</th>\n",
       "      <td>16.0</td>\n",
       "      <td>37.186701</td>\n",
       "      <td>35.264586</td>\n",
       "      <td>Turkey</td>\n",
       "      <td>Adana catalan</td>\n",
       "      <td>17.0</td>\n",
       "    </tr>\n",
       "  </tbody>\n",
       "</table>\n",
       "</div>"
      ],
      "text/plain": [
       "            pm10        lat        lon country        station  PM10_ug/m3\n",
       "date                                                                     \n",
       "2014-09-10  25.0  37.186701  35.264586  Turkey  Adana catalan        27.0\n",
       "2014-09-11  26.0  37.186701  35.264586  Turkey  Adana catalan        28.0\n",
       "2014-09-12  29.0  37.186701  35.264586  Turkey  Adana catalan        31.0\n",
       "2014-09-13  34.0  37.186701  35.264586  Turkey  Adana catalan        36.0\n",
       "2014-09-14  27.0  37.186701  35.264586  Turkey  Adana catalan        29.0\n",
       "2014-09-15  27.0  37.186701  35.264586  Turkey  Adana catalan        29.0\n",
       "2014-09-16  28.0  37.186701  35.264586  Turkey  Adana catalan        30.0\n",
       "2014-09-17  20.0  37.186701  35.264586  Turkey  Adana catalan        21.0\n",
       "2014-09-18  20.0  37.186701  35.264586  Turkey  Adana catalan        21.0\n",
       "2014-09-19  16.0  37.186701  35.264586  Turkey  Adana catalan        17.0"
      ]
     },
     "execution_count": null,
     "metadata": {},
     "output_type": "execute_result"
    }
   ],
   "source": [
    "dfpm10[220:230] # checking by index"
   ]
  },
  {
   "cell_type": "markdown",
   "id": "2e8454b3-ec55-4b53-814a-6c7b59c5a7f4",
   "metadata": {},
   "source": [
    "## Function for convert AQI to Concentration"
   ]
  },
  {
   "cell_type": "code",
   "execution_count": null,
   "id": "cb51b0fc-5c1a-4c1b-b08c-b279549f71c2",
   "metadata": {},
   "outputs": [
    {
     "data": {
      "text/html": [
       "<div>\n",
       "<style scoped>\n",
       "    .dataframe tbody tr th:only-of-type {\n",
       "        vertical-align: middle;\n",
       "    }\n",
       "\n",
       "    .dataframe tbody tr th {\n",
       "        vertical-align: top;\n",
       "    }\n",
       "\n",
       "    .dataframe thead th {\n",
       "        text-align: right;\n",
       "    }\n",
       "</style>\n",
       "<table border=\"1\" class=\"dataframe\">\n",
       "  <thead>\n",
       "    <tr style=\"text-align: right;\">\n",
       "      <th></th>\n",
       "      <th>date</th>\n",
       "      <th>pm25</th>\n",
       "      <th>lat</th>\n",
       "      <th>lon</th>\n",
       "      <th>country</th>\n",
       "      <th>station</th>\n",
       "    </tr>\n",
       "  </thead>\n",
       "  <tbody>\n",
       "    <tr>\n",
       "      <th>0</th>\n",
       "      <td>2019-01-01</td>\n",
       "      <td>NaN</td>\n",
       "      <td>32.989</td>\n",
       "      <td>47.414305</td>\n",
       "      <td>Iran</td>\n",
       "      <td>Abdanan</td>\n",
       "    </tr>\n",
       "    <tr>\n",
       "      <th>1</th>\n",
       "      <td>2019-01-02</td>\n",
       "      <td>NaN</td>\n",
       "      <td>32.989</td>\n",
       "      <td>47.414305</td>\n",
       "      <td>Iran</td>\n",
       "      <td>Abdanan</td>\n",
       "    </tr>\n",
       "    <tr>\n",
       "      <th>2</th>\n",
       "      <td>2019-01-03</td>\n",
       "      <td>NaN</td>\n",
       "      <td>32.989</td>\n",
       "      <td>47.414305</td>\n",
       "      <td>Iran</td>\n",
       "      <td>Abdanan</td>\n",
       "    </tr>\n",
       "    <tr>\n",
       "      <th>3</th>\n",
       "      <td>2019-01-04</td>\n",
       "      <td>NaN</td>\n",
       "      <td>32.989</td>\n",
       "      <td>47.414305</td>\n",
       "      <td>Iran</td>\n",
       "      <td>Abdanan</td>\n",
       "    </tr>\n",
       "    <tr>\n",
       "      <th>4</th>\n",
       "      <td>2019-01-06</td>\n",
       "      <td>NaN</td>\n",
       "      <td>32.989</td>\n",
       "      <td>47.414305</td>\n",
       "      <td>Iran</td>\n",
       "      <td>Abdanan</td>\n",
       "    </tr>\n",
       "  </tbody>\n",
       "</table>\n",
       "</div>"
      ],
      "text/plain": [
       "         date  pm25     lat        lon country  station\n",
       "0  2019-01-01   NaN  32.989  47.414305    Iran  Abdanan\n",
       "1  2019-01-02   NaN  32.989  47.414305    Iran  Abdanan\n",
       "2  2019-01-03   NaN  32.989  47.414305    Iran  Abdanan\n",
       "3  2019-01-04   NaN  32.989  47.414305    Iran  Abdanan\n",
       "4  2019-01-06   NaN  32.989  47.414305    Iran  Abdanan"
      ]
     },
     "execution_count": null,
     "metadata": {},
     "output_type": "execute_result"
    }
   ],
   "source": [
    "import pandas as df\n",
    "iran = pd.read_csv('./AQICN_Dataset/Cleand_AQI_data/Iran/ir_abdanan.csv')\n",
    "iran.head()"
   ]
  },
  {
   "cell_type": "code",
   "execution_count": null,
   "id": "e0dd4a4e-95db-4c72-9533-3fe4f62a9880",
   "metadata": {},
   "outputs": [
    {
     "data": {
      "text/html": [
       "<div>\n",
       "<style scoped>\n",
       "    .dataframe tbody tr th:only-of-type {\n",
       "        vertical-align: middle;\n",
       "    }\n",
       "\n",
       "    .dataframe tbody tr th {\n",
       "        vertical-align: top;\n",
       "    }\n",
       "\n",
       "    .dataframe thead th {\n",
       "        text-align: right;\n",
       "    }\n",
       "</style>\n",
       "<table border=\"1\" class=\"dataframe\">\n",
       "  <thead>\n",
       "    <tr style=\"text-align: right;\">\n",
       "      <th></th>\n",
       "      <th>date</th>\n",
       "      <th>pm25</th>\n",
       "      <th>pm10</th>\n",
       "      <th>o3</th>\n",
       "      <th>no2</th>\n",
       "      <th>so2</th>\n",
       "      <th>co</th>\n",
       "      <th>lat</th>\n",
       "      <th>lon</th>\n",
       "      <th>country</th>\n",
       "      <th>station</th>\n",
       "    </tr>\n",
       "  </thead>\n",
       "  <tbody>\n",
       "    <tr>\n",
       "      <th>0</th>\n",
       "      <td>2022-11-01</td>\n",
       "      <td>58.0</td>\n",
       "      <td>36.0</td>\n",
       "      <td>NaN</td>\n",
       "      <td>12.0</td>\n",
       "      <td>1.0</td>\n",
       "      <td>2.0</td>\n",
       "      <td>34.9159</td>\n",
       "      <td>33.62749</td>\n",
       "      <td>CY</td>\n",
       "      <td>larnaca-traffic</td>\n",
       "    </tr>\n",
       "    <tr>\n",
       "      <th>1</th>\n",
       "      <td>2022-11-02</td>\n",
       "      <td>58.0</td>\n",
       "      <td>40.0</td>\n",
       "      <td>NaN</td>\n",
       "      <td>13.0</td>\n",
       "      <td>1.0</td>\n",
       "      <td>3.0</td>\n",
       "      <td>34.9159</td>\n",
       "      <td>33.62749</td>\n",
       "      <td>CY</td>\n",
       "      <td>larnaca-traffic</td>\n",
       "    </tr>\n",
       "    <tr>\n",
       "      <th>2</th>\n",
       "      <td>2022-11-03</td>\n",
       "      <td>65.0</td>\n",
       "      <td>33.0</td>\n",
       "      <td>NaN</td>\n",
       "      <td>13.0</td>\n",
       "      <td>1.0</td>\n",
       "      <td>2.0</td>\n",
       "      <td>34.9159</td>\n",
       "      <td>33.62749</td>\n",
       "      <td>CY</td>\n",
       "      <td>larnaca-traffic</td>\n",
       "    </tr>\n",
       "    <tr>\n",
       "      <th>3</th>\n",
       "      <td>2022-11-04</td>\n",
       "      <td>60.0</td>\n",
       "      <td>34.0</td>\n",
       "      <td>NaN</td>\n",
       "      <td>14.0</td>\n",
       "      <td>1.0</td>\n",
       "      <td>3.0</td>\n",
       "      <td>34.9159</td>\n",
       "      <td>33.62749</td>\n",
       "      <td>CY</td>\n",
       "      <td>larnaca-traffic</td>\n",
       "    </tr>\n",
       "    <tr>\n",
       "      <th>4</th>\n",
       "      <td>2022-11-05</td>\n",
       "      <td>64.0</td>\n",
       "      <td>34.0</td>\n",
       "      <td>NaN</td>\n",
       "      <td>8.0</td>\n",
       "      <td>1.0</td>\n",
       "      <td>2.0</td>\n",
       "      <td>34.9159</td>\n",
       "      <td>33.62749</td>\n",
       "      <td>CY</td>\n",
       "      <td>larnaca-traffic</td>\n",
       "    </tr>\n",
       "  </tbody>\n",
       "</table>\n",
       "</div>"
      ],
      "text/plain": [
       "         date  pm25  pm10  o3   no2  so2   co      lat       lon country  \\\n",
       "0  2022-11-01  58.0  36.0 NaN  12.0  1.0  2.0  34.9159  33.62749      CY   \n",
       "1  2022-11-02  58.0  40.0 NaN  13.0  1.0  3.0  34.9159  33.62749      CY   \n",
       "2  2022-11-03  65.0  33.0 NaN  13.0  1.0  2.0  34.9159  33.62749      CY   \n",
       "3  2022-11-04  60.0  34.0 NaN  14.0  1.0  3.0  34.9159  33.62749      CY   \n",
       "4  2022-11-05  64.0  34.0 NaN   8.0  1.0  2.0  34.9159  33.62749      CY   \n",
       "\n",
       "           station  \n",
       "0  larnaca-traffic  \n",
       "1  larnaca-traffic  \n",
       "2  larnaca-traffic  \n",
       "3  larnaca-traffic  \n",
       "4  larnaca-traffic  "
      ]
     },
     "execution_count": null,
     "metadata": {},
     "output_type": "execute_result"
    }
   ],
   "source": [
    "iran = pd.read_csv('./AQICN_Dataset/Cleand_AQI_data/Cyprus/cy_larnaca_traffic.csv')\n",
    "iran.head()"
   ]
  },
  {
   "cell_type": "code",
   "execution_count": null,
   "id": "11667978-c430-42e1-a8a1-4eb26e452fce",
   "metadata": {},
   "outputs": [],
   "source": [
    "# import libraries\n",
    "import pandas as pd\n",
    "import numpy as np\n",
    "import aqi\n",
    "import os\n",
    "from glob import glob\n",
    "import warnings\n",
    "warnings.filterwarnings('ignore')\n",
    "\n",
    "# Subset dataframe include ['pm10', 'lat', 'lon', 'country', 'station'] columns\n",
    "## if there is not `pm10` convert df to empty dataframe to go next iterate\n",
    "def cols(df):\n",
    "    if 'pm10' in df.columns:\n",
    "        #print(df.columns)\n",
    "        df_pm10 = df[['date', 'pm10', 'lat', 'lon', 'country', 'station']]\n",
    "        return df_pm10\n",
    "    else:\n",
    "        #print(df.columns)\n",
    "        df_empty = pd.DataFrame(columns=df.columns)\n",
    "        return df_empty\n",
    "\n",
    "# Definning a function to calculate concentration value `cc` from AQI value.\n",
    "def aqi_to_cc_pm10(x):\n",
    "    cc = aqi.to_cc(aqi.POLLUTANT_PM10, x, algo=aqi.ALGO_EPA) # calculate PM10 concentration.\n",
    "    pm10_cc = pd.to_numeric(cc) # convert series to float number.\n",
    "    return pm10_cc\n",
    "\n",
    "# Applying for CSV files\n",
    "def aqi_to_cc(path):\n",
    "    files = glob(path + '*.csv')\n",
    "    for csvfile in files:\n",
    "        df = pd.read_csv(csvfile, sep = ',') # read csv\n",
    "        #df['date'] = pd.to_datetime(df['date'], format='%Y/%m/%d') # change `date` column to 'datetime'.\n",
    "        #df.set_index(['date'], inplace=True) # setting index column.\n",
    "        #df = df.sort_index() # sort date based on `datetime`.\n",
    "        # Keep necessary columns\n",
    "        df_cols = cols(df)\n",
    "        if df_cols.empty:\n",
    "            continue\n",
    "        else:\n",
    "            # Drop 'NaN' rows\n",
    "            df_cols = df_cols.dropna()\n",
    "            df_cols.reset_index(drop=True, inplace=True)\n",
    "        \n",
    "            # Maximum AQI is 500, so AQI more than this value should be drop\n",
    "            df_pm10 = df_cols[df_cols['pm10'] <= 500]\n",
    "            # Convert AQI to CC and create new column `PM10_ug/m3` for results as pm10 concentration.\n",
    "            df_pm10['PM10_ug/m3'] = df_pm10['pm10'].apply(aqi_to_cc_pm10)\n",
    "\n",
    "            # Save final dataframe\n",
    "            df_pm10.to_csv(os.path.splitext(csvfile)[0] + '_pm10.csv',\n",
    "                           index=False)\n",
    "            \n",
    "            # Delete variables\n",
    "            del df_cols\n",
    "\n",
    "        del (df, df_pm10)"
   ]
  },
  {
   "cell_type": "code",
   "execution_count": null,
   "id": "920d12a5-c6ea-47fb-81e7-5433c1aa7ee7",
   "metadata": {},
   "outputs": [],
   "source": [
    "path = './AQICN_Dataset/Cleand_AQI_data/Iran/'\n",
    "aqi_to_cc(path)"
   ]
  }
 ],
 "metadata": {
  "kernelspec": {
   "display_name": "Python 3 (ipykernel)",
   "language": "python",
   "name": "python3"
  },
  "language_info": {
   "codemirror_mode": {
    "name": "ipython",
    "version": 3
   },
   "file_extension": ".py",
   "mimetype": "text/x-python",
   "name": "python",
   "nbconvert_exporter": "python",
   "pygments_lexer": "ipython3",
   "version": "3.11.3"
  }
 },
 "nbformat": 4,
 "nbformat_minor": 5
}
