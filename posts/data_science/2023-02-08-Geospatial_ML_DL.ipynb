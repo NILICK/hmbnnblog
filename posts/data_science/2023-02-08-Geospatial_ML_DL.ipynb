{
 "cells": [
  {
   "cell_type": "raw",
   "id": "bf2ce402-68b9-4c32-a64c-2a4038b332e8",
   "metadata": {},
   "source": [
    "---\n",
    "title: \"GepSpatial ML-DL Sources\"\n",
    "description: \"Web Resources for GeoSpatial Machine Learning and Deep Learning.\"\n",
    "author: \"Me\"\n",
    "date: \"2023-02-08\"\n",
    "categories: [GeoSpatial, ML, DL]\n",
    "image: images/ML_Spatial.jpg\n",
    "skip_exec: true\n",
    "skip_showdoc: true\n",
    "---"
   ]
  },
  {
   "cell_type": "markdown",
   "id": "a9e55c06-8b1e-4e4d-89ae-2976ef27ba4b",
   "metadata": {},
   "source": [
    "## Github Codes"
   ]
  },
  {
   "cell_type": "markdown",
   "id": "7bca00b3-b213-4d90-bf31-fc11e25fa2c7",
   "metadata": {},
   "source": [
    "- [Datasets for deep learning with satellite & aerial imagery](https://github.com/satellite-image-deep-learning/datasets)\n",
    "- [lists software for working with satellite & aerial imagery data & datasets.](https://github.com/satellite-image-deep-learning/software)\n",
    "- [course](https://github.com/satellite-image-deep-learning/course)\n",
    "- [Training and deployment of deep learning models for satellite & aerial imagery](https://github.com/satellite-image-deep-learning/model-training-and-deployment)\n",
    "- [Annotation of datasets for deep learning applied to satellite and aerial imagery](https://github.com/satellite-image-deep-learning/annotation)\n",
    "- [Mineral Prediction Mapping with Machine Learning](https://github.com/jack-tuna/Jupyter-Workings/blob/master/Mineral%20Prediction%20Map%20with%20Machine%20Learning.ipynb)\n",
    "- [Predicting Spatial Data with Machine Learning](http://geologyandpython.com/ml-interpolation-method.html)\n",
    "- - [geospatial-machine-learning](https://github.com/deepVector/geospatial-machine-learning)\n",
    "- [Python module for geospatial prediction using scikit-learn and rasterio](https://github.com/perrygeo/pyimpute)\n",
    "- [geospatial-learn](https://github.com/Ciaran1981/geospatial-learn)\n",
    "- [Darts: Time Series Made Easy in Python](https://github.com/unit8co/darts/)\n",
    "- [Course materials for: Geospatial Data Science](https://github.com/mszell/geospatialdatascience)\n",
    "- [Deep learning (DL) on satellite imagery](https://github.com/alabarga/geospatial-python/wiki/Deep-learning-(DL)-on-satellite-imagery)\n",
    "- [A Training of Trainers Bootcamp on Machine Learning for Earth Observations](https://github.com/radiantearth/ml4eo-bootcamp-2021)\n",
    "- [Pyspatialml: Machine learning classification and regression modelling for spatial raster data](https://github.com/stevenpawley/pyspatialml)\n",
    "- [TorchGeo: datasets, samplers, transforms, and pre-trained models for geospatial data](https://github.com/microsoft/torchgeo/)\n",
    "- [Land Cover Mapping](https://github.com/microsoft/landcover)\n",
    "- [Land cover mapping of the Orinoquía region in Colombia, in collaboration with Wildlife Conservation Society Colombia](https://github.com/microsoft/landcover-orinoquia)\n",
    "- [Spatial Data Science: Spatial Data Storage](https://towardsdatascience.com/spatial-data-science-spatial-data-storage-364a8df4038c)\n",
    "- [Spatial classification and regression using Scikit-learn and Rasterio](https://github.com/perrygeo/pyimpute)\n",
    "- [Algorithms and utilities for Synthetic Aperture Radar (SAR) sensors](https://github.com/bopen/sarsen)\n",
    "- [Awesome-EarthObservation-Code](https://github.com/acgeospatial/awesome-earthobservation-code)\n",
    "- [Machine Learning Notebooks](https://github.com/dair-ai/ML-Notebooks)\n",
    "- [Sharing machine learning course / lecture notes](https://github.com/dair-ai/ML-Course-Notes)\n",
    "- [Explanation to key concepts in ML](https://github.com/dair-ai/ML-Papers-Explained)\n",
    "- [10 Weeks, 20 Lessons, Data Science for All!](https://github.com/microsoft/Data-Science-For-Beginners)"
   ]
  },
  {
   "cell_type": "markdown",
   "id": "6527c1bb-ee14-4a96-9c4f-938343c1cf50",
   "metadata": {},
   "source": [
    "## Tutorials & Articles"
   ]
  },
  {
   "cell_type": "markdown",
   "id": "e3e1660c-764f-4050-a6e0-620ffdbc0a92",
   "metadata": {},
   "source": [
    "- [Introduction to Machine Learning with scikit-learn](https://courses.dataschool.io/introduction-to-machine-learning-with-scikit-learn)\n",
    "- [Python examples of popular machine learning algorithms with interactive Jupyter demos and math being explained](https://github.com/NILICK/homemade-machine-learning)\n",
    "- [An Introduction to Earth and Environmental Data Science](https://earth-env-data-science.github.io/intro.html)\n",
    "- [The Illustrated Machine Learning website](https://illustrated-machine-learning.github.io/)\n",
    "- [Machine Learning on Earth Observation: ML4EO Bootcamp](https://online.atingi.org/mod/h5pactivity/view.php?id=29792#h5pbookid=3584&chapter=h5p-interactive-book-chapter-9b980b4e-9763-45bd-b299-8183acd4e676&section=0)\n",
    "- [Predicting Rain from Satellite Images](https://towardsdatascience.com/predicting-rain-from-satellite-images-c9fec24c3dd1)\n",
    "- [Exciting Machine Learning Project On Satellite Images](https://towardsdatascience.com/exciting-machine-learning-project-on-satellite-images-a4214e275863)\n",
    "- [Applying Deep Learning on Satellite Imagery Classification](https://medium.datadriveninvestor.com/applying-deep-learning-on-satellite-imagery-classification-5f2588b932c1)\n",
    "- [Mineral Prediction Mapping with Machine Learning](https://medium.com/@jackmaughan_50251/mineral-prediction-mapping-with-machine-learning-67a3846b3544)\n",
    "- [Geospatial Machine Learning](http://www.wvview.org/os_gisc/python/spatial_ml/site/index.html)\n",
    "- [Geospatial Deep Learning](http://www.wvview.org/geospatdl.html)\n",
    "- [Introducing Machine Learning for Spatial Data Analysis](https://www.analyticsvidhya.com/blog/2021/03/introducing-machine-learning-for-spatial-data-analysis/)\n",
    "- [Spatial Prediction using ML in Python](https://pygis.io/docs/f_rs_ml_predict.html)\n",
    "- [Tree-Boosting for Spatial Data](https://towardsdatascience.com/tree-boosting-for-spatial-data-789145d6d97d)\n",
    "- [Working with Geospatial Data in Machine Learning](https://heartbeat.comet.ml/working-with-geospatial-data-in-machine-learning-ad4097c7228d)\n",
    "- [How to Extract Locations from Text with Natural Language Processing](How to Extract Locations from Text with Natural Language Processing)\n",
    "- [Geoparsing with Python and Natural Language Processing](https://towardsdatascience.com/geoparsing-with-python-and-natural-language-processing-4762a7c92f08)\n",
    "- [Geographic Data Science](http://darribas.org/gds_course/content/home.html)\n",
    "[8 video tutorials on spatial and spatiotemporal data in Python](https://opendatascience.eu/python-training/)\n",
    "- [Geographic Data Science with PySAL and the pydata stack](http://darribas.org/gds_scipy16/)\n",
    "- [The Rise of Machine Learning (ML): How to Use Artificial Intelligence in GIS](https://gisgeography.com/deep-machine-learning-ml-artificial-intelligence-ai-gis/)\n",
    "- [A Guide: Turning OpenStreetMap Location Data into ML Features](https://towardsdatascience.com/a-guide-turning-openstreetmap-location-data-into-ml-features-e687b66db210)\n",
    "- [Latest in Geospatial Data Science Developments](https://medium.com/spatial-data-science/latest-in-geospatial-data-science-developments-ac4b4755fa39)\n",
    "- [Train & Deploy Geospatial Deep Learning Application in Python](https://medium.com/spatial-data-science/train-deploy-geospatial-deep-learning-application-in-python-1e63661f7060)\n",
    "- [Use Google Colab Like A Pro](https://pub.towardsai.net/use-google-colab-like-a-pro-39a97184358d)\n",
    "- [Understanding Satellite Image For Geo-spatial Deep Learning](https://medium.com/@fractal.ai/understanding-satellite-image-for-geo-spatial-deep-learning-a1a7dee2f2de)\n",
    "- [Land Cover Classification](https://medium.com/analytics-vidhya/land-cover-classification-97e9a1c77444)\n",
    "- [How to Perform Exploratory Data Analysis in QGis](https://towardsdatascience.com/how-to-perform-exploratory-data-analysis-in-qgis-8333731b9dfa)\n",
    "- [Deep learning for Geospatial data applications — Multi-label Classification](https://medium.com/spatial-data-science/deep-learning-for-geospatial-data-applications-multi-label-classification-2b0a1838fcf3)\n",
    "- [Indexing and querying spatial data](https://medium.com/spatial-data-science/indexing-and-querying-spatial-data-af2102de088c)\n",
    "- [Machine Learning of Spatial Data](https://www.mdpi.com/2220-9964/10/9/600/htm)\n",
    "- [Spatial Data Analysis With Hexagonal Grids](https://medium.com/swlh/spatial-data-analysis-with-hexagonal-grids-961de90a220e)\n",
    "- [RICE MAPPING USING DEEP NEURAL NETWORKS](https://mygeoblog.com/2020/09/22/rice-mapping-using-deep-neural-networks/)\n",
    "- [Land Cover and Land Use Classification](https://open-mrv.readthedocs.io/en/latest/classification_WBproject_REK_v3.html)\n",
    "- [All Machine Learning Algorithms You Should Know for 2023](https://terenceshin.medium.com/all-machine-learning-algorithms-you-should-know-for-2023-843dba11419c)\n",
    "- [Exploring Time and Space](https://medium.com/euro-data-cube/exploring-time-and-space-a-guide-to-accessing-analysing-and-visualising-data-in-the-euro-data-e4a46f2bb55b)\n",
    "- [Artificial Intelligence for Geospatial Analysis with Pytorch’s TorchGeo (Part 1)](https://towardsdatascience.com/artificial-intelligence-for-geospatial-analysis-with-pytorchs-torchgeo-part-1-52d17e409f09)\n",
    "- [TorchGeo: datasets, samplers, transforms, and pre-trained models for geospatial data.](https://torchgeo.readthedocs.io/en/stable/)\n",
    "- [Geospatial Machine Learning](https://www.microsoft.com/en-us/research/project/geospatial-machine-learning/)\n",
    "- [PEARL: Land Cover Mapping](https://www.landcover.io)\n",
    "- [Land Cover Classification](https://medium.com/analytics-vidhya/land-cover-classification-97e9a1c77444)\n",
    "- [Detecting deforestation from satellite images](https://towardsdatascience.com/detecting-deforestation-from-satellite-images-7aa6dfbd9f61)\n",
    "- [Spatial Autocorrelation: Neighbors Affecting Neighbors](https://towardsdatascience.com/spatial-autocorrelation-neighbors-affecting-neighbors-ed4fab8a4aac)\n",
    "- [An Artificial Intelligence Dataset for Solar Energy Locations in India](https://github.com/microsoft/solar-farms-mapping)\n",
    "-[Techniques for deep learning with satellite & aerial imagery](https://github.com/satellite-image-deep-learning/techniques)\n",
    "- [Spatial Regression](http://darribas.org/gds_scipy16/ipynb_md/08_spatial_regression.html)\n",
    "- [Geospatial-learn](https://geospatial-learn.readthedocs.io/en/latest/)\n",
    "- [A Guide: Turning OpenStreetMap Location Data into ML Features](https://towardsdatascience.com/a-guide-turning-openstreetmap-location-data-into-ml-features-e687b66db210)\n",
    "- [Workflow Machine Learning on Satellite Image and Geospatial Data Using Pyspatialml](https://medium.com/sedstrat/workflow-machine-learning-pada-citra-satelit-dan-data-geospasial-menggunakan-pyspatialml-320b7b2477e6)\n",
    "- [AutoGluon: AutoML for Text, Image, Time Series, and Tabular Data](https://auto.gluon.ai/stable/index.html)\n",
    "- [Enhancement of MODIS NIDVI to 10m resolution using U-Net](https://medium.com/@b.valipour.sh/enhancement-of-modis-nidvi-to-10m-resolution-using-u-net-53c8b8982670)\n",
    "- [S1S2randomforest](https://github.com/sabrinacorrea/S1S2randomforest/blob/master/SAR2_Semantic_Segmentation_Random_Forest.ipynb)\n",
    "- [Geopandas Hands-on: Building Geospatial Machine Learning Pipeline](https://towardsdatascience.com/geopandas-hands-on-building-geospatial-machine-learning-pipeline-9ea8ae276a15)\n",
    "- [Applying Deep Learning on Satellite Imagery Classification](https://medium.datadriveninvestor.com/applying-deep-learning-on-satellite-imagery-classification-5f2588b932c1)\n",
    "- [Machine Learning of Spatial Data — A Critical Review](https://medium.com/spatial-data-science/machine-learning-of-spatial-data-a-critical-review-88b1f9dcf857)\n",
    "- [AI Geospatial Wildfire Risk Prediction](https://towardsdatascience.com/ai-geospatial-wildfire-risk-prediction-8c6b1d415eb4)\n",
    "- [Machine learning in earth sciences](https://en.wikipedia.org/wiki/Machine_learning_in_earth_sciences)\n",
    "- [How We Mapped the World's Solar Power Plants](https://blog.descarteslabs.com/how-we-mapped-the-worlds-solar-plants)\n",
    "- [Handling Missing Values with Random Forest](https://www.analyticsvidhya.com/blog/2022/05/handling-missing-values-with-random-forest/)\n",
    "- [Forecasting Atmospheric CO2 with Python](https://towardsdatascience.com/forecasting-atmospheric-co2-concentration-with-python-c4a99e4cf142)\n",
    "- [Time Series Causal Impact Analysis in Python](https://medium.com/grabngoinfo/time-series-causal-impact-analysis-in-python-63eacb1df5cc)\n",
    "- [How to build a machine learning model](https://towardsdatascience.com/how-to-build-a-machine-learning-model-439ab8fb3fb1)\n",
    "- [forestfire impact prediction](https://www.kaggle.com/code/psvishnu/forestfire-impact-prediction-stats-and-ml/notebook)\n",
    "- [How to Load Kaggle Datasets Directly into Google Colab?](https://www.analyticsvidhya.com/blog/2021/06/how-to-load-kaggle-datasets-directly-into-google-colab/)\n",
    "- [Explaining the Math of how Neural Networks Learn with Implementation from Scratch](https://towardsai.net/p/machine-learning/one-lego-at-a-time-explaining-the-math-of-how-neural-networks-learn-with-implementation-from-scratch-39144a1cf80)"
   ]
  },
  {
   "cell_type": "markdown",
   "id": "43b9acbf-c05d-4ae0-9e13-4e72bbc01ad7",
   "metadata": {},
   "source": [
    "## Cheat Sheets\n",
    "\n",
    "- [101 machine learning algorithms for data science with cheat sheets](https://datasciencedojo.com/blog/machine-learning-algorithms/)"
   ]
  },
  {
   "cell_type": "markdown",
   "id": "e1f97337-4f4a-4ab8-99a8-13363f5e7b3b",
   "metadata": {},
   "source": [
    "## Papers"
   ]
  },
  {
   "cell_type": "markdown",
   "id": "d13874dd-9c2a-4320-8570-941382317f15",
   "metadata": {},
   "source": [
    "- [A novel framework for spatio-temporal prediction of environmental data using deep learning\n",
    "](https://www.nature.com/articles/s41598-020-79148-7)\n",
    "- [Spatial machine learning: new opportunities for regional science](https://link.springer.com/article/10.1007/s00168-021-01101-x)\n",
    "- [Exploring Google Earth Engine Platform for Big Data Processing: Classification of Multi-Temporal Satellite Imagery for Crop Mapping](https://www.frontiersin.org/articles/10.3389/feart.2017.00017/full)\n",
    "- [Geographic Data Science with Python](https://github.com/gdsbook/book)\n",
    "- [Exploratory Spatial Data Analysis with Python](https://notebook.community/pratapvardhan/iPyNotebooks/exploratory-spatial-data-analysis)\n",
    "- [How to use GIS for Machine Learning](https://medium.com/earthcube-stories/how-to-use-gis-for-machine-learning-ed2d9594fa55)\n",
    "- [Dynamic population mapping with AutoGluon](https://www.researchgate.net/publication/365359791_Dynamic_population_mapping_with_AutoGluon)\n",
    "- [Machine learning in Earth and environmental science requires education and research policy reforms](https://www.nature.com/articles/s41561-021-00865-3)\n",
    "- [Ten Ways to Apply Machine Learning in Earth and Space Sciences](https://eos.org/opinions/ten-ways-to-apply-machine-learning-in-earth-and-space-sciences)\n",
    "- [Artificial Intelligence and Machine Learning in Earth Science](https://www.frontiersin.org/research-topics/33648/artificial-intelligence-and-machine-learning-in-earth-science)"
   ]
  },
  {
   "cell_type": "markdown",
   "id": "e45dc88e-1f14-4324-8b9e-d52bab60fc5b",
   "metadata": {},
   "source": [
    "## Exploratory Spatial Data Analysis (ESDA)"
   ]
  },
  {
   "cell_type": "markdown",
   "id": "0969bf5f-8441-4ec1-ab39-f0e439a880e6",
   "metadata": {},
   "source": [
    "- [Exploratory Data Analysis (EDA) on Satellite Imagery Using EarthPy](https://towardsdatascience.com/exploratory-data-analysis-eda-on-satellite-imagery-using-earthpy-c0e186fe4293)\n",
    "- [What is Exploratory Spatial Data Analysis (ESDA)?](https://towardsdatascience.com/what-is-exploratory-spatial-data-analysis-esda-335da79026ee)\n",
    "- [ESDA: Exploratory Spatial Data Analysis](https://pysal.org/esda/)\n",
    "- [Exploratory Spatial Data Analysis](https://csde.washington.edu/workshop/exploratory-spatial-data-analysis/)\n",
    "- [Exploratory Spatial Data Analysis (ESDA) – Spatial Autocorrelation](https://ai-journey.com/2021/01/exploratory-spatial-data-analysis-esda-spatial-autocorrelation/)\n",
    "- [exploratory data analysis](https://walker-data.com/geog30323/)\n",
    "- [Exploratory Spatial Data Analysis (ESDA)](https://github.com/shakasom/esda)\n",
    "- [GeoDa: An introduction to spatial data analysis](https://github.com/GeoDaCenter/geoda/)\n",
    "- [ESDA with pygeoda and geopandas](https://geodacenter.github.io/pygeoda/esda_geopandas.html)\n",
    "- [Exploratory Spatial Data Analysis (ESDA)](http://darribas.org/gds_scipy16/ipynb_md/04_esda.html)\n",
    "- "
   ]
  },
  {
   "cell_type": "code",
   "execution_count": null,
   "id": "efeb30d9-adc3-492f-8c43-0e310357bb50",
   "metadata": {},
   "outputs": [],
   "source": []
  }
 ],
 "metadata": {
  "kernelspec": {
   "display_name": "Python 3 (ipykernel)",
   "language": "python",
   "name": "python3"
  }
 },
 "nbformat": 4,
 "nbformat_minor": 5
}
