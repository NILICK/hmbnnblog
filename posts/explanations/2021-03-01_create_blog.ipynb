{
 "cells": [
  {
   "cell_type": "raw",
   "metadata": {},
   "source": [
    "---\n",
    "title: \"Blogging with Quarto\"\n",
    "description: \"Creating weblog in combination of Jupyterlab and Quarto\"\n",
    "author: \"Me\"\n",
    "date: \"2021-03-01\"\n",
    "categories: [Weblog, Quarto, Nbdev]\n",
    "image: images/Jupyter-Notebook-Quarto.png\n",
    "skip_exec: true\n",
    "skip_showdoc: true\n",
    "---"
   ]
  },
  {
   "cell_type": "markdown",
   "metadata": {},
   "source": [
    "## How to create own your blog with NBDEV + QUARTO? (My Notes)"
   ]
  },
  {
   "cell_type": "markdown",
   "metadata": {},
   "source": [
    "Building Own weblog with Quarto + Github\n",
    "\n",
    "1- Install Quarto in Ubuntu:</br>\n",
    "* Download `quarto-1.2.247-linux-amd64.deb` fil\n",
    "* run `sudo dpkg -i quarto-1.2.247-linux-amd64.deb` to instal quarto\n",
    "\n",
    "2- Create `myblog` quarto project in a temperory directory such as `temp`:</br>\n",
    "\t-`quarto create-project myblog --type website:blog`</br>\n",
    "\n",
    "3- Created files include:</br>\n",
    "* Created `_quarto.yml`\n",
    "* Created `.gitignore`\n",
    "* Created `index.qmd`\n",
    "* Created `posts/welcome/index.qmd`\n",
    "* Created `posts/post-with-code/index.qmd`\n",
    "* Created `about.qmd`\n",
    "* Created `styles.css`\n",
    "* Created `posts/_metadata.yml`\n",
    "\n",
    "4- Install Git</br>\n",
    " \n",
    "`sudo apt-get update & sudo apt-get install git`\n",
    "\n",
    "5- Install Github Desktop</br>\n",
    " \n",
    "`wget -qO - https://mirror.mwt.me/ghd/gpgkey | sudo tee /etc/apt/trusted.gpg.d/shiftkey-desktop.asc > /dev/null`\n",
    " \n",
    "`sudo sh -c 'echo \"deb [arch=amd64] https://packagecloud.io/shiftkey/desktop/any/ any main\" > /etc/apt/sources.list.d/packagecloud-shiftkey-desktop.list'`\n",
    "\n",
    "`sudo apt update && sudo apt install github-desktop`\n",
    "\n",
    "Create a Github repository</br>\n",
    "Craete a repo with a specific name, such as `example` name.\n",
    "\n",
    "6- Open Github Desktop:\n",
    "\n",
    "clone the new github repository created in 5\n",
    "\n",
    "4- Change  `_quarto.yml` (in `temp` directory) and add `docs` as the `output-dir`:\n",
    "\n",
    "```\n",
    "project:\n",
    "  type: website\n",
    "  output-dir: docs\n",
    "```\n",
    "\n",
    "4-1- Copy jupyter note book in a folder inside posts directory</br>\n",
    "For each doc you must have a folder with name of your document.</br>\n",
    "first cell in each jupyter note book as below:\n",
    "\n",
    "```\n",
    "---\n",
    "title: \"Geospatial Data Address\"\n",
    "author: \"Hossein Madadi\"\n",
    "date: \"2021-03-25\"\n",
    "categories: [Geospatial Data]\n",
    "---\n",
    "```\n",
    "\n",
    "5- Go to inside the `myblog` in temp directory and open terminal</br>\n",
    "6- Render the site in terminal\n",
    "```\n",
    "`quarto render`\n",
    "```\n",
    "7- Copy all files from `temp` directory to local github repository directory.</br>\n",
    "8- Commit and push in github desktop</br>\n",
    "9- In github repository web change `settings`:</br>\n",
    "in `pages` from left panel change `Branch` to `main` and select `docs` then `save`</br>\n",
    "10- Open weblog with below url:</br>\n",
    "```\n",
    "`https://username.github.io/reponame`\n",
    "```\n",
    "11- Quarto render</br>\n",
    "12- Committing and pushing will make the changes you see locally live on your website </br>"
   ]
  },
  {
   "cell_type": "markdown",
   "metadata": {},
   "source": [
    "Example for use `.ipynb` in Quarto.\n",
    "\n",
    "https://github.com/fastai/nbdev"
   ]
  },
  {
   "cell_type": "code",
   "execution_count": null,
   "metadata": {},
   "outputs": [],
   "source": []
  }
 ],
 "metadata": {
  "kernelspec": {
   "display_name": "Python 3 (ipykernel)",
   "language": "python",
   "name": "python3"
  },
  "widgets": {
   "application/vnd.jupyter.widget-state+json": {
    "state": {},
    "version_major": 2,
    "version_minor": 0
   }
  }
 },
 "nbformat": 4,
 "nbformat_minor": 4
}
