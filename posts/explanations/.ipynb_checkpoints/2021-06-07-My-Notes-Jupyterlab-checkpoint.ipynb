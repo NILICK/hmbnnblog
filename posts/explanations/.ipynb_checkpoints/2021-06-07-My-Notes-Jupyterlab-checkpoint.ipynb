{
 "cells": [
  {
   "cell_type": "raw",
   "metadata": {},
   "source": [
    "---\n",
    "title: \"Jupyterlab\"\n",
    "description: \"My notes in Jupyterlab working\"\n",
    "author: \"Me\"\n",
    "date: \"2021-063-07\"\n",
    "categories: [Jupyterlab]\n",
    "image: images/jupyterlab.jpg\n",
    "skip_exec: true\n",
    "skip_showdoc: true\n",
    "---"
   ]
  },
  {
   "cell_type": "markdown",
   "metadata": {},
   "source": [
    "- [Math support in Markdown](https://github.blog/2022-05-19-math-support-in-markdown/)\n",
    "- [Notebooker](https://github.com/man-group/notebooker)"
   ]
  },
  {
   "cell_type": "markdown",
   "metadata": {},
   "source": [
    "## Install Jupyterlab App Desktop (Updated 06/15/2022)"
   ]
  },
  {
   "cell_type": "markdown",
   "metadata": {},
   "source": [
    "### 1- Install Miniconda"
   ]
  },
  {
   "cell_type": "markdown",
   "metadata": {},
   "source": [
    "> Best resources for install Anaconda or Miniconda with spatial packages*"
   ]
  },
  {
   "cell_type": "markdown",
   "metadata": {},
   "source": [
    "https://docs.conda.io/projects/conda/en/latest/user-guide/install/linux.html"
   ]
  },
  {
   "cell_type": "markdown",
   "metadata": {},
   "source": [
    "Download miniconda \n",
    "https://docs.conda.io/en/latest/miniconda.html#linux-installers\n",
    "\n",
    "Miniconda3-latest-Linux-x86_64.sh"
   ]
  },
  {
   "cell_type": "markdown",
   "metadata": {},
   "source": [
    "To install Miniconda on Ubuntu 20.04 from command line,\n",
    "it only takes 3 steps excluding creating and activating a conda environment.\n",
    "\n",
    "(conda) Constructor to bundle JupyterLab Desktop Server into the stand-alone application. You can install Constructor using:\n",
    "*conda install -c conda-forge constructor*"
   ]
  },
  {
   "cell_type": "markdown",
   "metadata": {},
   "source": [
    "A- Download the latest shell script\n",
    "*wget https://repo.anaconda.com/miniconda/Miniconda3-py37_4.8.3-Linux-x86_64.sh*\n",
    "\n",
    "B- Make the miniconda installation script executable:\n",
    "*bash Miniconda3-latest-Linux-x86_64.sh*\n",
    "\n",
    "C- Run miniconda installation script:\n",
    "*./Miniconda3-py37_4.8.3-Linux-x86_64.sh*"
   ]
  },
  {
   "cell_type": "markdown",
   "metadata": {},
   "source": [
    "### 2- Create and activate the conda environment"
   ]
  },
  {
   "cell_type": "markdown",
   "metadata": {},
   "source": [
    "To create a conda environment, run:\n",
    "\n",
    "*conda create -n newenv*"
   ]
  },
  {
   "cell_type": "markdown",
   "metadata": {},
   "source": [
    "### 3- Install Jupyterlab"
   ]
  },
  {
   "cell_type": "markdown",
   "metadata": {},
   "source": [
    "*conda activate newenv* <br/>\n",
    "*conda install -c conda-forge jupyterlab*"
   ]
  },
  {
   "cell_type": "markdown",
   "metadata": {},
   "source": [
    "### 4- Install Jupyterlab Desktop"
   ]
  },
  {
   "cell_type": "markdown",
   "metadata": {},
   "source": [
    "Download and Install app:  \n",
    "https://github.com/jupyterlab/jupyterlab-desktop/releases/latest/download/JupyterLab-Setup-Debian.deb  \n",
    "\n",
    "Use **Use the boundled Python environment**"
   ]
  },
  {
   "cell_type": "markdown",
   "metadata": {},
   "source": [
    "### 5- Install Geemap Notes"
   ]
  },
  {
   "cell_type": "markdown",
   "metadata": {},
   "source": [
    "**The geemap package has some optional dependencies, such as \"GeoPandas\" and \"localtileserver\". It is important to install all packages from conda and not using pip for install packages.**\n",
    "\n",
    "conda create -n gee python </br>\n",
    "conda install geemap -c conda-forge </br>\n",
    "conda install -c conda-forge geopandas </br>\n",
    "conda install -c conda-forge rasterio </br>\n",
    "...</br>\n",
    "...</br>\n",
    "...</br>\n",
    "\n",
    "Install all packages with conda."
   ]
  },
  {
   "cell_type": "markdown",
   "metadata": {},
   "source": [
    "### 5-1- Scikit-learn and Geemap\n",
    "\n",
    "    from sklearn.ensemble import RandomForestClassifier\n",
    "\n",
    "**Error**\n",
    "\n",
    "    ModuleNotFoundError                       Traceback (most recent call last)\n",
    "    Cell In [6], line 17\n",
    "         15 from sklearn.model_selection import train_test_split\n",
    "         16 from sklearn.ensemble import RandomForestClassifier\n",
    "    ---> 17 from treeinterpreter import treeinterpreter as ti\n",
    "\n",
    "    File ~/Miniconda3/envs/gee/lib/python3.10/site-packages/treeinterpreter/treeinterpreter.py:5\n",
    "          2 import numpy as np\n",
    "          3 import sklearn\n",
    "    ----> 5 from sklearn.ensemble.forest import ForestClassifier, ForestRegressor\n",
    "          6 from sklearn.tree import DecisionTreeRegressor, DecisionTreeClassifier, _tree\n",
    "          7 from distutils.version import LooseVersion\n",
    "\n",
    "    ModuleNotFoundError: No module named 'sklearn.ensemble.forest'\n",
    "    \n",
    "**Solution**\n",
    "\n",
    "open file: File ~/Miniconda3/envs/gee/lib/python3.10/site-packages/treeinterpreter/treeinterpreter.py\n",
    "\n",
    "Change from:\n",
    "\n",
    "    from sklearn.ensemble.forest import ForestClassifier, ForestRegressor\n",
    "    \n",
    "to:\n",
    "\n",
    "    from sklearn.ensemble._forest import ForestClassifier, ForestRegressor"
   ]
  },
  {
   "cell_type": "markdown",
   "metadata": {},
   "source": [
    "### 6- Configure File"
   ]
  },
  {
   "cell_type": "markdown",
   "metadata": {},
   "source": [
    "------------------------------------\n",
    "## **NEW EDIT:** (2022-09-06)\n",
    "\n",
    "_**FOR Jupyterlab Desktop**_\n",
    "\n",
    "-For recent nbclassic and **JupyterLab >= 3** use **c.ServerApp.root_dir** instead of c.NotebookApp.notebook_dir (and **jupyter-lab --generate-config** instead of jupyter notebook --generate-config).\n",
    "\n",
    "-**\"jupyter_lab_config.py\"** file must be created in home/.../.jupyter directory.\n",
    "\n",
    "-Remove the **#** at the beginning of the line to allow the line to execute\n",
    "\n",
    "-example:\n",
    "\n",
    "c.ServerApp.root_dir = '/mnt/.../Anaconda_Projects'\n",
    "\n",
    "-In final:\n",
    "created and modified **\"jupyter_lab_config.py\"** file should be moved to **/home/.../.config/jupyterlab-desktop**\n",
    "\n",
    "\n",
    "_**FOR Jupyterlab in Browser**_\n",
    "\n",
    "created and modified **\"jupyter_lab_config.py\"** file should be moved to **/home/.../.jupyter**.\n",
    "\n",
    "------------------------------------"
   ]
  },
  {
   "cell_type": "markdown",
   "metadata": {},
   "source": [
    "Default directory for jlab desktop is *home*, so for change default directory first create *configuration file* by (Note:Done in newenv environemnt):  \n",
    "\n",
    "*jupyter notebook --generate-config*\n",
    "\n",
    "created file:\n",
    "$ /home/.../.jupyter/jupyter_notebook_config.py\n",
    "\n",
    "Based on: https://github.com/jupyterlab/jupyterlab-desktop#configuration-files\n",
    "\n",
    "By default JupyterLab Desktop will only load and write to Jupyter configuration located in:\n",
    "\n",
    "$XDG_CONFIG_HOME/jupyterlab-desktop or ~/.config/jupyterlab-desktop on Linux\n",
    "\n",
    "ignoring any other Jupyter configuration which may be present in standard Jupyter paths as defined by jupyter --paths. This includes jupyter-server settings, jupyterlab settings and workspaces, and any other configuration which would normally be shared between Jupyter installations.\n",
    "\n",
    "So, *jupyter_notebook_config.py* create file should be moved to **/home/.../.config/jupyterlab-desktop**.\n",
    "Then change from:\n",
    "\n",
    "    # c.NotebookApp.notebook_dir \n",
    "    \n",
    "to:\n",
    "\n",
    "    c.NotebookApp.notebook_dir = 'user/directory/path'"
   ]
  },
  {
   "cell_type": "markdown",
   "metadata": {},
   "source": [
    "## 7- Some Problems\n",
    "Sometimes, we may have a problem such as below:\n",
    "\n",
    "Collecting package metadata (current_repodata.json): failed\n",
    "\n",
    "    UnavailableInvalidChannel: The channel is not accessible or is invalid.\n",
    "      channel name: pkgs/main\n",
    "      channel url: https://repo.anaconda.com/pkgs/main\n",
    "      error code: 403\n",
    "\n",
    "    You will need to adjust your conda configuration to proceed.\n",
    "    Use `conda config --show channels` to view your configuration's current state,\n",
    "    and use `conda config --show-sources` to view config file locations.\n",
    "    \n",
    "For solve this problem in terminal of jupyterlab app run:\n",
    "\n",
    "    conda config --remove-key channels\n",
    "    \n",
    "Then we can create a virtual environment (venv) by:\n",
    "\n",
    "    conda create -n <your envn name>\n",
    "    \n",
    "With *conda info* and *conda config --show-sources*, it can be get some information about jupyterlab app and its venv and etc."
   ]
  },
  {
   "cell_type": "markdown",
   "metadata": {},
   "source": [
    "## Jupyterlab spellchecker\n",
    "\n",
    "install:\n",
    "\n",
    "jupyter labextension install @ijmbarr/jupyterlab_spellchecker"
   ]
  },
  {
   "cell_type": "markdown",
   "metadata": {},
   "source": [
    "## Uninstall full program"
   ]
  },
  {
   "cell_type": "markdown",
   "metadata": {},
   "source": [
    "sudo apt-get purge package-name\n",
    "\n",
    "sudo apt-get autoremove"
   ]
  },
  {
   "cell_type": "markdown",
   "metadata": {},
   "source": [
    "## Install fonts"
   ]
  },
  {
   "cell_type": "markdown",
   "metadata": {},
   "source": [
    "sudo apt install git\n",
    "\n",
    "git clone https://github.com/fzerorubigd/persian-fonts-linux.git\n",
    "    \n",
    "cd persian-fonts-linux\n",
    "\n",
    "./farsifonts.sh"
   ]
  },
  {
   "cell_type": "markdown",
   "metadata": {},
   "source": [
    "## Show disk space"
   ]
  },
  {
   "cell_type": "markdown",
   "metadata": {},
   "source": [
    "df -h"
   ]
  },
  {
   "cell_type": "markdown",
   "metadata": {},
   "source": [
    "## Clean Ubuntu"
   ]
  },
  {
   "cell_type": "markdown",
   "metadata": {},
   "source": [
    "sudo du -sh /var/cache/apt/archives\n",
    "\n",
    "sudo apt-get clean\n",
    "\n",
    "df -h"
   ]
  },
  {
   "cell_type": "markdown",
   "metadata": {},
   "source": [
    "## Install Packages"
   ]
  },
  {
   "cell_type": "markdown",
   "metadata": {},
   "source": [
    "- Install miniconda\n",
    "- Anaconda Prompt (miniconda3)[Open miniconda]\n",
    "- conda update -n base -c defaults conda [Update Conda installed]\n",
    "- conda install -c anaconda anaconda-navigator [Install Navigator]\n",
    "- Open Anaconda Navigator\n",
    "- Open terminal\n",
    "- conda install -c conda-forge gdal [Install GDAL]\n",
    "- conda install -c anaconda numpy\n",
    "- conda install -c anaconda pandas\n",
    "- conda install -c conda-forge geopandas\n",
    "- conda install -c anaconda xarray\n",
    "- conda install -c conda-forge matplotlib\n",
    "- conda install -c conda-forge cartopy\n",
    "- conda install -c conda-forge descartes [for countries plot in cartopy]\n",
    "- conda install -c conda-forge shapely\n",
    "- conda install -c conda-forge fiona\n",
    "- conda install -c conda-forge pyproj\n",
    "- conda install -c conda-forge bqplot\n",
    "- conda install -c conda-forge ipyleaflet\n",
    "- conda install -c conda-forge nodejs\n",
    "> npm install npm@latest -g [https://nodejs.org/en/]\n",
    "\n",
    "- conda list"
   ]
  },
  {
   "cell_type": "markdown",
   "metadata": {},
   "source": [
    "## Install packages in Jupyterlab"
   ]
  },
  {
   "cell_type": "markdown",
   "metadata": {},
   "source": [
    "- jupyter labextension install @jupyter-widgets/jupyterlab-manager jupyter-leaflet\n",
    "\n",
    "(https://ipyleaflet.readthedocs.io/en/latest/api_reference/basemaps.html)\n",
    "\n",
    "-jupyter labextension install @jupyter-widgets/jupyterlab-manager\n",
    "\n",
    "-jupyter lab build\n",
    "\n",
    "-jupyter nbextension enable --py widgetsnbextension --sys-prefix\n",
    "\n",
    "-pip install sidecar\n",
    "\n",
    "-jupyter labextension install @jupyter-widgets/jupyterlab-manager\n",
    "\n",
    "-jupyter labextension install @jupyter-widgets/jupyterlab-sidecar\n",
    "\n",
    "-conda install -c pyviz holoviews bokeh\n",
    "\n",
    "> jupyter labextension install @pyviz/jupyterlab_pyviz"
   ]
  },
  {
   "cell_type": "markdown",
   "metadata": {},
   "source": [
    "## Install Rasterio"
   ]
  },
  {
   "cell_type": "markdown",
   "metadata": {},
   "source": [
    "rasterio package must be install with gdal, from \" https://www.lfd.uci.edu/~gohlke/pythonlibs/#gdal \" yuou can find last gdal and rasterio wheel files, then run something like this from the downloads folder:\n",
    "\n",
    "pip install GDAL-3.1.2-cp39-cp39-win_amd64.whl rasterio-1.1.5-cp39-cp39-win_amd64.whl\n",
    "\n",
    "conda install -c conda-forge rasterio\n",
    "> [with python 3.7 (rasterio works with this version)\n",
    "Rasterio 1.0.x works with Python versions 2.7.x and 3.5.0 through 3.7.x, and GDAL versions 1.11.x through 2.4.x. \n",
    "Rasterio 1.0.x is not compatible with GDAL versions 3.0.0 or greater.]"
   ]
  },
  {
   "cell_type": "markdown",
   "metadata": {},
   "source": [
    "-with the below command and after failed and failed, installed finally.</br>\n",
    "conda install -c https://conda.anaconda.org/ioos rasterio"
   ]
  },
  {
   "cell_type": "markdown",
   "metadata": {},
   "source": [
    "## Cartopy or Basemap"
   ]
  },
  {
   "cell_type": "markdown",
   "metadata": {},
   "source": [
    "Basemap is going away and being replaced with Cartopy in the near future. For this reason, new python learners are recommended to learn Cartopy.\n",
    "So, install cartopy.\n",
    "\n",
    "NOTE: DO NOT INSTALL cartopy with basemap, they are conflict."
   ]
  },
  {
   "cell_type": "markdown",
   "metadata": {},
   "source": [
    "## For UPDATE"
   ]
  },
  {
   "cell_type": "markdown",
   "metadata": {},
   "source": [
    "- pip uninstall -y setuptools\n",
    "\n",
    "- pip install setuptools\n",
    "\n",
    "- conda update conda\n",
    "\n",
    "- conda update -all\n",
    "\n",
    "- conda update -n base -c defaults conda"
   ]
  },
  {
   "cell_type": "markdown",
   "metadata": {},
   "source": [
    "## Run plotly in jupyterlab"
   ]
  },
  {
   "cell_type": "markdown",
   "metadata": {},
   "source": [
    "For use in Jupyter lab, you will have to install the plotly jupyterlab extension:\n",
    "\n",
    "jupyter labextension install jupyterlab-plotly\n",
    "\n",
    "OR\n",
    "\n",
    "jupyter labextension install @jupyterlab/plotly-extension\n",
    "\n",
    "jupyter labextension list\n",
    "\n",
    "jupyter lab build\n",
    "\n",
    "Then reopen anaconda jupyterlab"
   ]
  },
  {
   "cell_type": "markdown",
   "metadata": {},
   "source": [
    "## Persian fornt"
   ]
  },
  {
   "cell_type": "markdown",
   "metadata": {},
   "source": [
    "pip install python-bidi"
   ]
  },
  {
   "cell_type": "markdown",
   "metadata": {},
   "source": [
    "-lpympl"
   ]
  },
  {
   "cell_type": "markdown",
   "metadata": {},
   "source": [
    "## Markdown Formatting "
   ]
  },
  {
   "cell_type": "markdown",
   "metadata": {},
   "source": [
    "The five most important concepts to format your code appropriately when using markdown are:\n",
    "    \n",
    "1. *Italics*: Surround your text with '\\_' or '\\*'\n",
    "2. **Bold**: Surround your text with '\\__' or '\\**'\n",
    "3. `inline`: Surround your text with '\\`'\n",
    "4.  > blockquote: Place '\\>' before your text.\n",
    "5.  [Links](https://github.com/ncar-hackathons): Surround the text you want to link with '\\[\\]' and place the link adjacent to the text, surrounded with '()'\n"
   ]
  },
  {
   "cell_type": "markdown",
   "metadata": {},
   "source": [
    "### Headings"
   ]
  },
  {
   "cell_type": "markdown",
   "metadata": {},
   "source": [
    "Notice that including a hashtag before the text in a markdown cell makes the text a heading. The number of hashtags you include will determine the priority of the header ('#' is level one, '##' is level two, '###' is level three and '####' is level four)."
   ]
  },
  {
   "cell_type": "markdown",
   "metadata": {},
   "source": [
    "\n",
    "```no-highlight\n",
    "# H1\n",
    "## H2\n",
    "### H3\n",
    "#### H4\n",
    "##### H5\n",
    "###### H6\n",
    "\n",
    "Alternatively, for H1 and H2, an underline-ish style:\n",
    "\n",
    "Alt-H1\n",
    "======\n",
    "\n",
    "Alt-H2\n",
    "------\n",
    "```\n",
    "\n",
    "# H1\n",
    "## H2\n",
    "### H3\n",
    "#### H4\n",
    "##### H5\n",
    "###### H6\n",
    "\n",
    "Alternatively, for H1 and H2, an underline-ish style:\n",
    "\n",
    "Alt-H1\n",
    "======\n",
    "\n",
    "Alt-H2\n",
    "------\n",
    "\n",
    "<a name=\"emphasis\"/>\n",
    "\n",
    "### Emphasis\n",
    "\n",
    "```no-highlight\n",
    "Emphasis, aka italics, with *asterisks* or _underscores_.\n",
    "\n",
    "Strong emphasis, aka bold, with **asterisks** or __underscores__.\n",
    "\n",
    "Combined emphasis with **asterisks and _underscores_**.\n",
    "\n",
    "Strikethrough uses two tildes. ~~Scratch this.~~\n",
    "```\n",
    "\n",
    "Emphasis, aka italics, with *asterisks* or _underscores_.\n",
    "\n",
    "Strong emphasis, aka bold, with **asterisks** or __underscores__.\n",
    "\n",
    "Combined emphasis with **asterisks and _underscores_**.\n",
    "\n",
    "Strikethrough uses two tildes. ~~Scratch this.~~\n",
    "\n"
   ]
  },
  {
   "cell_type": "markdown",
   "metadata": {},
   "source": [
    "### Lists"
   ]
  },
  {
   "cell_type": "markdown",
   "metadata": {},
   "source": [
    "There are three types of lists in markdown.\n",
    "\n",
    "Ordered list:\n",
    "\n",
    "1. Step 1\n",
    "    2. Step 1B\n",
    "3. Step 3"
   ]
  },
  {
   "cell_type": "markdown",
   "metadata": {},
   "source": [
    "Unordered list\n",
    "\n",
    "* CESM-POP\n",
    "* CESM-MOM\n",
    "* CESM-CAM"
   ]
  },
  {
   "cell_type": "markdown",
   "metadata": {},
   "source": [
    "Task list\n",
    "\n",
    "- [x] Learn Jupyter Notebooks\n",
    "    - [x] Writing\n",
    "    - [x] Modes\n",
    "    - [x] Other Considerations\n",
    "- [ ] Submit Paper"
   ]
  },
  {
   "cell_type": "markdown",
   "metadata": {},
   "source": [
    "---\n",
    "\n",
    "**NOTE:**\n",
    "    \n",
    "Double click on each to see how they are built! \n",
    "\n",
    "---"
   ]
  },
  {
   "cell_type": "markdown",
   "metadata": {},
   "source": [
    "$-b \\pm \\sqrt{b^2 - 4ac} \\over 2a$\n",
    "$x = a_0 + \\frac{1}{a_1 + \\frac{1}{a_2 + \\frac{1}{a_3 + a_4}}}$\n",
    "$\\forall x \\in X, \\quad \\exists y \\leq \\epsilon$"
   ]
  },
  {
   "cell_type": "markdown",
   "metadata": {},
   "source": [
    "## Shortcuts and tricks"
   ]
  },
  {
   "cell_type": "markdown",
   "metadata": {},
   "source": [
    "### Command Mode Shortcuts"
   ]
  },
  {
   "cell_type": "markdown",
   "metadata": {},
   "source": [
    "There are a couple of useful keyboard shortcuts in `Command Mode` that you can leverage to make Jupyter Notebook faster to use. Remember that to switch back and forth between `Command Mode` and `Edit Mode` with <kbd>Esc</kbd> and <kbd>Enter</kbd>."
   ]
  },
  {
   "cell_type": "markdown",
   "metadata": {},
   "source": [
    "<kbd>m</kbd>: Convert cell to Markdown"
   ]
  },
  {
   "cell_type": "markdown",
   "metadata": {},
   "source": [
    "<kbd>y</kbd>: Convert cell to Code"
   ]
  },
  {
   "cell_type": "markdown",
   "metadata": {},
   "source": [
    "<kbd>D</kbd>+<kbd>D</kbd>: Delete cell"
   ]
  },
  {
   "cell_type": "markdown",
   "metadata": {},
   "source": [
    "<kbd>o</kbd>: Toggle between hide or show output"
   ]
  },
  {
   "cell_type": "markdown",
   "metadata": {},
   "source": [
    "<kbd>Shift</kbd>+<kbd>Arrow up/Arrow down</kbd>: Selects multiple cells. Once you have selected them you can operate on them like a batch (run, copy, paste etc)."
   ]
  },
  {
   "cell_type": "markdown",
   "metadata": {},
   "source": [
    "<kbd>Shift</kbd>+<kbd>M</kbd>: Merge selected cells."
   ]
  },
  {
   "cell_type": "markdown",
   "metadata": {},
   "source": [
    "<kbd>Shift</kbd>+<kbd>Tab</kbd>: [press once] Tells you which parameters to pass on a function\n",
    "\n",
    "<kbd>Shift</kbd>+<kbd>Tab</kbd>: [press three times] Gives additional information on the method"
   ]
  }
 ],
 "metadata": {
  "kernelspec": {
   "display_name": "Python 3 (ipykernel)",
   "language": "python",
   "name": "python3"
  },
  "widgets": {
   "application/vnd.jupyter.widget-state+json": {
    "state": {},
    "version_major": 2,
    "version_minor": 0
   }
  }
 },
 "nbformat": 4,
 "nbformat_minor": 4
}
