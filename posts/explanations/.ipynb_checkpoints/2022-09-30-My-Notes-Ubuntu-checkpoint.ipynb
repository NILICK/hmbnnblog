{
 "cells": [
  {
   "cell_type": "raw",
   "id": "86660735-2ed1-44eb-b79a-d3e176cc4251",
   "metadata": {},
   "source": [
    "---\n",
    "title: \"Ubuntu\"\n",
    "description: \"My notes in Ubuntu working\"\n",
    "author: \"Me\"\n",
    "date: \"2022-09-30\"\n",
    "categories: [Ubuntu, Notes]\n",
    "image: images/ubuntu.webp\n",
    "skip_exec: true\n",
    "skip_showdoc: true\n",
    "---"
   ]
  },
  {
   "cell_type": "markdown",
   "id": "fa8dc642-8100-4108-963e-d93add20c4a7",
   "metadata": {},
   "source": [
    "## 1-Doubt in terminal"
   ]
  },
  {
   "cell_type": "markdown",
   "id": "9076688d-b97e-4525-a27e-6a11d93ac15f",
   "metadata": {},
   "source": [
    "**Problem:** In terminal I'am seeing \"bash: /etc/profile.d/vte.sh: No such file or directory\" "
   ]
  },
  {
   "cell_type": "markdown",
   "id": "f842fe3c-549e-4aea-a395-41c738e48fc7",
   "metadata": {},
   "source": [
    "**Solution:**\n",
    "\n",
    "https://askubuntu.com/questions/1283991/doubt-in-terminal\n",
    "\n",
    "Just look in your /etc/profile.d folder: `ls -l /etc/profile.d/vte*` to see if there are any files starting with vte. In my case I found two files:\n",
    "\n",
    "`-rw-r--r-- 1 root root 1368 Jun 11  2020 /etc/profile.d/vte-2.91.sh`</br>\n",
    "`-rw-r--r-- 1 root root  966 Jun 11  2020 /etc/profile.d/vte.csh`\n",
    "\n",
    "If you find the above, then you can just create a link to one of the files:\n",
    "\n",
    "`cd /etc/profile.d`</br>\n",
    "`sudo ln -s vte-2.91.sh ./vte.sh`\n"
   ]
  },
  {
   "cell_type": "markdown",
   "id": "83f9b01b-bce8-4035-be7a-84695af40ee7",
   "metadata": {},
   "source": [
    "## 2- System program problem detected?"
   ]
  },
  {
   "cell_type": "markdown",
   "id": "e118f57c-ea09-4a66-ab77-1b0bcb3df287",
   "metadata": {},
   "source": [
    "**Problem:**\n",
    "\n",
    "I keep getting, since several days, \"System program problem detected\" error message\n",
    "\n",
    "**Solution:**\n",
    "\n",
    "https://askubuntu.com/questions/1160113/system-program-problem-detected\n",
    "\n",
    "`sudo rm /var/crash/*`"
   ]
  },
  {
   "cell_type": "markdown",
   "id": "7062e553-fe86-40ad-a738-838b48e42f09",
   "metadata": {},
   "source": [
    "## 3- WiFi randomly disconnected on Ubuntu"
   ]
  },
  {
   "cell_type": "markdown",
   "id": "6dc0baab-3080-4c93-9916-c1f44edc0e71",
   "metadata": {},
   "source": [
    "**Problem:**\n",
    "\n",
    "The WiFi connection auto disconnected every 5 - 10 minutes but wifi signal is still fine.\n",
    "\n",
    "**Solution:**\n",
    "\n",
    "https://askubuntu.com/questions/1030653/wifi-randomly-disconnected-on-ubuntu-18-04-lts\n",
    "\n",
    "Try disabling wifi power management by opening `/etc/NetworkManager/conf.d/default-wifi-powersave-on.conf` and changing\n",
    "\n",
    "`wifi.powersave = 3`\n",
    "\n",
    "to\n",
    "\n",
    "`wifi.powersave = 2`\n"
   ]
  },
  {
   "cell_type": "markdown",
   "id": "7b818d95-c111-4f5a-b4d3-3349678f1a2a",
   "metadata": {},
   "source": [
    "## 4- Install vpn connection for university"
   ]
  },
  {
   "cell_type": "markdown",
   "id": "65e98592-1387-4414-a454-e703506b76a1",
   "metadata": {},
   "source": [
    "`sudo apt-get install network-manager-openvpn-gnome`"
   ]
  },
  {
   "cell_type": "markdown",
   "id": "dcc024e0-96cc-46ec-ba13-1394b33b5d04",
   "metadata": {},
   "source": [
    "## 5- Wifi Problem After Install Ubuntu\n",
    "\n",
    "1- After install ubuntu when wifi adaptor not working first with \"USB tethering\" phone and usb cable connect to internet\n",
    "\n",
    "2- https://askubuntu.com/questions/1306507/wifi-stopped-working-rtl8821ce-ubuntu-20-04/1306560#1306560\n",
    "\n",
    "this answer is best solution.\n",
    "\n",
    "## 6- Battery Problem After Install Ubuntu\n",
    "\n",
    "1- After install new version of Ubuntu, `Battery percentage` shows constant number:\n",
    "\n",
    "solution: Update kernel, for example, after install Ubuntu Budgie 22.10 you must update kernel from 5.9 to 6.0."
   ]
  },
  {
   "cell_type": "markdown",
   "id": "18bbebd6-ba59-4f10-a088-e249e4573736",
   "metadata": {},
   "source": [
    "## 7- Jupyter home\n",
    "conda activate /home/nilik/MYPROGRAMS/miniconda3/envs/envinfo\n",
    "\n",
    "Budgie setting reset: \n",
    "nohup budgie-panel --reset --replace &\n",
    "\n",
    "--------------------------------------------\n",
    "Reset Budgie from Terminal\n",
    "\n",
    "nohup budgie-panel --reset --replace &\n",
    "\n",
    "--------------------------------------------\n",
    "nvidia-smi\n",
    "\n",
    "https://www.linuxcapable.com/how-to-install-or-upgrade-nvidia-drivers-on-ubuntu-21-10-impish-indri/\n",
    "\n",
    "--------------------------------------------\n",
    "suspend & wake up problem:\n",
    "\n",
    "GRUB_CMDLINE_LINUX_DEFAULT=\"quiet scsi_mod.scan=sync\"\n",
    "\n",
    "--------------------------------------------\n",
    "Change Keyboard Language\n",
    "\n",
    "--------------------------------------------\n",
    "Install Okular from not flathub beacuse of \"open new files in new tabs\" works correctly.\n",
    "\n",
    "For Dark theme in okular:\n",
    "sudo gedit /etc/environmen\n",
    "\n",
    "add:\n",
    "QT_QPA_PLATFORMTHEME=gtk2\n",
    "\n",
    "then reboot.\n",
    "\n",
    "--------------------------------------------\n",
    "Keyboard Layout working correctly in persian:\n",
    "\n",
    "IBUs Preferences --> Advances --> Keyboard Layout --> use system keyboard layout\n",
    "\n",
    "--------------------------------------------"
   ]
  },
  {
   "cell_type": "markdown",
   "id": "d365a6f2-eec7-46e3-928c-f5b72f3f8e09",
   "metadata": {},
   "source": [
    "## 8- Install Java\n",
    "\n"
   ]
  },
  {
   "cell_type": "markdown",
   "id": "6314e9fe-7ad5-4995-be2d-45ba21473d2d",
   "metadata": {},
   "source": [
    "## 9- Libreoffice\n",
    "\n",
    "Install JAVA for using zotero extention in Libreoffice\n",
    "\n",
    "`sudo apt-get install libreoffice-java-common`"
   ]
  },
  {
   "cell_type": "markdown",
   "id": "2b8a4974-60a8-4b2f-b5f3-4288d7c5c91b",
   "metadata": {},
   "source": [
    "Install `Times New Roman` font on Ubuntu:\n",
    "\n",
    "`sudo apt-get --reinstall install ttf-mscorefonts-installer`"
   ]
  },
  {
   "cell_type": "code",
   "execution_count": null,
   "id": "942843d1-f77a-44a3-9316-2ba7230c4ca5",
   "metadata": {},
   "outputs": [],
   "source": []
  }
 ],
 "metadata": {
  "kernelspec": {
   "display_name": "Python 3 (ipykernel)",
   "language": "python",
   "name": "python3"
  }
 },
 "nbformat": 4,
 "nbformat_minor": 5
}
