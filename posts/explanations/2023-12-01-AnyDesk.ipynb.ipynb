{
 "cells": [
  {
   "cell_type": "raw",
   "id": "20871187-985f-4fcd-9d3e-9f6e2b43f719",
   "metadata": {},
   "source": [
    "---\n",
    "title: \"Ubuntu & AnyDesk\"\n",
    "description: \"Install AnyDesk in Ubuntu\"\n",
    "author: \"Me\"\n",
    "date: \"2023-12-01\"\n",
    "categories: [Ubuntu, AnyDesk]\n",
    "image: images/anydesk.jpeg\n",
    "skip_exec: true\n",
    "skip_showdoc: true\n",
    "---"
   ]
  },
  {
   "cell_type": "markdown",
   "id": "01e6c2dc-48b6-46b1-ba9d-2fe8ee713e83",
   "metadata": {},
   "source": [
    "## How to Fix AnyDesk of Display_Server_Not_Supported Error for Ubuntu 22.04"
   ]
  },
  {
   "cell_type": "markdown",
   "id": "09fac266-b196-40ff-9040-fdaaab664671",
   "metadata": {},
   "source": [
    "src: https://medium.com/@Dylan.Wang/how-to-fix-anydesk-of-display-server-not-supported-error-for-ubuntu-22-04-c98c44de89c0"
   ]
  },
  {
   "cell_type": "markdown",
   "id": "c11717bb-ed19-4a4f-8e0a-aa925f392e7a",
   "metadata": {},
   "source": [
    "1. Install AnyDesk on Ubuntu 22.04.\n",
    "\n",
    "2. Configure login password. This password is “P@ssw0rd”."
   ]
  },
  {
   "cell_type": "markdown",
   "id": "12e83769-f8ad-43a0-a1e9-5cd5dc820188",
   "metadata": {},
   "source": [
    "```\n",
    "echo \"P@ssw0rd\" | sudo anydesk --set-password\n",
    "```"
   ]
  },
  {
   "cell_type": "markdown",
   "id": "ac6d50ce-4118-43c6-b01d-bed2bf09fc1d",
   "metadata": {},
   "source": [
    "3. Configure GDM config. Please unmask:\n",
    "\n",
    "    WaylandEnable=false</br>\n",
    "    AutomaticLoginEnable = true</br>\n",
    "    AutomaticLogin = $USERNAME</br>"
   ]
  },
  {
   "cell_type": "markdown",
   "id": "3ec32861-1db2-4349-b277-a8ae827e0bb3",
   "metadata": {},
   "source": [
    "```\n",
    "sudo vim /etc/gdm3/custom.conf\n",
    "```"
   ]
  },
  {
   "cell_type": "markdown",
   "id": "a1650daa-51c9-4ca9-86c7-ce2159b5fe2f",
   "metadata": {},
   "source": [
    "```\n",
    "# GDM configuration storage\n",
    "#\n",
    "# See /usr/share/gdm/gdm.schemas for a list of available options.\n",
    "\n",
    "[daemon]\n",
    "# Uncomment the line below to force the login screen to use Xorg\n",
    "WaylandEnable=false\n",
    "\n",
    "# Enabling automatic login\n",
    "AutomaticLoginEnable = true\n",
    "AutomaticLogin = $USERNAME\n",
    "\n",
    "# Enabling timed login\n",
    "#  TimedLoginEnable = true\n",
    "#  TimedLogin = user1\n",
    "#  TimedLoginDelay = 10\n",
    "\n",
    "[security]\n",
    "\n",
    "[xdmcp]\n",
    "\n",
    "[chooser]\n",
    "\n",
    "[debug]\n",
    "# Uncomment the line below to turn on debugging\n",
    "# More verbose logs\n",
    "# Additionally lets the X server dump core if it crashes\n",
    "#Enable=true\n",
    "```"
   ]
  },
  {
   "cell_type": "markdown",
   "id": "3dc79d88-c5e2-4763-a59f-b8b66c0dc5c5",
   "metadata": {},
   "source": [
    "4. Reboot your Ubuntu."
   ]
  },
  {
   "cell_type": "code",
   "execution_count": null,
   "id": "46c248cb-5d05-4ab3-9f19-0d139b5c8f27",
   "metadata": {},
   "outputs": [],
   "source": []
  }
 ],
 "metadata": {
  "kernelspec": {
   "display_name": "Python 3 (ipykernel)",
   "language": "python",
   "name": "python3"
  },
  "language_info": {
   "codemirror_mode": {
    "name": "ipython",
    "version": 3
   },
   "file_extension": ".py",
   "mimetype": "text/x-python",
   "name": "python",
   "nbconvert_exporter": "python",
   "pygments_lexer": "ipython3",
   "version": "3.11.3"
  }
 },
 "nbformat": 4,
 "nbformat_minor": 5
}
