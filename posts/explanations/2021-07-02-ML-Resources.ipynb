{
 "cells": [
  {
   "cell_type": "raw",
   "id": "1e53aa43-fea5-433a-9518-0feab4bf643f",
   "metadata": {},
   "source": [
    "---\n",
    "title: \"ML-DL Resources\"\n",
    "description: \"This post is about resources for machine learning and deep learning from web.\"\n",
    "author: \"Me\"\n",
    "date: \"2021-07-02\"\n",
    "categories: [ML, DL]\n",
    "image: images/AI_ML_DL.png\n",
    "skip_exec: true\n",
    "skip_showdoc: true\n",
    "---"
   ]
  },
  {
   "cell_type": "markdown",
   "id": "cefffcb2-0182-494e-bb15-df1a7b5206f8",
   "metadata": {},
   "source": [
    "1. [Machine Learning Algorithms with Python, All Machine Learning Algorithms Explained with Python](https://thecleverprogrammer.com/2020/11/27/machine-learning-algorithms-with-python/)"
   ]
  },
  {
   "cell_type": "markdown",
   "id": "f1c04aa4-7280-46ad-a441-39f6016ecee1",
   "metadata": {},
   "source": [
    "2. [Free courses from Universities](https://collegecompendium.goldin.io/search?q=machine-learning)"
   ]
  },
  {
   "cell_type": "markdown",
   "id": "629f6a39-0b65-49b7-94c2-0e97ccf2c496",
   "metadata": {},
   "source": [
    "3. [Dust in the Machine](https://earthdata.nasa.gov/learn/articles/dust-ml)"
   ]
  },
  {
   "cell_type": "markdown",
   "id": "85e075e1-c695-480b-9b8c-ebb6fb013403",
   "metadata": {},
   "source": [
    "4. [Data Preparation for Machine Learning (7-Day Mini-Course)](https://machinelearningmastery.com/data-preparation-for-machine-learning-7-day-mini-course/)"
   ]
  },
  {
   "cell_type": "markdown",
   "id": "8747e667-c8f0-4c00-9735-c63d79d7de71",
   "metadata": {},
   "source": [
    "5. [Linear Algebra for Machine Learning (7-Day Mini-Course)](https://machinelearningmastery.com/linear-algebra-machine-learning-7-day-mini-course/)"
   ]
  },
  {
   "cell_type": "markdown",
   "id": "7e2f51ed-c518-4847-ab64-6551dd7b02c2",
   "metadata": {},
   "source": [
    "6. [How to Calculate Correlation Between Variables in Python](https://machinelearningmastery.com/how-to-use-correlation-to-understand-the-relationship-between-variables/)"
   ]
  },
  {
   "cell_type": "markdown",
   "id": "a9b7c19d-a7b5-4eae-bab7-b3569ac36c2b",
   "metadata": {},
   "source": [
    "7. [Need Help Getting Started with Applied Machine Learning?](https://machinelearningmastery.com/start-here/)"
   ]
  },
  {
   "cell_type": "markdown",
   "id": "b9456066-7de2-476d-9475-cc50e2d45768",
   "metadata": {},
   "source": [
    "8. [ML YouTube Courses](https://github.com/dair-ai/ML-YouTube-Courses)"
   ]
  },
  {
   "cell_type": "markdown",
   "id": "23079bb7-fa81-4576-b59b-0753906d2ad1",
   "metadata": {},
   "source": [
    "9. [Statistics and probability](https://www.khanacademy.org/math/statistics-probability)"
   ]
  },
  {
   "cell_type": "markdown",
   "id": "a449450f-5765-4199-b9b0-3eb174c3ff7b",
   "metadata": {},
   "source": [
    "10. [Machine Learning for Beginners](https://github.com/microsoft/ML-For-Beginners)"
   ]
  },
  {
   "cell_type": "markdown",
   "id": "1123d63c-7c1a-4c0a-8842-793194139871",
   "metadata": {},
   "source": [
    "11- [Data Science: Machine Learning](https://www.edx.org/course/data-science-machine-learning)"
   ]
  },
  {
   "cell_type": "markdown",
   "id": "e671d945-a9ad-49bc-b10b-02bb2ab776b2",
   "metadata": {},
   "source": [
    "12- [My Advice To Machine Learning Newbies After 3 Years In The Game](https://towardsdatascience.com/my-advice-to-machine-learning-newbies-after-3-years-in-the-game-6eef381f540)"
   ]
  },
  {
   "cell_type": "markdown",
   "id": "607a451e-71d0-42c5-9fa2-b1399164fe49",
   "metadata": {},
   "source": [
    "13- [So You Want to Do Machine Learning But Don’t Know Where to Start](https://towardsdatascience.com/so-you-want-to-do-machine-learning-but-dont-know-where-to-start-3fba1529bbcd)"
   ]
  }
 ],
 "metadata": {
  "kernelspec": {
   "display_name": "Python 3 (ipykernel)",
   "language": "python",
   "name": "python3"
  }
 },
 "nbformat": 4,
 "nbformat_minor": 5
}
