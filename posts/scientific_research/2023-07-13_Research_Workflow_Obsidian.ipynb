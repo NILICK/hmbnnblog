{
 "cells": [
  {
   "cell_type": "raw",
   "id": "b673bba6-e8b8-4f4b-9a72-5f5d26cf9860",
   "metadata": {},
   "source": [
    "---\n",
    "title: \"Using Obsidian in Mind Mapping\"\n",
    "description: \"Tools and workflows for Mind Mapping projects during research.\"\n",
    "author: \"Me\"\n",
    "date: \"2023-07-13\"\n",
    "categories: [Zettelkasten, Zotero, Obsidian, Mind Mapping]\n",
    "image: images/zotero_obsidian.png\n",
    "skip_exec: true\n",
    "skip_showdoc: true\n",
    "format:\n",
    "  html:\n",
    "    code-fold: true\n",
    "    self-contained: true\n",
    "---"
   ]
  },
  {
   "cell_type": "markdown",
   "id": "dd45550e-436c-4865-a409-b66060b7172b",
   "metadata": {},
   "source": [
    "### What is a Mind Map?\n",
    "\n",
    "A mind map is a visual representation of an idea that uses nodes/points and lines to connect ideas together. The mind map primarily uses text inside of a node/point connected by lines. You can use color, images, line style, line weight, symbols, and other things to visualize your idea.\n",
    "\n",
    "### Why should I use a Mind Map?\n",
    "\n",
    "![Text](images/mindmap_obsidian.webp)\n",
    "\n",
    "When you have many lists, a mind map adds an extra dimension to lists. For example, I started this article as that mind map pictured above. Sometimes I start articles as outlines. Obviously, writing an article on mind maps must start with a mind map. mind maps work best for me in two broad use cases:\n",
    "\n",
    "    - Generating new ideas\n",
    "    - Organizing information\n",
    "\n",
    "\n",
    "#### Generating Ideas\n",
    "\n",
    "As I’ve already shown, you can develop the structure of a writing or other creative project with a mind map. I love mind maps for any sort of project work. When I am going to start a new project I almost always start with a mind map of ideas I have about what I know about the project and what I need to find out about the project.\n",
    "\n",
    "I also think mind maps are perfect for planning activities when they aren’t “linear”. For example, my annual planning I do as a mind map first where I write out what I know will happen in that year and then brainstorm things I want to do in the year. I then take what I generate in the mind map and can place it on the calendar.\n",
    "\n",
    "#### Organizing Information\n",
    "\n",
    "When I am learning something new — particularly through reading — I very often start with a mind map. I love the Blank Sheet Method from Farnam Street. If I am starting a book on a topic I’m actively trying to learn, I’ll use a version of this method for my learning sessions. Each starts with a mind map about what I know about the topic and then as I’m reading, watching videos, or consuming other educational content, I’ll add to my mind map in a different color.\n",
    "\n",
    "### Use Mind Maps in Obsidian\n",
    "\n",
    "There are really three ways to use mind maps in Obsidian.\n",
    "\n",
    "    1- Create a mind map directly in your vault with a dedicated Mind Map plugin. We’ll look at my two favorites below.\n",
    "    2- Create a mind map directly in your vault with the Excalidraw plugin.\n",
    "    3- Create a mind map with an external tool. Link to it and/or import it into your vault."
   ]
  },
  {
   "cell_type": "markdown",
   "id": "e1cfa711-df46-4680-be70-db30d04a5822",
   "metadata": {},
   "source": [
    "[Mind Mapping in Obsidian Canvas](https://www.youtube.com/watch?v=eHI-Szjpafk)"
   ]
  },
  {
   "cell_type": "code",
   "execution_count": null,
   "id": "4a78c8df-30da-4393-889f-04b3a8e05098",
   "metadata": {},
   "outputs": [],
   "source": []
  }
 ],
 "metadata": {
  "kernelspec": {
   "display_name": "Python 3 (ipykernel)",
   "language": "python",
   "name": "python3"
  },
  "language_info": {
   "codemirror_mode": {
    "name": "ipython",
    "version": 3
   },
   "file_extension": ".py",
   "mimetype": "text/x-python",
   "name": "python",
   "nbconvert_exporter": "python",
   "pygments_lexer": "ipython3",
   "version": "3.11.3"
  }
 },
 "nbformat": 4,
 "nbformat_minor": 5
}
