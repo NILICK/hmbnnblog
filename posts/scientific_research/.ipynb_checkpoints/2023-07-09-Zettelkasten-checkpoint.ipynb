{
 "cells": [
  {
   "cell_type": "raw",
   "id": "b66bdb4a-94d0-4ec5-9c50-460c533e5498",
   "metadata": {},
   "source": [
    "---\n",
    "title: \"Second Brain\"\n",
    "description: \"Zettelkasten Workflow using Zotero + Obsidian\"\n",
    "author: \"Me\"\n",
    "date: \"2023-07-09\"\n",
    "categories: [Zettelkasten, Zotero, Obsidian]\n",
    "image: images/zettelkasten.jpg\n",
    "skip_exec: true\n",
    "skip_showdoc: true\n",
    "format:\n",
    "  html:\n",
    "    code-fold: true\n",
    "    self-contained: true\n",
    "---"
   ]
  },
  {
   "cell_type": "markdown",
   "id": "6cd06fa6-8388-4a48-ba43-fd702146fc0c",
   "metadata": {},
   "source": [
    "Implementing `Zettelkasten` workflow in reading, writing, note-taking, research method, creativity, brainstorming, idea generator, etc., using `Zotero` as a reference manager, and `Obsidian` as a note-taking app for references downloaded in Zotero."
   ]
  },
  {
   "cell_type": "code",
   "execution_count": null,
   "id": "e93c3339-8fa0-4f2e-aeae-091d78baf727",
   "metadata": {},
   "outputs": [],
   "source": []
  }
 ],
 "metadata": {
  "kernelspec": {
   "display_name": "Python 3 (ipykernel)",
   "language": "python",
   "name": "python3"
  },
  "language_info": {
   "codemirror_mode": {
    "name": "ipython",
    "version": 3
   },
   "file_extension": ".py",
   "mimetype": "text/x-python",
   "name": "python",
   "nbconvert_exporter": "python",
   "pygments_lexer": "ipython3",
   "version": "3.11.3"
  }
 },
 "nbformat": 4,
 "nbformat_minor": 5
}
