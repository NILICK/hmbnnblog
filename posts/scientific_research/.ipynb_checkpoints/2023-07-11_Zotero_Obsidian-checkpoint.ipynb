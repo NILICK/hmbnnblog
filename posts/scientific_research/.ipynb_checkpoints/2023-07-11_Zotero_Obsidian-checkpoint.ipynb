{
 "cells": [
  {
   "cell_type": "code",
   "execution_count": null,
   "id": "ff9733d5-90cf-44fc-94d4-a3b1f8a133bc",
   "metadata": {},
   "outputs": [],
   "source": [
    "---\n",
    "title: \"Using Obsidian + Zotero for Scientific Research \"\n",
    "description: \"Tools and workflows for managing your zettelkasten, projects, reading lists, notes, and inspiration during your research.\"\n",
    "author: \"Me\"\n",
    "date: \"2023-07-12\"\n",
    "categories: [Zettelkasten, Zotero, Obsidian]\n",
    "image: images/zotero_obsidian.png\n",
    "skip_exec: true\n",
    "skip_showdoc: true\n",
    "format:\n",
    "  html:\n",
    "    code-fold: true\n",
    "    self-contained: true\n",
    "---"
   ]
  },
  {
   "cell_type": "markdown",
   "id": "5b84c897-bac5-414d-b3c0-fc6cdfe1ebd0",
   "metadata": {},
   "source": [
    "This toturial isbased on below sources:</br>\n",
    "1- [How to Boost Your Productivity for Scientific Research Using Obsidian](https://betterhumans.pub/how-to-boost-your-productivity-for-scientific-research-using-obsidian-fe85c98c63c8)</br>\n",
    "2- [Obsidian Tutorial for Academic Writing](https://betterhumans.pub/obsidian-tutorial-for-academic-writing-87b038060522)"
   ]
  },
  {
   "cell_type": "markdown",
   "id": "01ea7afa-eeb1-4af3-99a5-ab3af3cfd6bd",
   "metadata": {},
   "source": [
    "Knowledge is the most powerful tool you have as a researcher. Knowledge, however, is worthless if it cannot be accessed quickly and effectively. The key is in a consistent and easy-to-use method of archiving information so that taking notes becomes an effortless and pleasing experience.\n",
    "\n"
   ]
  },
  {
   "cell_type": "markdown",
   "id": "df1f3201-7e8c-4e43-ae20-07a6161ec817",
   "metadata": {},
   "source": [
    "The article is divided into three parts:\n",
    "\n",
    "**Philosophy:**\n",
    "\n",
    "    The basics of a Knowledge management system such as what is a note, how to organize notes, tags, folders, and links.\n",
    "    This section is meant to be tool-agnostic, meaning that you should be able to implement most of these tips with any note-taking app.\n",
    "\n",
    "**Tools:**\n",
    "\n",
    "    How to set up and use Obsidian, how to manage notes, reading lists, and useful plugins.\n",
    "    This section shows how to use Obsidian, my tool of choice, to manage scientific knowledge effectively.\n",
    "\n",
    "**Workflows:**\n",
    "\n",
    "    How to link Zotero and take notes from papers, maintain notes of multiple projects, set up SQL-like queries to generate Maps of Content (MOCs) automatically with Dataview, encrypt your valut, and more.\n",
    "    This section focuses on giving a detailed description of how to use Obsidian to solve common problems in the scientific world and manage/maintain your knowledge effectively.\n",
    "\n",
    "Throughout the article I will use the word library to mean your entire digital knowledge *(library)*, which is used interchangeably with “Obsidian Vault” or “Zettelkasten”."
   ]
  },
  {
   "cell_type": "markdown",
   "id": "fb936e01-6926-4f6b-b3c9-404abf0c06f6",
   "metadata": {},
   "source": [
    "## 1. Philosophy: How to take and organize notes effectively"
   ]
  },
  {
   "cell_type": "markdown",
   "id": "9132489e-1fbf-4b28-abb0-ed0871bd7de5",
   "metadata": {},
   "source": [
    "Before we dive into Obsidian, it’d be good to first lay out the foundations of a **Personal Knowledge Management System** and **Zettelkasten**. The inspiration for this section and a lot of the work on Zettelkasten is from *Niklas Luhmann*, an outstandingly productive sociologist who wrote 400 papers and 70 books. Zettelkasten means (literally) “slip box” (or library in this article). In his case, his Zettlekasten had around 90000 physical notes, which have been digitized. Nowadays, there are loads of tools available to make this process easier and more intuitive. Obsidian, specifically has a good introduction section on their website: [https://publish.obsidian.md/hub/](https://publish.obsidian.md/hub/)\n",
    "\n"
   ]
  },
  {
   "cell_type": "markdown",
   "id": "333c7fdf-fdb4-47e5-a51f-2ea8b7955928",
   "metadata": {},
   "source": [
    "**Notes**\n",
    "\n"
   ]
  },
  {
   "cell_type": "markdown",
   "id": "d7352bd5-f760-4480-95fb-bfeb571c3932",
   "metadata": {},
   "source": [
    "We will start by considering **“What is a note?”**. Although it seems like a trivial question, the answer to this may vary depending on the topic or your style of notes. The idea, however, is that a note is as “atomic” (ie. self-contained) as possible. You should be reading the note and understand the idea immediately.\n",
    "\n",
    "The resolution of your notes depends on how much detail you have for that note. For example, a note about *“Deep Learning”* could be just a general description of what Neural Networks are, and maybe a few notes on the different types of architectures (eg. Recurrent Neural Networks, Convolutional Neural Networks, etc..).\n",
    "\n",
    "A good rule of thumb to have is to limit length and detail. If you require more detail, in a specific section of this note, it would make sense to break it up into several smaller notes. So, from our original note “Deep Learning” we now have three notes:\n",
    "\n",
    "    Deep Learning\n",
    "    Recurrent Neural Networks\n",
    "    Convolutional Neural Networks"
   ]
  },
  {
   "cell_type": "markdown",
   "id": "688647c0-cf12-4504-a4a5-2c4750d63cec",
   "metadata": {},
   "source": [
    "**#Tags and [[Links]] over /Folders/**\n",
    "\n",
    "For example, Deep Learning has been used for Protein Structure prediction (AlphaFold) and image classification (ImageNet). Now, if you had a folder structure like this:\n",
    "\n",
    "    - /Proteins/\n",
    "       - Protein Folding\n",
    "    - /Deep Learning/\n",
    "       - Convolutional Neural Networks\n",
    "\n",
    "Your notes about Protein Folding and Convolutional Neural Networks will be independent and when you are in the “Protein” folder, you won’t be able to find notes about Neural Networks."
   ]
  },
  {
   "cell_type": "markdown",
   "id": "89aaee7e-cd91-4236-9fa9-0cb0ed6f22d1",
   "metadata": {},
   "source": [
    "There are several ways to solve this problem. The most common one is to use **tags rather than folders**. This way, one note can be grouped with more than just one topic. Tags can also be nested (ie. have subtags) in Obsidian.\n",
    "\n",
    "Also, you can link two notes together with links. Obsidian and some other note-taking apps let you connect one note to another so that you can then jump to that note and build your **“Knowledge Graph”** as shown below:"
   ]
  },
  {
   "cell_type": "markdown",
   "id": "655d3938-661a-42f5-aa0f-fabf9fe5b7ae",
   "metadata": {},
   "source": [
    " ### When to use Folders\n",
    "\n",
    " Folders are however useful to organize your vault, especially as it grows. The main advice here is to have very few folders, as they should \"weakly\" collect groups of notes or better collect different types or sources of notes.\n",
    "\n",
    " They generally collect different sources of information. For example, these are the folders I use in my Zettelkasten:"
   ]
  },
  {
   "cell_type": "markdown",
   "id": "2ad74b08-9e3c-4cad-b305-ca608ff3e16b",
   "metadata": {},
   "source": [
    "![alternative text](images/folders_sample.webp)"
   ]
  },
  {
   "cell_type": "markdown",
   "id": "d61e5fe3-80f6-4151-a641-435e7562a525",
   "metadata": {},
   "source": [
    "`MOC`: Contains all the Maps of Contents to navigate the Zettelkasten.</br>\n",
    "`Projects`: Contains one note for each side-project of my PhD where I log my progress and ideas. These are also linked to notes.</br>\n",
    "`Bio and ML`: These two are essentially the main content of my Zettelkasten and they could in theory be fused into one folder.</br>\n",
    "`Papers`: Here I place all the notes I take from scientific papers. The notes are synced using a bibliography *.bib* file from Zotero.</br>\n",
    "`Books`: I write a note for each book I read and generally split them into multiple notes after I go through them."
   ]
  },
  {
   "cell_type": "markdown",
   "id": "15f396e0-7a09-4162-aead-a26cc28291fe",
   "metadata": {},
   "source": [
    "Having a separate folder for images can also be a good idea, to avoid cluttering your main folders with image files.\n",
    "\n",
    "I will discuss these more in detail in the **Workflow Section**.\n",
    "\n",
    "`My general suggestion for folders is to minimize them as much as possible and to use tags and links instead`."
   ]
  },
  {
   "cell_type": "markdown",
   "id": "68c0470c-b0d0-44c1-8c1e-c440328fc858",
   "metadata": {},
   "source": [
    "**Maps of Content (MOC)**\n",
    "\n",
    "As you start growing your Zettelkasten, you might find it hard to find notes, especially when taking notes of different topics. A good solution to this is to create notes called Maps of Contents (MOCs).\n",
    "\n",
    "These are notes that \"signposts\" your Zettelkasten library, directing you to the right type of notes. Inside of it you can link to other notes based on tags of a common topic. Usually this is done with a title, followed by your notes that relate to that title. This is an example:\n",
    "\n",
    "![alternative text](images/moc_sample.webp)"
   ]
  },
  {
   "cell_type": "markdown",
   "id": "48f52b22-edc8-4e0c-bcfc-e2a6efb56d60",
   "metadata": {},
   "source": [
    "As shown above, my Machine Learning MOC starts with the basics, all in one section. It then moves to Variational Auto-Encoders and Transformers. This allows you to group and quickly find all notes related to a tag without having to scroll through the tag search section.\n",
    "\n",
    "This is why I keep MOCs at the top of my library, as I can quickly find the information I need and get a quick look at my library. `These MOCs are automatically generated using an Obsidian Plugin called Dataview` [https://github.com/blacksmithgu/obsidian-dataview](https://github.com/blacksmithgu/obsidian-dataview) which works much like SQL queries."
   ]
  },
  {
   "cell_type": "markdown",
   "id": "e2176237-bc34-429b-aed8-479b5c8505c6",
   "metadata": {},
   "source": [
    "Ideally, MOCs can be expanded and should have a bit more explanations about the notes, their status, and what you still need to do. In the absence of this, Dataview does a fantastic job at creating a good structure for your notes.\n",
    "\n",
    "EDIT: This is the template I use for the screenshot above:\n",
    "\n",
    "Dataview query for MOC (code)\n",
    "\n",
    "    ### Basics\n",
    "    ```dataview\n",
    "    table tags as \"Tags\"\n",
    "    from \"2. Notes\"\n",
    "    WHERE contains(tags, \"optimisation\")\n",
    "    SORT file.name ASC\n",
    "    ```\n",
    "    \n",
    "    ### VAE\n",
    "    ```dataview\n",
    "    table tags as \"Tags\"\n",
    "    from \"2. Notes\"\n",
    "    WHERE contains(tags, \"vae\")\n",
    "    SORT file.name ASC\n",
    "    ```\n",
    "    \n",
    "    ### Transformers\n",
    "    ```dataview\n",
    "    table tags as \"Tags\"\n",
    "    from \"2. Notes\"\n",
    "    WHERE contains(tags, \"attention\")\n",
    "    SORT file.name ASC\n",
    "    ```"
   ]
  },
  {
   "cell_type": "markdown",
   "id": "aec3e212-fbf2-4281-91ef-2c90f6f87928",
   "metadata": {},
   "source": [
    "Alternatively, this is what a book tracker looks like:\n",
    "\n",
    "Dataview query for books in folder “4. Books”\n",
    "\n",
    "![alternative text](images/books_moc_sample.webp)"
   ]
  },
  {
   "cell_type": "markdown",
   "id": "a133a7e7-50b1-402f-a33c-80357f6b662e",
   "metadata": {},
   "source": [
    "    # Books MOC\n",
    "    ```dataview\n",
    "    table author as Author, date as \"Date Finished\", tags as \"Tags\", grade as \"Grade\"\n",
    "    from \"4. Books\"\n",
    "    SORT grade DESCENDING\n",
    "    ```"
   ]
  },
  {
   "cell_type": "markdown",
   "id": "fd483f57-c584-4ffe-97e1-e01263cae6d9",
   "metadata": {},
   "source": [
    "Where each book note looks like this:\n",
    "\n",
    "Book note with fields.\n",
    "\n",
    "![alternative text](images/books_notes.webp)\n",
    "\n",
    "    ### [Books MOC](../0.%20MOC/Books%20MOC.md)\n",
    "    # Social Engineering : The Art of Human Hacking\n",
    "    **Author**:: Chris Hadnagy\n",
    "    **Date**:: 2022-01-01\n",
    "    **Tags**:: #psychology/socialengineering #psychology\n",
    "    **Grade**::  9/10\n",
    "    **Links**::  \n",
    "    \n",
    "    ## Gathering Information\n",
    "    \n",
    "    - **Example**: \"Can you tell me one person who you think could benefit from this product as much as you will?\"\n",
    "    - As a salesperson you can now call people use that information to be like \"Your friend bought XYZ premium / upfront\""
   ]
  },
  {
   "cell_type": "markdown",
   "id": "52486e4c-2aeb-4d3b-b351-cb18f74d1204",
   "metadata": {},
   "source": [
    "## 2. Tools: Getting to know Obsidian"
   ]
  },
  {
   "cell_type": "markdown",
   "id": "5cab71cf-c66a-4de4-8a09-a2fe355b48b2",
   "metadata": {},
   "source": [
    "Obsidian is my tool of choice as it is free, all the notes are stored in Markdown format, it can be customized/themed, and each panel can be moved around in drag and drop fashion. You can download it here: [https://obsidian.md/](https://obsidian.md/)."
   ]
  },
  {
   "cell_type": "markdown",
   "id": "10a58b9a-bb9d-45e6-94a6-5fb874c73e0c",
   "metadata": {},
   "source": [
    "**Interface**\n",
    "\n",
    "As I mentioned, Obsidian is very customizable, so I found this to be my optimal interface:\n",
    "\n",
    "![alternative text](images/obsidian_interface.webp)\n",
    "\n",
    "My interface in Obsidian. The theme is customized from [https://github.com/colineckert/obsidian-things](https://github.com/colineckert/obsidian-things)"
   ]
  },
  {
   "cell_type": "markdown",
   "id": "1a6c61a0-10f2-485b-9f2e-ffebb60c180a",
   "metadata": {},
   "source": [
    "If you want something simpler, each panel can be collapsed, moved, or removed in whatever way you wish. If you need to find a panel later on, you can click on the vertical \"…\" (bottom left of the note panel), and open the relevant panel.\n",
    "\n",
    "Generally my interface is organized as such:\n",
    "\n",
    "![Text](images/obsidian_interface_sections.webp)\n",
    "\n",
    "How you can organize your Obsidian Interface."
   ]
  },
  {
   "cell_type": "markdown",
   "id": "6a966a6e-a06f-41b0-84da-eb74d3e2de4f",
   "metadata": {},
   "source": [
    "**Folders / Search:** Here I have all the relevant folders. I usually use the MOC note to get to wherever I want, otherwise, I use the search button to look for a note.</br>\n",
    "**Tags:** I use nested tags and usually look into each of them if I am looking for specific notes to link.</br>\n",
    "**cMenu:** Nice plugin to place useful functionality in a handy menu (https://github.com/chetachiezikeuzor/cMenu-Plugin)</br>\n",
    "**Global Graph:** The graph shows all your notes (linked and unlinked). Linked notes will appear closer together. You can zoom in to read the title of each note. This can be a bit overwhelming at first, however, as your library grows, you get used to the positions and start thinking of possible connections between notes that you may not have thought about.</br>\n",
    "**Local Graph:** This will show your current note, in relation to other linked notes in your library. It is useful to quickly jump to another link when you need to, and go back to the current note.</br>\n",
    "**Links:** Finally, here I keep all the linked mentions of the notes, as well as an outline panel and the plugin Power Search (https://github.com/aviral-batra/obsidian-power-search), which allows me to search my vault by highlighting some text."
   ]
  },
  {
   "cell_type": "markdown",
   "id": "0713ba34-8ac7-4171-8ac0-d950a1ea9b62",
   "metadata": {},
   "source": [
    "**Plugins**\n",
    "\n",
    "Another major advantage of using Obsidian is the vast choice of plugins. I use many but here are a few of the ones I use the most (**Calendar, Citations, Dataview, Templater, Admonition**):\n",
    "\n",
    "**Calendar:** [https://github.com/liamcain/obsidian-calendar-plugin](https://github.com/liamcain/obsidian-calendar-plugin)\n",
    "Gives you a calendar to organize your notes. This is optimal for taking notes from meetings or keeping a journal.\n",
    "\n",
    "**Citations**: [https://github.com/hans/obsidian-citation-plugin](https://github.com/hans/obsidian-citation-plugin)\n",
    "Allows you to cite papers from a .bib file to include in your notes. You can also customize how your notes will be produced (eg. Title, Authors, Abstract, etc..)\n",
    "\n",
    "**Dataview:** [https://github.com/blacksmithgu/obsidian-dataview](https://github.com/blacksmithgu/obsidian-dataview)\n",
    "Probably among the most powerful plugins as it allows you to query your library as a database and automatically generate content. You can see an example in the MOC section.\n",
    "\n",
    "**Templater:** [https://github.com/SilentVoid13/Templater](https://github.com/SilentVoid13/Templater)\n",
    "Allows you to create notes with specific templates like dates, tags, and headings.\n",
    "\n",
    "**Admonition:** [https://github.com/valentine195/obsidian-admonition](https://github.com/valentine195/obsidian-admonition)\n",
    "Allows you to structure your notes with blocks."
   ]
  },
  {
   "cell_type": "markdown",
   "id": "d8ff3b5e-e00b-4ed5-b82d-02cd0b239a72",
   "metadata": {},
   "source": [
    "**Theme (new addition)**\n",
    "\n",
    "Many have asked about my theme settings and CSS.\n",
    "\n",
    "My CSS:\n",
    "\n",
    "    - Adds white background to all the images (which allows me to add transparent images and see them properly in dark mode)\n",
    "    - Leave a 40px of space between the title bar and the content\n",
    "    - Increase the font for LaTeX formulae"
   ]
  },
  {
   "cell_type": "markdown",
   "id": "5e26de60-8bf6-43d1-8446-2db3cf85d0de",
   "metadata": {},
   "source": [
    "    .markdown-source-view.mod-cm6 .cm-scroller, .markdown-source-view, .cm-s-obsidian, .cm-s-obsidian span.cm-formatting-task{\n",
    "    margin-top: 40px !important;\n",
    "    }\n",
    "    \n",
    "    .workspace-leaf.mod-active .view-header {\n",
    "        background: linear-gradient(\n",
    "    120deg\n",
    "    , var(--color-view-header-gradient-2) 0.5%, var(--color-view-header-gradient-2) 0.5%);\n",
    "    }\n",
    "    \n",
    "    img{ background: white;}\n",
    "    \n",
    "    mjx-math {\n",
    "      font-size: 150% !important;\n",
    "    }\n",
    "    view raw\n",
    "\n",
    "[src](https://gist.github.com/universvm/9f805f952063cda7618f6f9a77e8c2dc#file-leo_obsidian_css_snippet-css)"
   ]
  },
  {
   "cell_type": "markdown",
   "id": "cc32e0cd-84b8-4140-95dd-028b742da40d",
   "metadata": {},
   "source": [
    "My settings for the Things theme add additional colors to the headings:"
   ]
  },
  {
   "cell_type": "markdown",
   "id": "07ccef95-920d-4f68-9a77-ac010a6c1dc7",
   "metadata": {},
   "source": [
    "    {\n",
    "      \"blue-topaz-theme@@color-scheme-options\": \"color-scheme-options-default\",\n",
    "      \"blue-topaz-theme@@layout-style-options\": \"layout-style-options-default\",\n",
    "      \"blue-topaz-theme@@font-size-folder-and-file\": \"0.90em\",\n",
    "      \"blue-topaz-theme@@h1-color@@dark\": \"#C86E78\",\n",
    "      \"blue-topaz-theme@@h2-color@@dark\": \"#C88974\",\n",
    "      \"blue-topaz-theme@@font-family-vault\": \"monaco\",\n",
    "      \"blue-topaz-theme@@translucent-setting-panel\": false,\n",
    "      \"blue-topaz-theme@@blur-depth\": 26,\n",
    "      \"blue-topaz-theme@@background-settings-workplace-background-image\": false,\n",
    "      \"blue-topaz-theme@@clutter-free-headings\": true,\n",
    "      \"blue-topaz-theme@@background-image-settings-switch\": true,\n",
    "      \"blue-topaz-theme@@bt-status-off\": false,\n",
    "      \"blue-topaz-theme@@non-border-bottom-header\": false,\n",
    "      \"blue-topaz-theme@@circular-checkbox\": false,\n",
    "      \"blue-topaz-theme@@muted-activeline-bg\": false,\n",
    "      \"blue-topaz-theme@@rainbow-lines\": false,\n",
    "      \"blue-topaz-theme@@light-background-color-files\": false,\n",
    "      \"blue-topaz-theme@@folder-style-change-options-colorful\": false,\n",
    "      \"blue-topaz-theme@@folder-style-change-options-colorful-subfolder\": \"folder-colorful-one\",\n",
    "      \"blue-topaz-theme@@font-family-change-to-default\": true,\n",
    "      \"things-style@@minimal-icons-off\": true,\n",
    "      \"things-style@@full-file-names\": false,\n",
    "      \"things-style@@font-small\": 15,\n",
    "      \"things-style@@cursor\": \"default\",\n",
    "      \"things-style@@macOS-translucent\": false,\n",
    "      \"things-style@@h3-color\": \"#B87CDF\",\n",
    "      \"things-style@@h2-color\": \"#4B9DC5\",\n",
    "      \"things-style@@em-color\": \"#E5B567\",\n",
    "      \"things-style@@h1\": \"1.6em\"\n",
    "    }\n",
    "\n",
    "[src](https://gist.github.com/universvm/361fd3e6b8c4713c5dc02f2f2448af31#file-leo_things_theme_settings-json)"
   ]
  },
  {
   "cell_type": "markdown",
   "id": "58ae2956-701c-44bd-adba-a79fdf6495e7",
   "metadata": {},
   "source": [
    "To import my theme settings you will need the plugin Style Settings: [https://github.com/mgmeyers/obsidian-style-settings](https://github.com/mgmeyers/obsidian-style-settings)"
   ]
  },
  {
   "cell_type": "markdown",
   "id": "2bf8d7f5-c721-4f29-b13e-516d62aef6fc",
   "metadata": {},
   "source": [
    "## 3. Workflows: Doing cool things"
   ]
  },
  {
   "cell_type": "markdown",
   "id": "5742f0e5-f11e-469f-9a5a-21c7fbf7eba4",
   "metadata": {},
   "source": [
    "Here I outline a few of my **workflows on how I use obsidian to take notes for scientific research**. Several of these are very specific to my use-cases but I believe they could be useful. I will first outline and describe each of them briefly to allow you to skim through them quickly."
   ]
  },
  {
   "cell_type": "markdown",
   "id": "c59dbb0b-3038-4f6e-addc-cc64c1c70d77",
   "metadata": {},
   "source": [
    "    3.1 Structuring Notes Effectively with Templates\n",
    "    3.2 Syncing Your Notes for Free (Laptop, Phone, Tablet)\n",
    "    3.3 Zotero/Mendeley/JabRef -> Obsidian — Taking Notes and Managing Reading Lists of Scientific Papers\n",
    "    3.4 Managing Projects and Lab Books\n",
    "    3.5 Encrypted and Private Diary"
   ]
  },
  {
   "cell_type": "markdown",
   "id": "6f730954-e2a5-49ee-93f0-07698f323983",
   "metadata": {},
   "source": [
    "### 3.1 Structuring Notes Effectively with Templates"
   ]
  },
  {
   "cell_type": "markdown",
   "id": "88b82cfe-0c01-4139-8fb9-1cd7d9952032",
   "metadata": {},
   "source": [
    "Plugins Used: `Templater (optional) and Dataview (optional)`.\n",
    "\n",
    "To take notes effectively, you must first make the process of adding new notes as simple as possible. Templates can save you a significant amount of time while also giving you a consistent structure to your notes. Below is an example:"
   ]
  },
  {
   "cell_type": "markdown",
   "id": "12e219c6-5896-4c82-bba6-5ddd35e3b559",
   "metadata": {},
   "source": [
    "![Text](images/note_sample.webp)"
   ]
  },
  {
   "cell_type": "markdown",
   "id": "66d27eb1-d174-40eb-ba3e-5aaacd86cdb6",
   "metadata": {},
   "source": [
    "An example of a note made with a consistent template.\n",
    "\n",
    "    ### [[YOUR MOC]]\n",
    "    # The Title of Your Note\n",
    "    **Tags**:: \n",
    "    **Links**::"
   ]
  },
  {
   "cell_type": "markdown",
   "id": "f38a84e1-f945-4f79-b6f2-656d9f2a0bf7",
   "metadata": {},
   "source": [
    "The topmost line is a link to your Map of Content (MOC), your signpost to explore your knowledge base (see previous sections). After the title, I add `tags`, that relate the note to topics (and also add a link between the note and the tag) and `links` to other related notes.\n",
    "\n",
    "Occasionally, a note might still require work to do, so I add a tag `“#todo”`, to quickly identify all the notes that need to be expanded. In the “TODO:” section I add the work I need to do within the note.\n",
    "\n",
    "The rest is followed by notes on the actual topic.\n",
    "\n",
    "Templater can help you build these templates more easily. For example, I have the following template for new books:\n",
    "\n",
    "    ### [[Books MOC]]\n",
    "    # Title\n",
    "    **Author**:: \n",
    "    **Date**:: \n",
    "    **Tags**:: \n",
    "    **Links**\n",
    "\n",
    "![Text](images/books_moc_sample_template.webp)"
   ]
  },
  {
   "cell_type": "markdown",
   "id": "d2a61c1f-b463-4c9a-93b9-455cae01d1e2",
   "metadata": {},
   "source": [
    "Which I can then hook with Dataview with a simple query like such:\n",
    "\n",
    "    ```dataview\n",
    "    table author as Author, date as \"Date Finished\", tags as \"Tags\", grade as \"Grade\"\n",
    "    from \"4. Books\"\n",
    "    SORT grade DESCENDING\n",
    "    ```\n",
    "\n",
    "Using Dataview to query notes with specific templates.\n",
    "![Text](images/dataview_query.webp)"
   ]
  },
  {
   "cell_type": "markdown",
   "id": "9e6cda5c-dbf8-4319-b926-15341a8eac4e",
   "metadata": {},
   "source": [
    "### 3.2 Syncing Your Notes for Free (Laptop, Phone, Tablet)"
   ]
  },
  {
   "cell_type": "markdown",
   "id": "c90a1326-ca3e-4489-9c22-d59412b5a710",
   "metadata": {},
   "source": [
    "Plugins used: None.\n",
    "\n",
    "One of the things I love the most about Obsidian is that the format of the library is self-contained and portable. Everything (including plugins) is contained in your folder. Your folders and notes are available as ordinary folders and documents. You will also notice a hidden folder called ‍‍`“.obsidian”`. This contains all your plugins and settings, so as long as you have this, you will be able to carry your settings to other devices.\n",
    "\n",
    "You can therefore use any cloud platform you like, like Google Drive, iCloud, or DropBox for free as long as you sync your folder (note: your folder should be in your Cloud Folder).\n",
    "\n",
    "![Text](images/library_sample_iCloud.webp)"
   ]
  },
  {
   "cell_type": "markdown",
   "id": "23f0c0e7-d8fb-4715-b5fd-fb90ea74433e",
   "metadata": {},
   "source": [
    "### 3.3 Zotero/Mendeley/JabRef -> Obsidian — Taking Notes and Managing Reading Lists of Scientific Papers"
   ]
  },
  {
   "cell_type": "markdown",
   "id": "c12dc62e-3917-4894-ac47-b53ca7a095ad",
   "metadata": {},
   "source": [
    "Plugins used: Citations (required).\n",
    "\n",
    "Zotero is my reference manager of choice although this workflow should work for any reference manager that produces a .bib (bibliography) file. I export this file and keep it in my cloud folder so that I can access it from Obsidian on any platform.\n",
    "\n",
    "I organize my Zotero library with the following tags:\n",
    "\n",
    "![Text](images/zotero_tags.webp)"
   ]
  },
  {
   "cell_type": "markdown",
   "id": "e0fdc2a7-5c4d-4f5d-bdd5-a38b08b1b0f6",
   "metadata": {},
   "source": [
    "When I need to do readings, I will usually filter for the tags “!!!” and “To-Read” and choose a paper. I will then annotate the paper (either on PDF using GoodNotes or on physical paper).\n",
    "\n",
    "Then, I create a page for the paper using a template that you can manage in the Citations plugin settings:\n",
    "\n",
    "![Text](images/literature_note_template.webp)\n",
    "\n",
    "Create a new note and then use CMD / CTRL + P to open up the commands list and find the Citations “Insert literature note content in the current pane” and you will be greeted by this beautiful view.\n",
    "\n",
    "![Text](images/auto_citation.webp)\n",
    "\n",
    "You can then transcribe your notes into digital format. I found that the process of transcribing helped me retain information better, so I would recommend it."
   ]
  },
  {
   "cell_type": "markdown",
   "id": "54fbdd96-a52c-488f-91f7-6446057f01bf",
   "metadata": {},
   "source": [
    "### 3.4 Managing Projects and Lab Books"
   ]
  },
  {
   "cell_type": "markdown",
   "id": "d1332072-1875-4677-b93a-a23ef1c77d1e",
   "metadata": {},
   "source": [
    "PhD students at the thesis writing stage are usually full of advice (read as regret). I made it a habit of asking them things they would have done earlier or differently. One of the responses stuck with me:\n",
    "\n",
    "*Deep stuff Leo. So my big problem is basic organisation, losing track of the tasks I ve got to do and the reasons that motivate those tasks in the first place. sometimes I d just forget about the experiments that motivated a particular experiment so I d end up going other experiments that didn t make complete sense and having to reverse engineer my logic for thesis writing*\n",
    "A wise PhD student, now Postdoc"
   ]
  },
  {
   "cell_type": "markdown",
   "id": "ea0f48a4-aaba-4b83-8ebf-25da63d9b9c2",
   "metadata": {},
   "source": [
    "**Organization is key to avoid wasting time. Especially during a PhD, organizing several projects and keeping a lab book for each of them is hard. The way I deal with it is:**\n",
    "\n",
    "    - One folder for all my projects\n",
    "    - One file for each project"
   ]
  },
  {
   "cell_type": "markdown",
   "id": "da6bb99f-f5a9-45e4-b2c4-8c6eab6f8aec",
   "metadata": {},
   "source": [
    "I then create the header of each project with a template.\n",
    "\n",
    "    ### [[Projects MOC]]\n",
    "    # <% tp.file.title %>\n",
    "    **Tags**::\n",
    "    **Links**::\n",
    "    **URL**::\n",
    "    **Project Description**::## Notes:\n",
    "    ### <% tp.file.last_modified_date(\"dddd Do MMMM YYYY\") %>\n",
    "    #### Done:\n",
    "    #### TODO:\n",
    "    #### Notes"
   ]
  },
  {
   "cell_type": "markdown",
   "id": "b16a0615-86e8-4b3e-b5bc-befec9e9abd5",
   "metadata": {},
   "source": [
    "You can insert a template into a new note with CMD + P and looking for the Templater option.\n",
    "\n",
    "I then keep adding new days with another template:\n",
    "\n",
    "    ### <% tp.file.last_modified_date(\"dddd Do MMMM YYYY\") %>\n",
    "    #### Done:\n",
    "    #### TODO:\n",
    "    #### Notes:"
   ]
  },
  {
   "cell_type": "markdown",
   "id": "2bd2c8e1-5a59-478b-b297-2b7c40c1662c",
   "metadata": {},
   "source": [
    "This way you can keep adding days to your project and update with reasonings and things you still have to do and have done. An example below:\n",
    "\n",
    "![Text](images/project_note.webp)\n",
    "\n",
    "Example of project note with timestamped notes."
   ]
  },
  {
   "cell_type": "markdown",
   "id": "1aa2db11-36dd-4a46-8059-e3978e4e8261",
   "metadata": {},
   "source": [
    "### 3.5 Encrypted and Private Diary"
   ]
  },
  {
   "cell_type": "markdown",
   "id": "fd100d88-ca51-4172-aa77-0eab69bcf21f",
   "metadata": {},
   "source": [
    "Perhaps this is one of my favorite applications of Obsidian.\n",
    "\n",
    "I have been frustrated with Mini Diary and its interface for a while. After the project got archived by the author I decided to find an alternative. I had two requirements:\n",
    "\n",
    "    - It had to be private, and I wanted absolutely nobody to be able to read the content of the entries.\n",
    "    - It had to sync with the cloud so I could edit it in different devices.\n",
    "\n",
    "I then found out about encrypting the Obsidian folder on disk. You can then decrypt the folder and open it with Obsidian. The folder can be synced as per usual.\n",
    "\n",
    "To do this I use CryptoMator (https://cryptomator.org/). You can add a your Obsidian vault as a folder to encrypt on Cryptomator, set up a password and it will take care of the rest.\n",
    "\n",
    "You can watch this video if you would like a step-by-step video guide"
   ]
  },
  {
   "cell_type": "markdown",
   "id": "01fc4b62-0671-4a89-8949-6b8fa93aad94",
   "metadata": {},
   "source": [
    "# **Obsidian Tutorial for Academic Writing**"
   ]
  },
  {
   "cell_type": "markdown",
   "id": "7156e9ac-ce18-48ba-b34c-5b3e2d6111c4",
   "metadata": {},
   "source": [
    "Practical writing Tips for Manuscript Writing, Posters, and exporting citations to Word, PDF, and Latex."
   ]
  },
  {
   "cell_type": "markdown",
   "id": "79c7bc6c-8124-4ef1-8ba1-defc88eb5012",
   "metadata": {},
   "source": [
    "**Table of Contents**\n",
    "\n",
    "Using Obsidian for Academic Writing\n",
    "\n",
    "    1- Writing Notes from Papers\n",
    "        — A. Connecting Zotero to Obsidian\n",
    "        — B. Literature Notes Templates\n",
    "        — C. Importing Highlights from Zotero\n",
    "    2- Writing a Manuscript\n",
    "        — A. Insert a Citation in Markdown\n",
    "        — B. Copy MLA Citations to Text\n",
    "        — C. LaTeX-like Figures and Section Referencing (NEW: Added Jan/2023)\n",
    "    3- Exporting your Text (with citations)\n",
    "        — A. Converting Links (Obsidian to Markdown notation)\n",
    "        — B. Exporting to PDF, Word, LaTeX\n",
    "    4- Creating Academic Documents (NEW: Added Dec/2022)\n",
    "        — A. Academic PDF (.pdf) / LaTeX (.tex) Export with Plugin (NEW — Added Jun/2023)\n",
    "        — B. PDF (.pdf) Export with CSS\n",
    "        — C. Bibliography (.bib) Export with Pandoc\n",
    "        — D. PDF (.pdf) Export with Custom Pandoc Template (LEGACY)\n",
    "        — E. LaTeX (.tex) Export with Custom Pandoc Template (LEGACY)"
   ]
  },
  {
   "cell_type": "markdown",
   "id": "fd1d71b4-f805-459c-8ae2-4d731aa0633d",
   "metadata": {},
   "source": [
    "**Tools:**\n",
    "\n",
    "    Zotero\n",
    "    Zotero Plugins:\n",
    "        – Zotfile\n",
    "        – BetterBibtex\n",
    "        – Mdnotes\n",
    "    Obsidian Plugins:\n",
    "        – Citations\n",
    "        – Pandoc Reference List\n",
    "        – Obsidian Enhancing Export\n",
    "        – Obsidian Link Converter\n",
    "    Pandoc\n",
    "        - Pandoc-Crossref (for dynamic figure and section referencing)\n",
    "    Obsidian Shortcuts:\n",
    "        – Preferences: CMD + ,\n",
    "        – Command Palette: CMD + P"
   ]
  },
  {
   "cell_type": "markdown",
   "id": "912a619b-6be1-4a5c-abb4-98ba80e1debe",
   "metadata": {},
   "source": [
    "### 1. Writing Notes from Papers"
   ]
  },
  {
   "cell_type": "markdown",
   "id": "4eca3d9a-6754-41af-9a7f-8efba84223ce",
   "metadata": {},
   "source": [
    "Zotero is a great open-source reference manager commonly used in academia. Only a few people know that it can be used for highlighting papers and annotating ideas on the PDF document itself. With some tweaks, we can get Zotero to sync this information with Obsidian, so as to have a more convenient space to take notes."
   ]
  },
  {
   "cell_type": "markdown",
   "id": "fbfb7a53-8370-4832-aa2c-854f55ecff2e",
   "metadata": {},
   "source": [
    "#### 1A. Connecting Zotero to Obsidian\n",
    "\n",
    "To connect Zotero to Obsidian we need to export a .bib file which includes all the information about your papers. It’s essentially a JSON-looking file that looks like this:\n",
    "\n",
    "    @article{castorina2021,\n",
    "      title = {{{PDBench}}: Evaluating Computational Methods for Protein-Sequence Design},\n",
    "      shorttitle = {{{PDBench}}},\n",
    "      author = {Castorina, Leonardo V and Petrenas, Rokas and Subr, Kartic and Wood, Christopher W},\n",
    "      year = {2023},\n",
    "      month = jan,\n",
    "      journal = {Bioinformatics},\n",
    "      volume = {39},\n",
    "      number = {1},\n",
    "      pages = {btad027},\n",
    "      issn = {1367-4811},\n",
    "      doi = {10.1093/bioinformatics/btad027},\n",
    "      url = {https://academic.oup.com/bioinformatics/article/doi/10.1093/bioinformatics/btad027/6986968},\n",
    "      urldate = {2023-01-26},\n",
    "      langid = {english},\n",
    "    }"
   ]
  },
  {
   "cell_type": "markdown",
   "id": "2b46b476-1441-4973-bd82-316021e31bf3",
   "metadata": {},
   "source": [
    "To do this, install the plugins:\n",
    "\n",
    "    • Zotfile: http://zotfile.com/\n",
    "    • BetterBibtex: https://retorque.re/zotero-better-bibtex/\n",
    "    • Mdnotes: https://github.com/argenos/zotero-mdnotes/releases/tag/0.2.3\n",
    "\n",
    "Zotero > Tools > Add-ons > Gear Icon > \"Install Add-on from file\" then Select the .xpi files and they will be installed.\n",
    "\n",
    "Then, export your library as a .bib file by:\n",
    "\n",
    "Right Click on the library > Export Library > Select \"BetterBibLatex\" and Keep Updated (see below)\n",
    "\n",
    "![Text](images/export_lib.webp)\n",
    "\n",
    "Choose a path of your choice. It is a good idea to keep it in the cloud if you use multiple machines.\n",
    "\n",
    "I would recommend you select your Zotero library to export and set it to automatically export “On Change”. This way your library is always updated as soon as new papers are added to your library. I suggest you export it to a folder you sync with a cloud service. In this case, I am using iCloud, but you could use any other cloud service.\n",
    "\n",
    "Another option I would recommend is “Export Notes”. Essentially all your highlights and additional notes on papers will be converted to a field in the bibliography file which we can then access from Obsidian.\n",
    "\n",
    "Check that you did everything correct, by going to the Better BibTex Preferences:\n",
    "\n",
    "Zotero > Preferences (shortcut: CMD + ,) > Better BibTex > Open Better BibTex Preferences > Automatic Export\n",
    "\n",
    "![Text](images/better_bibtext.webp)"
   ]
  },
  {
   "cell_type": "markdown",
   "id": "337005d1-2c4d-4ee1-8eff-ccef3d9a1479",
   "metadata": {},
   "source": [
    "#### 1B. Literature Notes Templates\n",
    "\n",
    "Now onto Obsidian, we will need the Citations Plugin. To install simply go to:\n",
    "\n",
    "Obsidian > Preferences > Community Plugins > Browse\n",
    "Then type “Citation” in the search bar and click on “Enable”.\n",
    "\n",
    "Once enabled, close the tab and go to the plugin page:\n",
    "\n",
    "Set “Citation Database” format to “BibLaTeX” and for the “Citation database path” the path to your .bib file.\n",
    "\n",
    "![Text](images/Citation_1.webp)\n",
    "\n",
    "You can then scroll down to the template settings and customise how your literature notes will be created:\n",
    "\n",
    "![Text](imagex/Citation_2.webp)\n",
    "\n",
    "I use the following template:\n",
    "\n",
    "    # {{title}}\n",
    "    #### ({{year}}) - {{authorString}}\n",
    "    **Link**:: {{URL}}\n",
    "    **DOI**:: {{DOI}}\n",
    "    **Links**:: \n",
    "    **Tags**:: #paper\n",
    "    **Cite Key**:: [@{{citekey}}]\n",
    "    \n",
    "    ### Abstract\n",
    "    \n",
    "    ```\n",
    "    {{abstract}}\n",
    "    ```\n",
    "    \n",
    "    ### Notes"
   ]
  },
  {
   "cell_type": "markdown",
   "id": "62f61db5-5e58-4764-8e9d-561385afd653",
   "metadata": {},
   "source": [
    "An example of a note generated with this template is shown below:\n",
    "\n",
    "![Text](images/note_imported.webp)"
   ]
  },
  {
   "cell_type": "markdown",
   "id": "ace6abb2-fdd4-4ef3-84c1-eca783e59edf",
   "metadata": {},
   "source": [
    "#### 1C. Importing Highlights from Zotero"
   ]
  },
  {
   "cell_type": "markdown",
   "id": "43cac709-faa0-491e-8fd1-89235441d744",
   "metadata": {},
   "source": [
    "What you’ve seen so far is great, however, if you do most of your highlighting on Zotero PDF files, we can also export them as part of the notes section in the template.\n",
    "\n",
    "This is especially useful if you highlight on Zotero using a tablet and use their sync utility to sync with your laptop. To do this we use the `Mdnotes plugin`.\n",
    "\n",
    "Start by opening a PDF file of a paper in Zotero, and highlight and annotate your document.\n",
    "\n",
    "In Zotero then find the paper you have highlighted, right-click, and then select `“Add Note from Annotations”`.\n",
    "You will now see the annotations appearing as a note under the citation.\n",
    "\n",
    "In Obsidian, open the command palette with:\n",
    "\n",
    "`CMD + P > “Citations: Refresh Citation Database”`\n",
    "\n",
    "![Text](images/refresh_citation.webp)\n",
    "\n",
    "This allows your new papers and annotations to be re-loaded in Obsidian from the bibliography file.\n",
    "\n",
    "![Text](images/note_imported_anno.webp)"
   ]
  },
  {
   "cell_type": "markdown",
   "id": "c8d4aff7-2e96-4f32-ad2b-a402f531674a",
   "metadata": {},
   "source": [
    "If you’re having trouble with the annotations appearing empty, I would suggest exporting the bibliography file again from the preferences menu in Zotero and clicking `“Export Now”`:\n",
    "\n",
    "![Text](images/export_now.webp)"
   ]
  },
  {
   "cell_type": "markdown",
   "id": "e2d22d1e-8d47-4595-a357-0b7e3ea91379",
   "metadata": {},
   "source": [
    "### 2. Writing a Manuscript"
   ]
  },
  {
   "cell_type": "markdown",
   "id": "36cbbdba-fa83-4890-ac2f-f68d92485a7d",
   "metadata": {},
   "source": [
    "Overleaf and Latex are pretty well-established tools for writing papers. Here, I want to make the case for Obsidian for writing papers. For instance, you can convert your documents from `markdown` (Obsidian document format) to `Word, LaTeX, or PDF`, with live citations.\n",
    "\n",
    "I find this especially useful at the early stages of writing when all my literature notes and ideas are in Obsidian, and the shape of the manuscript will change a lot. This is also great if you are making a poster in Inkscape, Sketch, or PowerPoint, as you can export your poster content to a Word document (including the citations).\n",
    "\n",
    "If you want to proceed you’ll need to install [Pandoc](https://pandoc.org/installing.html). In my experience, installing Pandoc with [Brew](https://brew.sh/) is much easier if you are on macOS or Linux."
   ]
  },
  {
   "cell_type": "markdown",
   "id": "ebc1a744-f805-4d16-9aed-2854a0ab7ca7",
   "metadata": {},
   "source": [
    "#### 2A. Insert a citation in Markdown\n",
    "\n",
    "If you have installed the Citations plugin in Obsidian, inserting a citation is as simple as:\n",
    "\n",
    "`CMD + P > Citations: Insert Markdown Citations`\n",
    "\n",
    "You’ll see a menu like the one below:\n",
    "\n",
    "![Text](images/mk_citation.webp)\n",
    "\n",
    "In this menu you can search through your bibliography file. You can then add citations to a document. You can customise the way they look from the Citations plugin preferences."
   ]
  },
  {
   "cell_type": "markdown",
   "id": "ad254e80-200c-4bd2-9b8a-d167672d492b",
   "metadata": {},
   "source": [
    "#### 2B. Copy MLA citations to text\n",
    "\n",
    "If you create a literature note with the Citations plugin or you include a markdown citation in a document, you can use the [Pandoc Reference List](https://github.com/mgmeyers/obsidian-pandoc-reference-list) plugin to display active citations for the document:\n",
    "\n",
    "![Text](images/pandoc_ref.webp)\n",
    "\n",
    "This can then easily be copied (with formatting) into Word:\n",
    "\n",
    "![Text](images/word.webp)\n",
    "\n",
    "Your in-text citations will also be rendered when you hover on them:\n",
    "\n",
    "![Text](images/hover.webp)\n",
    "\n",
    "You can install the plugin from Obsidian preference pane as explained earlier. I set up the plugin as such:\n",
    "\n",
    "![Text](images/pandoc_ref_pref.webp)\n",
    "\n",
    "Make sure the path to the Bibliography file and pandoc are correct. If you are unsure about the pandoc path, open the terminal and type :\n",
    "\n",
    "    >>> which pandoc\n",
    "    /usr/local/bin/pandoc"
   ]
  },
  {
   "cell_type": "markdown",
   "id": "fafd315f-525f-465b-a02d-6e7f594aaf19",
   "metadata": {},
   "source": [
    "#### 2c. LaTeX-like Figures and Section Referencing [NEW]\n",
    "\n",
    "![Text](images/latex.webp)\n",
    "\n",
    "If you have worked with LaTeX before, you will know about how easy it is to reference figure numbers, even if you were to insert new figures down the line. Something similar can be achieved with Markdown and Obsidian using Pandoc-Crossref (https://github.com/lierdakil/pandoc-crossref).\n",
    "\n",
    "The easiest way is to install using Homebrew on MacOS, (though it can similarly be installed in Linux and Windows):\n",
    "\n",
    "    brew install pandoc-crossref\n",
    "\n",
    "Keep in mind that this works only if you also installed pandoc with brew.\n",
    "\n",
    "Now, all you need is to write {#fig:your_fig_name} next to your figures as such:\n",
    "\n",
    "    ![your nice caption](your_img_path.png){#fig:your_fig_name}\n",
    "\n",
    "And in-text, reference the figure with: @fig:your_fig_name\n",
    "\n",
    "Same thing can be done with sections:\n",
    "\n",
    "    # Your Section {#sec:your_section}"
   ]
  },
  {
   "cell_type": "markdown",
   "id": "246a529a-3db9-4900-8c9c-3a46cf74fe0c",
   "metadata": {},
   "source": [
    "### 3. Exporting Your Text\n",
    "\n",
    "Exporting your notes will require:\n",
    "\n",
    "1- Pandoc (mentioned in Section 2)</br>\n",
    "2- [Pandoc-Crossref](https://github.com/lierdakil/pandoc-crossref) (for dynamic figure/section references)</br>\n",
    "3- [Obsidian Link Converter](https://github.com/ozntel/obsidian-%20link-converter)</br>\n",
    "4- [Obsidian Enhancing Export](https://github.com/mokeyish/obsidian-%20enhancing-export)</br>\n",
    "\n",
    "As mentioned in the previous section, you can install the Obsidian Plugins from the community plugins under the preference panel."
   ]
  },
  {
   "cell_type": "markdown",
   "id": "8f7eee29-aa73-4fb0-a90a-7eba69fe81e1",
   "metadata": {},
   "source": [
    "#### 3A. Converting Links (Obsidian to Markdown notation)\n",
    "\n",
    "First, we will use the Obsidian Link Converter to convert all links to markdown. This is necessary due to compatibility issues with Pandoc. To do this:\n",
    "\n",
    "`CMD + P > click the option to convert links in your vault to markdown.`\n",
    "\n",
    "![Text](images/mk_convert.webp)\n",
    "\n",
    "\n",
    "This command converts image links from this format:\n",
    "\n",
    "    ![Screenshot 2022-07-04 at 13.05.14.png]\n",
    "\n",
    "to this:\n",
    "\n",
    "    ![Screenshot 2022-07-04 at 13.05.14.png](../Images/Screenshot%202022-07-04%20at%2013.05.14.p"
   ]
  },
  {
   "cell_type": "markdown",
   "id": "faba5a43-1caf-4dea-a64a-0689903583d3",
   "metadata": {},
   "source": [
    "#### 3B. Exporting to PDF, Word, LaTeX\n",
    "\n",
    "The Enhancing Export plugin is very customisable and allows you to set different settings for each support file extension. These are the settings I use for Word, PDF, and Latex.\n",
    "\n",
    "![Text](images/export_set.webp)\n",
    "\n",
    "Make sure you add the following `Extra Arguments`:\n",
    "\n",
    "`resource-path` which is where you keep the images or bibliography file used in your document. Personally, I keep all my Obsidian images in a folder called “Images,” which makes it easier. You can also have resource paths as long as you specify them. Example:\n",
    "\n",
    "        --resource-path ~/Library/Mobile\\ Documents/iCloud\\~md\\~obsidian/Documents/knowledgebase/Images/\n",
    "\n",
    "This leads the resource path to be in the Images folder inside Obsidian (in iCloud)\n",
    "\n",
    "`bibliography` which is where you specify your bibliography file if you want your citations to be rendered. Example:\n",
    "\n",
    "        --bibliography=\"export-data.bib\"\n",
    "\n",
    "`pdf-engine` is the path to pdflatex. To find it, simply type \"which pdflatex\" in your terminal. Example:\n",
    "\n",
    "        --pdf-engine=/Library/TeX/texbin/pdflatex\n",
    "\n",
    "`filter` if you have used latex-like references to images, you will need to add the pandoc-crossref as a filter BEFORE citeproc\n",
    "\n",
    "        --filter pandoc-crossref\n",
    "\n",
    "`citeproc` tells pandoc to render the citations. We just add it as a flag like this:\n",
    "\n",
    "        --citeproc"
   ]
  },
  {
   "cell_type": "markdown",
   "id": "23f105cb-e093-420e-a5db-f757033a8dd2",
   "metadata": {},
   "source": [
    "Examples of the full Extra Arguments configs (for PDF, Word and LaTeX):\n",
    "\n",
    "    --resource-path ~/Library/Mobile\\ Documents/com~apple~CloudDocs/ \n",
    "    --resource-path ~/Library/Mobile\\ Documents/iCloud\\~md\\~obsidian/Documents/knowledgebase/Images/ \n",
    "    --csl https://raw.githubusercontent.com/csthiago/zotero-citation-styles/master/ieee.csl\n",
    "    --bibliography=\"export-data.bib\" \n",
    "    --pdf-engine=/Library/TeX/texbin/pdflatex\n",
    "    --filter pandoc-crossref\n",
    "    --citeproc"
   ]
  },
  {
   "cell_type": "markdown",
   "id": "5d071f12-3ebd-40e3-8d92-dafd763e081a",
   "metadata": {},
   "source": [
    "Once you are done, you will see that the document will contain all your images and citations. If you exported to latex, all the citations will be rendered from your .bib file.\n",
    "\n",
    "Note that you can pass a .csl file for citation styles. You can either use a file or a URL as above. You can find other styles in the repository: https://github.com/csthiago/zotero-citation-styles\n",
    "\n",
    "Once you found the style you are interested in, click on it, then click on \"Raw\" and copy the URL:\n",
    "\n",
    "![Text](images/raw.webp)"
   ]
  },
  {
   "cell_type": "markdown",
   "id": "5a05b470-94eb-4059-80a0-5368da6001c5",
   "metadata": {},
   "source": [
    "### 4. Creating Academic Documents [NEW]\n",
    "\n",
    "Section 3 showed you how you can produce a document. Here we will look into styling these into professionally-looking academic documents. There are two ways to do this:"
   ]
  },
  {
   "cell_type": "markdown",
   "id": "c0250b36-0309-4d83-9065-31aabcf3fdeb",
   "metadata": {},
   "source": [
    "#### 4A. Academic PDF (.pdf) / LaTeX (.tex) Export with Plugin\n",
    "\n",
    "![Text](images/export_enhance.gif)\n",
    "\n",
    "The advantage of using this solution over CSS is that figures and references are rendered in full, much like latex. I developed a feature of the Obsidian Enhancing Export plugin which allows the selection of academic templates from a dropdown menu (see .gif).\n",
    "\n",
    "If you followed the steps in `Section 3b`, simply run:\n",
    "\n",
    "    CMD + P > \"Obsidian Enhancing Export: Export To…\" > Set Type as \"PDF\"\n",
    "\n",
    "From the dropdown select your template of choice and that should be it. At the time of writing there are two templates available: Dissertation and NeurIPS (academic). Refer to this repository for more information on how to use each one of them: [https://github.com/universvm/obsidian-pandoc-templates](https://github.com/universvm/obsidian-pandoc-templates)"
   ]
  },
  {
   "cell_type": "markdown",
   "id": "f398ea1f-cac8-446f-af57-5b431c8b6ff5",
   "metadata": {},
   "source": [
    "#### 4B. PDF (.pdf) Export with CSS\n",
    "\n",
    "![Text](images/pdf_export.webp)\n",
    "\n",
    "This involves adding a custom .css file to Obsidian. Simply go to this website:\n",
    "\n",
    "[https://raw.githubusercontent.com/NicklasVraa/Obsidian-academic-export/main/academic-pdf-export.css](https://raw.githubusercontent.com/NicklasVraa/Obsidian-academic-export/main/academic-pdf-export.css)\n",
    "\n",
    "And save the file.\n",
    "\n",
    "Now go to Obsidian > Preferences > Appearance > CSS Snippets\n",
    "\n",
    "Click on the Folder icon and drag your [academic-pdf-export.css](https://raw.githubusercontent.com/NicklasVraa/Obsidian-academic-export/main/academic-pdf-export.css) file to it. Your preferences should now look like this:\n",
    "\n",
    "![Text](images/css.webp)\n",
    "\n",
    "Now, open a note and use the command pallette (CMD/CTRL + P) to select `\"Export to PDF\"`. Your output should now be nicely formatted."
   ]
  },
  {
   "cell_type": "markdown",
   "id": "ab5d0085-0e12-4bae-a09f-1228dcb7c495",
   "metadata": {},
   "source": [
    "#### 4C. Bibliography (.bib) Export with Pandoc\n",
    "\n",
    "If using the methods above you may wonder how to export a .bib file containing uniquely the citations used in your document and filter out any entries that are not referenced in the document.\n",
    "\n",
    "As before we go into the Export Setting preferences. In \"Choose Template\" select \"Extra Arguments\":\n",
    "\n",
    "![Text](images/export_set2.webp)\n",
    "\n",
    "For the command, paste the following and adapt as for the previous section:\n",
    "\n",
    "    --to=biblatex\n",
    "    --resource-path ~/Library/Mobile\\ Documents/com~apple~CloudDocs/ \n",
    "    --bibliography=\"export-data.bib\" \n",
    "\n",
    "- The `— to=biblatex` flag selects the output file extension to “.bib”\n",
    "- You can reuse the same `— resource-path` and `— bibliography` as before.\n",
    "\n",
    "And there you have it! It should now export to a .bib file in your selected output path. As before:\n",
    "\n",
    "    CMD + P > “Obsidian Enhancing Export: Export To…” > Set Type as “Bibliography”\n",
    "\n",
    "![Text](images/export_bib.webp)"
   ]
  },
  {
   "cell_type": "markdown",
   "id": "722664b6-f97f-4e6b-b297-c776d061861b",
   "metadata": {},
   "source": [
    "#### 4D. PDF (.pdf) Export with Custom Pandoc Template (LEGACY)\n",
    "\n",
    "If you followed the guide above and have Pandoc setup, using a custom template is also relatively simple. We essentially just need to add the custom template to Pandoc.\n",
    "\n",
    "First download the file pandoc template file from here: [https://gist.github.com/universvm/5eaa79f8c65a42c5914b449fc4a53069](https://gist.github.com/universvm/5eaa79f8c65a42c5914b449fc4a53069)\n",
    "\n",
    "Then, open a terminal and type:\n",
    "\n",
    "    pandoc --version\n",
    "\n",
    "![Text](images/pandoc_ver.webp)\n",
    "\n",
    "You will find your `user data directory` path. Open that path, and if it does not exist create a folder called \"pandoc\" in there.\n",
    "\n",
    "Now, create another folder called \"templates\" and place the `eisvogel.tex` file in there. Your folder should look like this:\n",
    "\n",
    "![Text](images/pandoc_folder.webp)\n",
    "\n",
    "Back to Obsidian, go to Preferences > Export Settings and under Choose Setting create a new one called \"Academic PDF\":\n",
    "\n",
    "![Text](images/academic_pdf.webp)\n",
    "\n",
    "In the extra arguments we want to select the template like this:\n",
    "\n",
    "    --number-sections\n",
    "    --resource-path ~/Library/Mobile\\ Documents/com~apple~CloudDocs/\n",
    "    --resource-path ~/Library/Mobile\\ Documents/iCloud\\~md\\~obsidian/Documents/knowledgebase/Images/\n",
    "    --filter pandoc-crossref\n",
    "    --citeproc\n",
    "    --bibliography=\"export-data.bib\"\n",
    "    --pdf-engine=/Library/TeX/texbin/pdflatex\n",
    "    --template eisvogel.tex \n",
    "    -M reference-section-title=References\n",
    "    --csl https://raw.githubusercontent.com/csthiago/zotero-citation-styles/master/ieee.csl\n",
    "    --metadata link-citations\n",
    "\n",
    "Now, open a note, open the command palette and click on `Obsidian Enhancing Export: Export To….` select `Academic PDF` and click on `Export`.\n",
    "\n",
    "![Text](images/academic_pdf2.webp)\n",
    "\n",
    "To produce the document in the screenshot I added the following before my note (YAML):\n",
    "\n",
    "    ---\n",
    "    title: \"Thesis Title\"\n",
    "    subtitle: \"Another Subtitle\"\n",
    "    titlepage: True\n",
    "    toc: true\n",
    "    toc-own-page: True\n",
    "    author: [Example Author]\n",
    "    date: \"2022-02-12\"\n",
    "    keywords: [Markdown, Example]\n",
    "    titlepage-text-color: \"000000\"\n",
    "    titlepage-rule-color: \"FFFFFF\"\n",
    "    titlepage-rule-height: 0\n",
    "    toc-title: Table of Contents\n",
    "    caption-justification: justified\n",
    "    titlepage-logo: /Users/your_name/Documents/logo.pdf\n",
    "    abstract: Lorem ipsum dolor sit amet, consectetur adipiscing elit. Donec eu accumsan nisl. Phasellus suscipit varius arcu nec congue. Ut non pharetra dui. Phasellus gravida lectus eget maximus tincidunt. Nam ut ex vel enim elementum malesuada. Proin sit amet iaculis velit, non feugiat nulla. In facilisis tempor posuere. Nunc id dui eget lacus accumsan finibus. Ut id ex condimentum, egestas leo quis, tincidunt neque. Proin tincidunt, odio a sagittis rutrum, erat mi volutpat lorem, non iaculis odio sem in dui.\n",
    "    acknowledgements: Donec nec sapien porttitor, pharetra odio ac, suscipit nulla. Nulla mattis purus a facilisis vestibulum. Curabitur orci lorem, convallis ut odio quis, bibendum malesuada ligula. Pellentesque ultrices velit et hendrerit vulputate. Duis lobortis quis dui et condimentum. Aenean elementum id ex sit amet placerat. Vivamus a rhoncus dui, id volutpat nibh. Ut suscipit et augue eget imperdiet. Phasellus mattis vitae lectus nec pulvinar. Nulla pulvinar risus finibus tortor aliquam lacinia. Curabitur sagittis id turpis non varius.\n",
    "    text1: Doctor of Philosophy\n",
    "    text2: School of Informatics\n",
    "    text3: University of Edinburgh\n",
    "    text4: 2022\n",
    "    ---\n",
    "\n",
    "There are a lot more configs you can use. The full list is available here: [https://github.com/Wandmalfarbe/pandoc-latex-template](https://github.com/Wandmalfarbe/pandoc-latex-template)\n",
    "\n",
    "The version you installed is a slightly modified version of the above to allow for an Abstract, Acknowledgement and general styling."
   ]
  },
  {
   "cell_type": "markdown",
   "id": "d24ab777-41c8-4a8c-8a7a-cbc934e0380d",
   "metadata": {},
   "source": [
    "#### 4E. LaTeX (.tex) Export with Custom Pandoc Template [LEGACY]"
   ]
  },
  {
   "cell_type": "markdown",
   "id": "f81aa6b6-cf89-4357-b303-75ef52895990",
   "metadata": {},
   "source": [
    "### Conclusion\n",
    "\n",
    "In this article, I showed my entire workflow for writing academically using Obsidian while syncing everything with iCloud.\n",
    "\n",
    "The workflow is meant to help you deal with installing and setting up plugins and is the result of hours of work and research through forum posts.\n",
    "\n",
    "First, we saw how to connect Zotero, a popular reference manager, to Obsidian and sync literature notes and highlights into notes files.\n",
    "\n",
    "Then, I explained how I use markdown citations to help me build a draft for a manuscript. The citations can then be rendered using pandoc and exported to text, which is helpful if you’re creating a poster with InkScape or PowerPoint.\n",
    "\n",
    "Finally, we set up the Obsidian Enhancing Export plugin with Pandoc to generate Latex, Word, and PDF documents to then import to Overleaf or send to other authors as a draft.\n",
    "\n",
    "Cherry on top is a short tutorial on how to create academically-looking (and visually pleasing) documents with CSS and pandoc templates."
   ]
  },
  {
   "cell_type": "code",
   "execution_count": null,
   "id": "928f5405-02ae-4b94-a630-6c32eede9aee",
   "metadata": {},
   "outputs": [],
   "source": []
  }
 ],
 "metadata": {
  "kernelspec": {
   "display_name": "Python 3 (ipykernel)",
   "language": "python",
   "name": "python3"
  },
  "language_info": {
   "codemirror_mode": {
    "name": "ipython",
    "version": 3
   },
   "file_extension": ".py",
   "mimetype": "text/x-python",
   "name": "python",
   "nbconvert_exporter": "python",
   "pygments_lexer": "ipython3",
   "version": "3.11.3"
  }
 },
 "nbformat": 4,
 "nbformat_minor": 5
}
