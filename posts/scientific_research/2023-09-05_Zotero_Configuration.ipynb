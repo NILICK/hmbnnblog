{
 "cells": [
  {
   "cell_type": "raw",
   "id": "4fc23f1e-6d6f-42f0-853b-d5189319403b",
   "metadata": {},
   "source": [
    "---\n",
    "title: \"Zotero Installation and Configurations \"\n",
    "description: \"This page describes Zotero installation and necessary configurations in Linux.\"\n",
    "author: \"Me\"\n",
    "date: \"2023-09-05\"\n",
    "categories: [Zotero]\n",
    "image: images/zotero.jpg\n",
    "skip_exec: true\n",
    "skip_showdoc: true\n",
    "format:\n",
    "  html:\n",
    "    code-fold: true\n",
    "    self-contained: true\n",
    "---"
   ]
  },
  {
   "cell_type": "markdown",
   "id": "34d5901c-ac11-49bc-bc74-44f45b947a5b",
   "metadata": {},
   "source": [
    "## Installation In Linux\n",
    "\n",
    "1- Download Zotero 7 Beta version from [Zotero Beta Builds page.](https://www.zotero.org/support/beta_builds)</br>\n",
    "2- Since the Zotero database completely over time and is very important for reasearcher, we must more attention in maintaining it. So for do that the best vay is to install Zotero mannually and set its database directory apart from `Home` directory. After downloading Zotero zip file in a specific directory and unzip it.</br>\n",
    "3- In unzipped folder `Zotero-7.0.0-beta.39+ecba25be0_linux-x86_64`, we have very important files that must be configured for running Zotero in Linux.</br>\n",
    "4- Edit `zotero.desktop` file as follow:\n",
    "\n",
    "    [Desktop Entry]\n",
    "    Name=Zotero\n",
    "    #Exec=bash -c \"$(dirname $(realpath $(echo %k | sed -e 's/^file:\\/\\///')))/zotero -url %U\"\n",
    "    Exec=bash -c \"/mnt/660216F80216CCC5/Zotero_Database/Zotero_Software/Zotero-7.0.0-beta.39+ecba25be0_linux-x86_64/zotero\"\n",
    "    Icon=/mnt/660216F80216CCC5/Zotero_Database/Zotero_Software/Zotero-7.0.0-beta.39+ecba25be0_linux-x86_64/chrome/icons/default/default256.png\n",
    "    Type=Application\n",
    "    Terminal=false\n",
    "    Categories=Office;\n",
    "    MimeType=text/plain;x-scheme-handler/zotero;application/x-research-info-systems;text/x-research-info-systems;text/ris;application/x-endnote-refer;application/x-inst-for-Scientific-info;application/mods+xml;application/rdf+xml;application/x-bibtex;text/x-bibtex;application/marc;application/vnd.citationstyles.style+xml\n",
    "    X-GNOME-SingleWindow=true\n",
    "\n",
    "5- Based on [this solution](https://forums.zotero.org/discussion/comment/389410/#Comment_389410), copy `zotero.desktop` file and paste it in `/home/.../.local/share/applications` directory.</br>\n",
    "6- Now you can search Zotero from `Applications` in Linux and open it.</br>\n",
    "7- For maintaining __Zotero Database__ create a folder with name of ___Zotero_Storage___ in your specific directory. This folder can be as `Zotero Directory`. Based on[The Zotero Data Directory page](https://www.zotero.org/support/zotero_data):\n",
    "\n",
    "The most important file in the __data directory__ is the __zotero.sqlite__ file, which is the database containing the majority of your data: item metadata, notes, tags, etc. When Zotero starts up, it reads the __zotero.sqlite__ file in the active data directory.\n",
    "\n",
    "The directory also contains a __storage__ folder with 8-character subfolders (e.g., “N7SMB24A”) containing all of your file attachments, such as PDFs, web snapshots, audio files, or any other files you have imported. (Files that are linked are not copied into this subfolder.)\n",
    "\n",
    "Your data directory will likely contain several other files and folders. These can include __zotero.sqlite.bak__ (an automatic backup of __zotero.sqlite__, which is updated periodically if the existing __zotero.sqlite.bak__ file hasn't been updated in the last 12 hours) and __zotero.sqlite__.[number].bak files (automatic backups of __zotero.sqlite__ that are created during certain Zotero updates), as well as folders such as __locate, logs, pipes, styles, and translators__ that are created automatically at Zotero startup.\n",
    "\n",
    "___Warning:___ Before you copy, delete, or move any of these files, be sure that Zotero is closed. Failure to do so before moving these files can damage your data.</br>\n",
    "8- Based on descriptions in previous section when you want install new version of Zotero or change your directory after installation setup of Zotero only copy __zotero.sqlite__ from your ___Zotero_Storage___ folder to ___Home/Zotero___ folder and then open Zotero software.</br>\n",
    "9- For storing your database in ___Zotero_Storage___  folder you must configure your __data directory__ in Zotero software:\n",
    "\n",
    "_Edit -->> Setting -->> Advanced -->> Files and Folders -->> Data Directory Location -->> Custom -->> /mnt/...216F8..../Zotero_Database/Zotero_Storage_\n"
   ]
  },
  {
   "cell_type": "code",
   "execution_count": null,
   "id": "a0d4c8f9-13c9-47b0-85e8-1ca1ebd7c8e3",
   "metadata": {},
   "outputs": [],
   "source": []
  }
 ],
 "metadata": {
  "kernelspec": {
   "display_name": "Python 3 (ipykernel)",
   "language": "python",
   "name": "python3"
  },
  "language_info": {
   "codemirror_mode": {
    "name": "ipython",
    "version": 3
   },
   "file_extension": ".py",
   "mimetype": "text/x-python",
   "name": "python",
   "nbconvert_exporter": "python",
   "pygments_lexer": "ipython3",
   "version": "3.11.3"
  }
 },
 "nbformat": 4,
 "nbformat_minor": 5
}
