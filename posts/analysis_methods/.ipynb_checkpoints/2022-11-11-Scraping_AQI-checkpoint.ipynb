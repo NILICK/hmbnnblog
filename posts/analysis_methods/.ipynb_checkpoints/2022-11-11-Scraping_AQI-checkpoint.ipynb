{
 "cells": [
  {
   "cell_type": "code",
   "execution_count": null,
   "id": "b6a0fe83-a522-4fc9-947b-228b97f64eb8",
   "metadata": {},
   "outputs": [],
   "source": [
    "---\n",
    "title: \"Scraping AQI\"\n",
    "description: \"Extracting data from web for data sciences analysis.\"\n",
    "author: \"Me\"\n",
    "date: \"2021-11-11\"\n",
    "categories: [Scraping, ML]\n",
    "image: images/merra2.png\n",
    "skip_exec: true\n",
    "skip_showdoc: true\n",
    "---"
   ]
  },
  {
   "cell_type": "markdown",
   "id": "13f15088-577b-47b8-8f0a-be077784da7e",
   "metadata": {},
   "source": [
    "1- Install chrome extension `Print Friendly & PDF`.</br>\n",
    "2- Open site in `English` language.</br>\n",
    "3- Define `Date`.</br>\n",
    "4- Export data as `PDF`.</br>\n",
    "5- \n"
   ]
  }
 ],
 "metadata": {
  "kernelspec": {
   "display_name": "Python 3 (ipykernel)",
   "language": "python",
   "name": "python3"
  }
 },
 "nbformat": 4,
 "nbformat_minor": 5
}
