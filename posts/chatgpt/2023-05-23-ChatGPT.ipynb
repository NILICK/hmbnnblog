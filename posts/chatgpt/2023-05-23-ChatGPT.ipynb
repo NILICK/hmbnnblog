{
 "cells": [
  {
   "cell_type": "raw",
   "id": "7334dc97-ca73-4a12-acce-dbdf552aa6f2",
   "metadata": {},
   "source": [
    "---\n",
    "title: \"ChatGPT + Python\"\n",
    "description: \"Using Tools and Python Codes about ChatGPT.\"\n",
    "author: \"Me\"\n",
    "date: \"2023-05-23\"\n",
    "categories: [ChatGPT]\n",
    "image: images/chatgpt.jpg\n",
    "skip_exec: true\n",
    "skip_showdoc: true\n",
    "format:\n",
    "  html:\n",
    "    code-fold: true\n",
    "    self-contained: true\n",
    "---"
   ]
  },
  {
   "cell_type": "markdown",
   "id": "5f2b44fc-44cc-4c51-ab95-bd9b9e05d2aa",
   "metadata": {},
   "source": [
    "## privateGPT\n",
    "\n",
    "Ask questions about your documents without an internet connection, using the power of LLMs. 100% private, no data leaves your execution environment at any point. You can ingest documents and ask questions without an internet connection([Link](https://github.com/imartinez/privateGPT?ck_subscriber_id=1360588265))."
   ]
  },
  {
   "cell_type": "markdown",
   "id": "aa7bf7b7-06e7-4883-9016-7fd3d3dd3a2f",
   "metadata": {},
   "source": [
    "## Use ChatGPT-4 for free on Hugging Face"
   ]
  },
  {
   "cell_type": "markdown",
   "id": "f5f9ef7b-6573-4d9a-9191-0dff96a581cd",
   "metadata": {},
   "source": [
    "GitHub’s AI community ‘Hugging Face’ has introduced a free Chat GPT 4 chatbot for free. It will let you have the benefit of getting your queries answered without using an API key. However, owing to excess traffic on the site, you might have to wait in the queue or even wait for minutes to get the response. Follow the steps below to access Chat GPT 4 for free through Hugging Face.\n",
    "\n",
    "Step 1: Visit the site using <https://huggingface.co/spaces/ysharma/ChatGPT4>"
   ]
  },
  {
   "cell_type": "markdown",
   "id": "9cc0ea5a-d545-47fd-84e5-5f8790b98e2c",
   "metadata": {},
   "source": [
    "## Use ChatGPT-4 for free on Ora.sh"
   ]
  },
  {
   "cell_type": "markdown",
   "id": "4fccd742-62ce-47df-96c3-b1dd66e27b9f",
   "metadata": {},
   "source": [
    "You thought there were only 2 hacks? Well, there’s more to come. The next hack is through the web platform called Ora..sh which is used to quickly build LLM apps in a shareable chat interface. Through this web platform, you can use ChatGPT-4 for free and there’s no message limit here. Unlike Hugging Face, there’s no queue or waiting time, so you can use this without any problem. "
   ]
  },
  {
   "cell_type": "markdown",
   "id": "ca59165e-ae64-4bea-9552-551ea30b0004",
   "metadata": {},
   "source": [
    "Open the web platform Ora.sh here: <https://ora.sh/openai/gpt4>"
   ]
  },
  {
   "cell_type": "markdown",
   "id": "62aa93f3-f40b-470c-b2aa-2bee9e2244e5",
   "metadata": {},
   "source": [
    "## Use ChatGPT 4 for Free on Nat.dev"
   ]
  },
  {
   "cell_type": "code",
   "execution_count": null,
   "id": "972e58ac-3ba3-42de-87e1-349c72b5ede4",
   "metadata": {},
   "outputs": [],
   "source": []
  }
 ],
 "metadata": {
  "kernelspec": {
   "display_name": "Python 3 (ipykernel)",
   "language": "python",
   "name": "python3"
  },
  "language_info": {
   "codemirror_mode": {
    "name": "ipython",
    "version": 3
   },
   "file_extension": ".py",
   "mimetype": "text/x-python",
   "name": "python",
   "nbconvert_exporter": "python",
   "pygments_lexer": "ipython3",
   "version": "3.11.3"
  }
 },
 "nbformat": 4,
 "nbformat_minor": 5
}
