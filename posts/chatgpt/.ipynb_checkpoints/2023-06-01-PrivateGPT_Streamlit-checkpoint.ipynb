{
 "cells": [
  {
   "cell_type": "raw",
   "id": "86fc11b6-dd76-4539-92f5-124236605cb2",
   "metadata": {},
   "source": [
    "---\n",
    "title: \"PrivateGPT + Streamlit\"\n",
    "description: \"Building Offline (Local) ChatGPT App Using PrivateGPT and Streamlit\"\n",
    "author: \"Me\"\n",
    "date: \"2023-06-01\"\n",
    "categories: [ChatGPT, Stramlit, PrivateGPT]\n",
    "image: images/privategpt.png\n",
    "skip_exec: true\n",
    "skip_showdoc: true\n",
    "format:\n",
    "  html:\n",
    "    code-fold: true\n",
    "    self-contained: true\n",
    "---"
   ]
  },
  {
   "cell_type": "markdown",
   "id": "7a10926f-be99-4ff7-bdaf-8a4872744cb1",
   "metadata": {},
   "source": [
    "This article contains step by step building a FastAPI backend and Streamlit app for PrivateGPT.</br>\n",
    "The PrivateGPT App provides an interface to privateGPT, with options to embed and retrieve documents using a language model and an embeddings-based retrieval system. All data remains local([src](https://github.com/menloparklab/privateGPT-app))."
   ]
  },
  {
   "cell_type": "markdown",
   "id": "5d590a7e-e37f-43fb-b6f8-d801aa307e04",
   "metadata": {},
   "source": [
    "1- Make a new env in the Linux terminal:\n",
    "\n",
    "    micromamba create -n privategpt_app\n",
    "\n",
    "2- Active new env and install jupyetrlab:\n",
    "\n",
    "    micromamba activate privategpt_app\n",
    "    pip install jupyterlab\n",
    "\n",
    "3- Open jupyterlab\n",
    "\n",
    "    jupyter lab\n",
    "    \n",
    "4- In jupyterlab create a new folder `privateGPT` and open the terminal of jupyterlab from this folder.\n",
    "\n",
    "5- Clone privategpt from GitHub:\n",
    "\n",
    "    git clone https://github.com/menloparklab/privateGPT-app\n",
    "\n",
    "6- In the terminal get `privateGPT-app`:\n",
    "\n",
    "    cd privateGPT-app\n",
    "\n",
    "7- Install the required dependencies:\n",
    "\n",
    "    pip install -r requirements.txt\n",
    "\n",
    "8- Open the `privateGPT-app` folder directly from `My Computer` and rename `example.env` to `.env`\n",
    "\n",
    "9- Create a new `models` folder inside the _privateGPT-app_ folder.\n",
    "\n",
    "10- Download the LLM model and place it in the `models` directory:\n",
    "    \n",
    "LLM: default to [ggml-gpt4all-j-v1.3-groovy.bin](https://gpt4all.io/models/ggml-gpt4all-j-v1.3-groovy.bin). If you prefer a different GPT4All-J compatible model, just download it and reference it in your `.env` file.\n",
    "\n",
    "11- Because we added the model file in the previous step, so for preventing the download while running the code, we must change some text in the `app.py`.\n",
    "\n",
    "Change from:\n",
    "\n",
    "    # Create the folder if it doesn't exist\n",
    "    os.makedirs(folder, exist_ok=True)\n",
    "    # Run wget command to download the file\n",
    "    os.system(f\"wget {url} -O {filename}\")\n",
    "\n",
    "to:\n",
    "\n",
    "    # Create the folder if it doesn't exist\n",
    "    #os.makedirs(folder, exist_ok=True)\n",
    "    # Run wget command to download the file\n",
    "    #os.system(f\"wget {url} -O {filename}\")\n",
    "\n",
    "12- Install python3 as python in jupyterlab terminal using (important):\n",
    "\n",
    "    sudo apt install python-is-python3\n",
    "\n",
    "13- To run the FastAPI backend, execute the following command in jupyterlab terminal:\n",
    "\n",
    "    gunicorn app:app -k uvicorn.workers.UvicornWorker --timeout 1500\n",
    "\n",
    "14- Open `new terminal` in `privategpt_app env` and then run the Streamlit app, and use the following command:\n",
    "\n",
    "    streamlit run streamlit_app.py --server.address localhost\n",
    "\n",
    "15- For new document analysis it is better to shutdown server by `Ctrl + C` and repeat `13` and `14` steps, respectively."
   ]
  },
  {
   "cell_type": "markdown",
   "id": "34026710-bbb5-4918-a953-d4db59ff7947",
   "metadata": {},
   "source": [
    "Sources:\n",
    "\n",
    "1- https://github.com/menloparklab/privateGPT-app\n",
    "\n",
    "2- video: Easiest way to deploy privateGPT app Ideal for Businesses  Organizations.mp4"
   ]
  },
  {
   "cell_type": "code",
   "execution_count": null,
   "id": "9507c890-fccb-4faf-a028-8d826e608fdb",
   "metadata": {},
   "outputs": [],
   "source": []
  }
 ],
 "metadata": {
  "kernelspec": {
   "display_name": "Python 3 (ipykernel)",
   "language": "python",
   "name": "python3"
  },
  "language_info": {
   "codemirror_mode": {
    "name": "ipython",
    "version": 3
   },
   "file_extension": ".py",
   "mimetype": "text/x-python",
   "name": "python",
   "nbconvert_exporter": "python",
   "pygments_lexer": "ipython3",
   "version": "3.10.7"
  }
 },
 "nbformat": 4,
 "nbformat_minor": 5
}
