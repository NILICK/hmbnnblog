{
 "cells": [
  {
   "cell_type": "raw",
   "id": "7334dc97-ca73-4a12-acce-dbdf552aa6f2",
   "metadata": {},
   "source": [
    "---\n",
    "title: \"ChatGPT + Python\"\n",
    "description: \"Using Tools and Python Codes about ChatGPT.\"\n",
    "author: \"Me\"\n",
    "date: \"2023-05-23\"\n",
    "categories: [ChatGPT]\n",
    "image: images/chatgpt.jpg\n",
    "skip_exec: true\n",
    "skip_showdoc: true\n",
    "format:\n",
    "  html:\n",
    "    code-fold: true\n",
    "    self-contained: true\n",
    "---"
   ]
  },
  {
   "cell_type": "markdown",
   "id": "5f2b44fc-44cc-4c51-ab95-bd9b9e05d2aa",
   "metadata": {},
   "source": [
    "## privateGPT\n",
    "\n",
    "Ask questions to your documents without an internet connection, using the power of LLMs. 100% private, no data leaves your execution environment at any point. You can ingest documents and ask questions without an internet connection([Link](https://github.com/imartinez/privateGPT?ck_subscriber_id=1360588265))."
   ]
  },
  {
   "cell_type": "code",
   "execution_count": null,
   "id": "a4d47e25-aa7b-40da-8bb4-f910b5a6a52d",
   "metadata": {},
   "outputs": [],
   "source": []
  }
 ],
 "metadata": {
  "kernelspec": {
   "display_name": "Python 3 (ipykernel)",
   "language": "python",
   "name": "python3"
  },
  "language_info": {
   "codemirror_mode": {
    "name": "ipython",
    "version": 3
   },
   "file_extension": ".py",
   "mimetype": "text/x-python",
   "name": "python",
   "nbconvert_exporter": "python",
   "pygments_lexer": "ipython3",
   "version": "3.11.3"
  }
 },
 "nbformat": 4,
 "nbformat_minor": 5
}
