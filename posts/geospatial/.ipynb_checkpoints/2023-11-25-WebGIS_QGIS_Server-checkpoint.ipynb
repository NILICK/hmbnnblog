{
 "cells": [
  {
   "cell_type": "markdown",
   "id": "8d01117e-ef6f-4c2a-99db-ccb8169c2deb",
   "metadata": {},
   "source": [
    "---\n",
    "title: \"WebGIS & RS learning and notes\"\n",
    "description: \"This post is about WebGIS and QGIS Server building.\"\n",
    "author: \"Me\"\n",
    "date: \"2023-11-25\"\n",
    "categories: [Geospatial]\n",
    "image: images/webgis.png\n",
    "skip_exec: true\n",
    "skip_showdoc: true\n",
    "---"
   ]
  },
  {
   "cell_type": "markdown",
   "id": "1ba5db27-105c-490d-b121-bb7526d822ee",
   "metadata": {},
   "source": [
    "Running QWC2 as part of qwc-services</br>\n",
    "(src: https://qwc-services.github.io/QuickStart/)\n",
    "\n",
    "The easiest way to run _qwc-services_ is to use the readily available docker images, using the sample setup at [qwc-docker](https://github.com/qwc-services/qwc-docker).\n",
    "\n",
    "To be able to run _qwc-docker_, first install _docker_ and _docker compose_.\n",
    "\n",
    "1- __Install Dicker__\n",
    "\n",
    "src: https://phoenixnap.com/kb/install-docker-on-ubuntu-20-04</br>\n",
    "(Installing Docker from the Default Repositories (Option 2))\n",
    "\n",
    "```\n",
    "sudo apt update\n",
    "sudo apt install docker.io -y\n",
    "sudo snap install docker\n",
    "sudo systemctl status docker\n",
    "docker --version\n",
    "\n",
    "```\n",
    "\n",
    "2- __Install Docker Compose on Ubuntu__\n",
    "\n",
    "(src: https://phoenixnap.com/kb/install-docker-compose-on-ubuntu-20-04)\n",
    "\n",
    "sudo apt install docker-compose</br>\n",
    "docker-compose --version\n",
    "\n",
    "3- __Clone the qwc-docker__\n",
    "\n",
    "Clone the qwc-docker sample setup at qwc-docker and copy the docker-compose and api-gateway configuration templates:\n",
    "\n",
    "git clone https://github.com/qwc-services/qwc-docker.git</br>\n",
    "cd qwc-docker</br>\n",
    "cp docker-compose-example.yml docker-compose.yml</br>\n",
    "cp api-gateway/nginx-example.conf api-gateway/nginx.conf</br>\n",
    "\n",
    "4- __Set the password__ for the postgres superuser in docker-compose.yml:\n",
    "\n",
    "```\n",
    "  qwc-postgis:\n",
    "    image: sourcepole/qwc-base-db:<version>\n",
    "    environment:\n",
    "      POSTGRES_PASSWORD: '<SET YOUR PASSWORD HERE>'\n",
    "```\n",
    "\n",
    "5- __Create a secret key__:\n",
    "python3 -c 'import secrets; print(\"JWT_SECRET_KEY=\\\"%s\\\"\" % secrets.token_hex(48))' >.env\n",
    "\n",
    "6- sudo chown 8983:8983 volumes/solr/data\n",
    "\n",
    "7- sudo docker-compose up (Note: this command needs `sudo` and also your `VPN` must be on such as `windscribe`)\n",
    "\n",
    "8- The map viewer will run on http://localhost:8088/.\n",
    "\n",
    "9- The admin GUI will run on http://localhost:8088/qwc_admin (default admin credentials: username admin, password admin, requires password change on first login).\n",
    "\n",
    "10- The map viewer will run on http://localhost:8088/\n",
    "\n",
    "11- The admin GUI will run on http://localhost:8088/qwc_admin (default admin credentials: username admin, password admin, requires password change on first login)."
   ]
  }
 ],
 "metadata": {
  "kernelspec": {
   "display_name": "Python 3 (ipykernel)",
   "language": "python",
   "name": "python3"
  },
  "language_info": {
   "codemirror_mode": {
    "name": "ipython",
    "version": 3
   },
   "file_extension": ".py",
   "mimetype": "text/x-python",
   "name": "python",
   "nbconvert_exporter": "python",
   "pygments_lexer": "ipython3",
   "version": "3.11.3"
  }
 },
 "nbformat": 4,
 "nbformat_minor": 5
}
