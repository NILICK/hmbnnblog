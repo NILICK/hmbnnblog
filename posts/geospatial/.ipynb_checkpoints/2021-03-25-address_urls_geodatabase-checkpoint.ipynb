{
 "cells": [
  {
   "cell_type": "raw",
   "metadata": {},
   "source": [
    "---\n",
    "title: \"Geospatial Data Address\"\n",
    "description: \"URLs for geospatial data, always in custructing!\"\n",
    "author: \"Me\"\n",
    "date: \"2021-03-25\"\n",
    "categories: [Geospatial]\n",
    "image: images/geospatial.jpeg\n",
    "skip_exec: true\n",
    "skip_showdoc: true\n",
    "---"
   ]
  },
  {
   "cell_type": "markdown",
   "metadata": {},
   "source": [
    "## Global"
   ]
  },
  {
   "cell_type": "markdown",
   "metadata": {},
   "source": [
    "- [NDVI SPOT](https://land.copernicus.eu/global/products/nd)\n",
    "- [Odiac Dataset](https://db.cger.nies.go.jp/dataset/ODIAC/)\n",
    "- [Odiac - the most beautiful global map of human-made CO2 emissions](https://odiac.org/index.html)\n",
    "- [Soilgrids](https://soilgrids.org/)\n",
    "- [Harmonized World Soils Database 1KM](https://gaez.fao.org/pages/hwsd)\n",
    "- [opengeohub](https://opengeohub.org)\n",
    "- [Earth Observing Dashboard](https://eodashboard.org/)\n",
    "- [Data Collections](https://openeo.cloud/data-collections/)\n",
    "- [Forest Fires Data Set](https://www.kaggle.com/datasets/elikplim/forest-fires-data-set)"
   ]
  },
  {
   "cell_type": "markdown",
   "metadata": {},
   "source": [
    "## Climate data"
   ]
  },
  {
   "cell_type": "markdown",
   "metadata": {},
   "source": [
    "- [Worldclim](https://www.worldclim.org/)\n",
    "- [Annual average climate data](https://en.tutiempo.net/climate/iran.html)\n",
    "- [Climate charts](https://www.climate-charts.com/)\n",
    "- [Global Historical Climatology Network Monthly](https://www.ncdc.noaa.gov/data-access/land-based-station-data/land-based-datasets/global-historical-climatology-network-monthly-version-4)\n",
    "- [Climate Data Online Search](https://www.ncdc.noaa.gov/cdo-web/search?datasetid=GHCND)  ***\n",
    "- [Climate Scenario Data from the Rossby Centre](http://www.smhi.se/en/research/research-departments/climate-research-rossby-centre2-552/climate-scenario-data-from-the-rossby-centre-1.34020)\n",
    "- [Upperair Air Data](http://weather.uwyo.edu/upperair/)\n",
    "- [Merra 2](http://www.soda-pro.com/web-services/meteo-data/merra)\n",
    "- [Copernicus](https://cds.climate.copernicus.eu/#!/home)\n",
    "- [Eumetsat](https://eoportal.eumetsat.int/cas/login?service=https%3A%2F2Feoportal.eumetsat.int%2FuserMgmt%2Fcallback%3Fclient_name%3DCasClient)\n",
    "- [Global Surface Summary of the Day - GSOD](https://www.ncei.noaa.gov/access/search/data-search/global-summary-of-the-day)  ***\n",
    "- [Integrated Surface Dataset (Global)](https://www.ncei.noaa.gov/access/search/data-search/global-hourly)   ***\n",
    "- [NOAA Climate Data](https://www.ncdc.noaa.gov/isd/data-access)\n",
    "- [Surface Data Hourly Global](https://www7.ncdc.noaa.gov/CDO/cdopoemain.cmd?datasetabbv=DS3505&countryabbv=&georegionabbv=&resolution=40)\n",
    "- [NOAA Dataset Search](https://www.ncei.noaa.gov/access/search/dataset-search)\n",
    "- [Index of 1](ftp://ftp.ncdc.noaa.gov/pub/data/noaa/) [2](ftp://ftp.ncdc.noaa.gov/pub/data/noaa)\n",
    "- [Free access to NCEI's archive of global coastal, oceanographic, geophysical, climate, and historical weather data](https://www.ncei.noaa.gov/access/search/index?datasetId=global-hourly)   ***\n",
    "- [Renewable point data](https://www.renewables.ninja/)\n",
    "- [ESA climate office](https://climate.esa.int/en/projects/) [or](https://cfs.climate.esa.int/index.html#/)\n",
    "- [Temperature and Precipitation data 1](https://www.ncdc.noaa.gov/cdo-web/search), [2](https://www.ncdc.noaa.gov/cdo-web/datatools), [3](https://www.ncdc.noaa.gov/cdo-web/)\n",
    "- [Climate Data Online: Dataset Discovery](https://www.ncdc.noaa.gov/cdo-web/datasets#GHCND)"
   ]
  },
  {
   "cell_type": "markdown",
   "metadata": {},
   "source": [
    "## Downscaling MERRA2 and other Global Datasets"
   ]
  },
  {
   "cell_type": "markdown",
   "metadata": {},
   "source": [
    "- [The Land surface Data Toolkit (LDT v7.2) – a data fusion environment for land data assimilation systems 1](https://lis.gsfc.nasa.gov/) [2](https://github.com/NASA-LIS/LISF) [3](https://lis.gsfc.nasa.gov/tests/ldt)\n",
    "- [GlobSim: downscaling global reanalysis /// GlobSim (v1.0): deriving meteorological time series for point locations from multiple global reanalyses 1](https://globsim.readthedocs.io/en/latest/?) [2](https://gmd.copernicus.org/articles/12/4661/2019/)"
   ]
  },
  {
   "cell_type": "markdown",
   "metadata": {},
   "source": [
    "## Satellite data"
   ]
  },
  {
   "cell_type": "markdown",
   "metadata": {},
   "source": [
    "- [Datasets for deep learning with satellite & aerial imagery](https://github.com/satellite-image-deep-learning/datasets)\n",
    "- [VIIRS Plus DMSP Change in Lights (VIIRS+DMSP dLIGHT), v1 (1992, 2002, 2013)](https://sedac.ciesin.columbia.edu/data/set/sdei-viirs-dmsp-dlight)\n",
    "- [Earthexplorer](https://earthexplorer.usgs.gov/)\n",
    "- [Search Earthdata](https://search.earthdata.nasa.gov/search)\n",
    "- [LANCE: NASA Near Real-Time Data and Imagery](https://earthdata.nasa.gov/earth-observation-data/near-real-time)\n",
    "- [Hazards and Disasters](https://earthdata.nasa.gov/earth-observation-data/near-real-time/hazards-and-disasters)\n",
    "- [Active Fire Data](https://earthdata.nasa.gov/earth-observation-data/near-real-time/firms/active-fire-data)\n",
    "- [Fire Information for Resource Management System (FIRMS)](https://earthdata.nasa.gov/earth-observation-data/near-real-time/firms)\n",
    "- [Worldview Earthdata](https://worldview.earthdata.nasa.gov/)\n",
    "- [Worldview Snapshots](https://wvs.earthdata.nasa.gov/)\n",
    "- [Glovis](https://glovis.usgs.gov/)\n",
    "- [Nasa Earth Observations](https://neo.sci.gsfc.nasa.gov/)\n",
    "- [EarthNow! Landsat Image Viewer 1](https://earthnow.usgs.gov/observer/), [2](http://observer.farearth.com/observer/)\n",
    "- [SAR Data](https://web-services.unavco.org/brokered/ssara/gui)\n",
    "- [9 Best Free Land Cover/Land Use Data](https://gisgeography.com/free-global-land-cover-land-use-data/)\n",
    "- [TerraScope - Free resource for sentinel satellites data](https://terrascope.be/en)\n",
    "- [Assessment of a Future Copernicus Earth Observation Service Component to Support Sustainable Forest Monitoring](https://www.reddcopernicus.info/)\n",
    "- [Copernicus Biomass](https://climate.esa.int/en/projects/biomass/)\n",
    "- [Global Forest Watch map 1](https://gfw.global/315sv5h) [2](https://www.globalforestwatch.org/map/?map=eyJkYXRhc2V0cyI6W3siZGF0YXNldCI6Im5ldC1jYXJib24tZmx1eCIsIm9wYWNpdHkiOjEsInZpc2liaWxpdHkiOnRydWUsImxheWVycyI6WyJuZXQtY2FyYm9uLWZsdXgtMjAwMS0yMDE5Il19LHsiZGF0YXNldCI6ImNhcmJvbi1yZW1vdmFscyIsIm9wYWNpdHkiOjEsInZpc2liaWxpdHkiOnRydWUsImxheWVycyI6WyJjYXJib24tcmVtb3ZhbHMtMjAwMS0yMDE5Il19LHsiZGF0YXNldCI6ImNhcmJvbi1lbWlzc2lvbnMiLCJvcGFjaXR5IjoxLCJ2aXNpYmlsaXR5Ijp0cnVlLCJsYXllcnMiOlsiY2FyYm9uLWVtaXNzaW9ucy0yMDAxLTIwMTkiXX0seyJkYXRhc2V0IjoicG9saXRpY2FsLWJvdW5kYXJpZXMiLCJsYXllcnMiOlsiZGlzcHV0ZWQtcG9saXRpY2FsLWJvdW5kYXJpZXMiLCJwb2xpdGljYWwtYm91bmRhcmllcyJdLCJvcGFjaXR5IjoxLCJ2aXNpYmlsaXR5Ijp0cnVlfV19&mapMenu=eyJtZW51U2VjdGlvbiI6ImRhdGFzZXRzIiwiZGF0YXNldENhdGVnb3J5IjoiY2xpbWF0ZSJ9) [3](https://www.nature.com/articles/s41558-020-00976-6)\n",
    "- [SPOT satellites (1, 2, 3, 4 and 5 archive)](https://regards.cnes.fr/user/swh/modules/60)"
   ]
  },
  {
   "cell_type": "markdown",
   "metadata": {},
   "source": [
    "## Sentinel Data"
   ]
  },
  {
   "cell_type": "markdown",
   "metadata": {},
   "source": [
    "- [Dashboard](https://climate.esa.int/en/odp/#/dashboard)\n",
    "- [openEO develops an open API to connect R, Python, JavaScript and other clients to big Earth observation cloud back-ends in a simple and unified way](https://openeo.org/)\n",
    "- [Sentinell Hub](https://scihub.copernicus.eu/dhus/#/home)\n",
    "- [Sentinel5P](https://s5phub.copernicus.eu/dhus/)\n",
    "- [Vito Dataset](http://www.vito-eodata.be/PDF/portal/Application.html#Home)\n",
    "- [TerraScope - Free resource for sentinel satellites data](https://terrascope.be/en)\n",
    "- [Assessment of a Future Copernicus Earth Observation Service Component to Support Sustainable Forest Monitoring](https://www.reddcopernicus.info/)\n",
    "- [Copernicus Biomass](https://climate.esa.int/en/projects/biomass/)\n",
    "- [Sea Surface Temperature](https://climate.esa.int/en/projects/sea-surface-temperature/data/)\n",
    "- [Soil Moisture](https://climate.esa.int/en/projects/soil-moisture/data/)\n",
    "- [Water Vapour](https://climate.esa.int/en/projects/water-vapour/data/)\n",
    "- [Aerosol](https://climate.esa.int/en/projects/aerosol/data/)\n",
    "- [Fire](https://climate.esa.int/en/projects/fire/data/)\n",
    "- [Greenhouse Gases (GHGs)](https://climate.esa.int/en/projects/ghgs/Data/)\n",
    "- [High Resolution Land Cover](https://climate.esa.int/en/projects/high-resolution-land-cover/about/)\n",
    "- [Land Cover](https://climate.esa.int/en/projects/land-cover/)\n",
    "- [Lakes](https://climate.esa.int/en/projects/lakes/data/)\n",
    "- [Land Surface Temperature](https://climate.esa.int/en/projects/land-surface-temperature/)\n",
    "- [Ocean Colour](https://climate.esa.int/en/projects/ocean-colour/data/)\n",
    "- [Ozone](https://climate.esa.int/en/projects/ozone/data/)\n",
    "- [RECCAP-2 supports and accelerates the analysis of regional carbon budgets](https://climate.esa.int/en/projects/reccap-2/)\n",
    "- [Sea State](https://climate.esa.int/en/projects/sea-state/data/)\n",
    "- [Sea Surface Salinity](https://climate.esa.int/en/projects/sea-surface-salinity/data/)\n",
    "- [Global Forest Watch map 1](https://gfw.global/315sv5h) [2](https://www.globalforestwatch.org/map/?map=eyJkYXRhc2V0cyI6W3siZGF0YXNldCI6Im5ldC1jYXJib24tZmx1eCIsIm9wYWNpdHkiOjEsInZpc2liaWxpdHkiOnRydWUsImxheWVycyI6WyJuZXQtY2FyYm9uLWZsdXgtMjAwMS0yMDE5Il19LHsiZGF0YXNldCI6ImNhcmJvbi1yZW1vdmFscyIsIm9wYWNpdHkiOjEsInZpc2liaWxpdHkiOnRydWUsImxheWVycyI6WyJjYXJib24tcmVtb3ZhbHMtMjAwMS0yMDE5Il19LHsiZGF0YXNldCI6ImNhcmJvbi1lbWlzc2lvbnMiLCJvcGFjaXR5IjoxLCJ2aXNpYmlsaXR5Ijp0cnVlLCJsYXllcnMiOlsiY2FyYm9uLWVtaXNzaW9ucy0yMDAxLTIwMTkiXX0seyJkYXRhc2V0IjoicG9saXRpY2FsLWJvdW5kYXJpZXMiLCJsYXllcnMiOlsiZGlzcHV0ZWQtcG9saXRpY2FsLWJvdW5kYXJpZXMiLCJwb2xpdGljYWwtYm91bmRhcmllcyJdLCJvcGFjaXR5IjoxLCJ2aXNpYmlsaXR5Ijp0cnVlfV19&mapMenu=eyJtZW51U2VjdGlvbiI6ImRhdGFzZXRzIiwiZGF0YXNldENhdGVnb3J5IjoiY2xpbWF0ZSJ9) [3](https://www.nature.com/articles/s41558-020-00976-6)"
   ]
  },
  {
   "cell_type": "markdown",
   "metadata": {},
   "source": [
    "## Terrian"
   ]
  },
  {
   "cell_type": "markdown",
   "metadata": {},
   "source": [
    "- [Dem 1km](https://www.usgs.gov/centers/eros/science/usgs-eros-archive-digital-elevation-global-30-arc-second-elevation-gtopo30?qt-science_center_objects=0#qt-science_center_objects)\n",
    "- [lpdaac.usgs.gov](https://lpdaac.usgs.gov/product_search/?query=dem&status=Operational&view=cards&sort=title&page=2)\n",
    "- [The Global Multi-Resolution Topography (GMRT) Synthesis, Bathymetry and Dem](https://www.gmrt.org/GMRTMapTool/)\n",
    "- [OpenTopography High-Resolution Topography Data and Tools](https://portal.opentopography.org/datasetMetadata)\n",
    "- [SRTM data](https://srtm.csi.cgiar.org/srtmdata/)\n",
    "- [ACE2 (Altimeter Corrected Elevations) DEM is a global DEM at 3\" (approx 90m at the equator), 9\", 30' (approx 1km at the equator) and 5' resolution](http://tethys.cse.dmu.ac.uk/ACE2/shared/main)\n",
    "- [ACE - Altimeter Corrected Elevations](http://www.cse.dmu.ac.uk/EAPRS/products_ace_overview.html)\n",
    "- [**DSM** ALOS Global Digital Surface Model \"ALOS World 3D - 30m](https://www.eorc.jaxa.jp/ALOS/en/aw3d30/)\n",
    "- [**DTM** FABDEM](https://data.bristol.ac.uk/data/dataset/25wfy0f9ukoge2gs7a5mqpq2j7)\n",
    "- ***DSM and DTM can be used in 3D building in QGIS with Mapflow plugin***"
   ]
  },
  {
   "cell_type": "markdown",
   "metadata": {},
   "source": [
    "## Hydrology"
   ]
  },
  {
   "cell_type": "markdown",
   "metadata": {},
   "source": [
    "- [Basins, Rivers, Drainages and etc.](https://www.hydrosheds.org/downloads)"
   ]
  },
  {
   "cell_type": "markdown",
   "metadata": {},
   "source": [
    "## Human"
   ]
  },
  {
   "cell_type": "markdown",
   "metadata": {},
   "source": [
    "- [Anthropogenic Biomes 2000](https://sedac.ciesin.columbia.edu/data/set/anthromes-anthropogenic-biomes-world-v2-2000)\n",
    "- [Global 1-km Downscaled Population Base Year and Projection Grids Based on the SSPs, v1.01 (2000 – 2100)](https://sedac.ciesin.columbia.edu/data/set/popdynamics-1-km-downscaled-pop-base-year-projection-ssp-2000-2100-rev01)\n",
    "- [Global Rural-Urban Mapping Project (GRUMP)](https://sedac.ciesin.columbia.edu/data/set/grump-v1-urban-ext-polygons-rev02)\n",
    "- [Socioeconomic Data and Applications Center (sedac)](https://sedac.ciesin.columbia.edu/)\n"
   ]
  },
  {
   "cell_type": "markdown",
   "metadata": {},
   "source": [
    "## Sea"
   ]
  },
  {
   "cell_type": "markdown",
   "metadata": {},
   "source": [
    "- [OpenTopography High-Resolution Topography Data and Tools](https://portal.opentopography.org/datasetMetadata)\n",
    "- [The PO.DAAC: An Open Ocean of Remote Sensing and In Situ Data for Science in the Cloud](https://podaac.jpl.nasa.gov/)\n",
    "- [Ocean Dataset](https://podaac-tools.jpl.nasa.gov/hitide/index.html#id=iQebtv&name=&version=0.1&mapState_x=0.038745394&mapState_y=-0.041098191&mapState_z=2&searchState_startDate=&searchState_endDate=&searchState_bbox=)\n",
    "- [ERDDAP oceanographic data](https://coastwatch.pfeg.noaa.gov/erddap/index.html)\n",
    "- [Find and download data for your coastal management needs](https://coast.noaa.gov/digitalcoast/data/home.html)\n",
    "- [Digital Coast to Get the Data, Tools](https://coast.noaa.gov/digitalcoast/)\n",
    "- [NOAA Class](https://www.avl.class.noaa.gov/saa/products/welcome;jsessionid=454F7F1B8035F6B94D67B39B1A5367C5)\n",
    "- [Bathymetry data sets for the world’s oceans](https://www.gebco.net/)\n",
    "- "
   ]
  },
  {
   "cell_type": "markdown",
   "metadata": {},
   "source": [
    "## Github"
   ]
  },
  {
   "cell_type": "markdown",
   "metadata": {},
   "source": [
    "- [Global Map data archives](https://github.com/globalmaps)\n",
    "- [Download MERRA 2 Data 1](https://github.com/emilylaiken/merradownload) [2](https://github.com/TUW-GEO/merra)"
   ]
  },
  {
   "cell_type": "markdown",
   "metadata": {},
   "source": [
    "## International Organisations"
   ]
  },
  {
   "cell_type": "markdown",
   "metadata": {},
   "source": [
    "- [Fao Geonetwork](http://www.fao.org/geonetwork/srv/en/main.home)\n",
    "- [UNEP Environmental Data Explorer](http://geodata.grid.unep.ch/)\n",
    "- [Integrated Population and Environmental Data](https://terra.ipums.org/)\n",
    "- [Natural Earthdata, Free vector and raster map data at 1:10m, 1:50m, and 1:110m scales](http://www.naturalearthdata.com/downloads/)\n",
    "- [Geoportal](https://www.geoportal.org/?m:activeLayerTileId=osm&f:dataSource=dab)\n",
    "- [Google Dataset Search](https://datasetsearch.research.google.com/)\n",
    "- [ASDC Tools and Services](https://eosweb.larc.nasa.gov/tools-and-services)"
   ]
  },
  {
   "cell_type": "markdown",
   "metadata": {},
   "source": [
    "## Atmosphere"
   ]
  },
  {
   "cell_type": "markdown",
   "metadata": {},
   "source": [
    "- [Atmospheric Science Data Center](https://eosweb.larc.nasa.gov/)\n",
    "- [Copernicus](https://atmosphere.copernicus.eu/catalogue#/)"
   ]
  },
  {
   "cell_type": "markdown",
   "metadata": {},
   "source": [
    "## NASA Data"
   ]
  },
  {
   "cell_type": "markdown",
   "metadata": {},
   "source": [
    "- [Giovanni](https://giovanni.gsfc.nasa.gov/giovanni/)\n",
    "- [GES DISC](https://disc.gsfc.nasa.gov/datasets?project=MERRA-2)"
   ]
  },
  {
   "cell_type": "markdown",
   "metadata": {},
   "source": [
    "## Soil"
   ]
  },
  {
   "cell_type": "markdown",
   "metadata": {},
   "source": [
    "- [Global maps for Soil Hydraulic Properties](https://www.futurewater.eu/2021/06/hihydrosoil-v2-0-now-available-on-google-earth-engine/)"
   ]
  },
  {
   "cell_type": "markdown",
   "metadata": {},
   "source": [
    "## Articles"
   ]
  },
  {
   "cell_type": "markdown",
   "metadata": {},
   "source": [
    "- [Accessing and Downloading Training Data on the Radiant MLHub API](https://medium.com/radiant-earth-insights/accessing-and-downloading-training-data-on-the-radiant-mlhub-api-f04dc635592f)\n",
    "- [How to get started with GRIB2 Weather Data and Python](https://medium.com/@elliottwobler/how-to-get-started-with-grib2-weather-data-and-python-757df9433d19)"
   ]
  }
 ],
 "metadata": {
  "kernelspec": {
   "display_name": "Python 3 (ipykernel)",
   "language": "python",
   "name": "python3"
  },
  "widgets": {
   "application/vnd.jupyter.widget-state+json": {
    "state": {},
    "version_major": 2,
    "version_minor": 0
   }
  }
 },
 "nbformat": 4,
 "nbformat_minor": 4
}
