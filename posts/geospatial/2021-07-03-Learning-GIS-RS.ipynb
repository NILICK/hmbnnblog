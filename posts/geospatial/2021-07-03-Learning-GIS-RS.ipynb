{
 "cells": [
  {
   "cell_type": "raw",
   "id": "f515e0c6-3810-4be0-b931-419003f2fd43",
   "metadata": {},
   "source": [
    "---\n",
    "title: \"GIS & RS learning and notes\"\n",
    "description: \"This post is about GIS and Remote Sensing learning and keynotes of them.\"\n",
    "author: \"Me\"\n",
    "date: \"2021-07-03\"\n",
    "categories: [Geospatial]\n",
    "image: images/GIS_RS.webp\n",
    "skip_exec: true\n",
    "skip_showdoc: true\n",
    "---"
   ]
  },
  {
   "cell_type": "markdown",
   "id": "44048564-32c0-4181-a32c-cc704e27e569",
   "metadata": {},
   "source": [
    "## GIS"
   ]
  },
  {
   "cell_type": "markdown",
   "id": "9868a05b-5e67-4556-a623-8a4d21c18451",
   "metadata": {},
   "source": [
    "- [25 Map Types: Brilliant Ideas to Build Unbeatable Maps](https://gisgeography.com/map-types/)\n",
    "- [Geojson](https://geojson.io/#map=4/35.79/49.5)\n",
    "- [Introduction to QGIS (Full Course Material)](https://courses.spatialthoughts.com/introduction-to-qgis)\n",
    "- [Geographic Information Systems Data Pathfinder](https://www.earthdata.nasa.gov/learn/pathfinders/gis-pathfinder)"
   ]
  },
  {
   "cell_type": "markdown",
   "id": "e0051444-a14b-4bef-ada5-0e882d19b1ab",
   "metadata": {},
   "source": [
    "## RS"
   ]
  },
  {
   "cell_type": "markdown",
   "id": "dd62836e-a8ac-4dc5-b47e-ccdbc5b57449",
   "metadata": {},
   "source": [
    "- [EMIT-Data-Resources](https://github.com/nasa/EMIT-Data-Resources)\n",
    "- [Spectral Indices](https://github.com/awesome-spectral-indices/awesome-spectral-indices)\n",
    "- [Observing Earth From Space](https://www.futurelearn.com/courses/observing-earth-from-space)\n",
    "- [ORNL DAAC](https://daac.ornl.gov/resources/learning/)\n",
    "- [Educational resource for exploring satellite images](https://www.edu-sat.com/?lang=en)\n",
    "- [E-Learning LP DAAC](https://lpdaac.usgs.gov/resources/e-learning/)\n",
    "- [Methane Emissions from Dairy Sources](https://daac.ornl.gov/cgi-bin/dsviewer.pl?ds_id=1882)\n",
    "- [Monitor Vegetation with Google Earth Engine](https://towardsdatascience.com/monitor-vegetation-with-google-earth-engine-909a2ad51a48)\n",
    "- [Monitor Regional Climate with Google Earth Engine](https://medium.com/geekculture/monitor-regional-climate-with-google-earth-engine-c6aa77fecdb1)\n",
    "- [Free online courses, tutorials and tools](https://www.earthdatascience.org)\n",
    "- [Summary statistics of geospatial raster datasets based on vector geometries](https://github.com/perrygeo/python-rasterstats)\n",
    "- [Enhancement of MODIS NIDVI to 10m resolution using U-Net](https://medium.com/@b.valipour.sh/enhancement-of-modis-nidvi-to-10m-resolution-using-u-net-53c8b8982670)\n",
    "- [Beyond the Visible – Introduction to Hyperspectral Remote Sensing](https://eo-college.org/courses/beyond-the-visible/)\n",
    "- [ORNL DAAC Releases GEDI Level 4B Dataset Offering Gridded Estimates of Aboveground Biomass Density](https://www.earthdata.nasa.gov/learn/articles/gedi-l4b-data)"
   ]
  },
  {
   "cell_type": "markdown",
   "id": "3b8dac76-aa15-4e20-af61-aed9724b8d2d",
   "metadata": {},
   "source": [
    "## GEE"
   ]
  },
  {
   "cell_type": "markdown",
   "id": "9fc1c215-3826-47a7-8de1-a9b2a8b7d5b1",
   "metadata": {},
   "source": [
    "- [qgis-earthengine-examples](https://github.com/giswqs/qgis-earthengine-examples)\n",
    "- [Remote Sensing](https://learn.geo4.dev/RemoteSensingTutorial.html)\n",
    "- [Land Cover Classification](https://open-mrv.readthedocs.io/en/latest/index.html)\n",
    "- [WXEE](https://wxee.readthedocs.io/en/latest/)\n",
    "- [Training Data Collection Using Google Earth Engine](https://www.openmrv.org/w/modules/mrv/modules_1/training-data-collection-using-google-earth-engine)\n",
    "- "
   ]
  },
  {
   "cell_type": "markdown",
   "id": "ad2060bc-c857-4a74-b5f8-b2083c3d10f2",
   "metadata": {},
   "source": [
    "## Python"
   ]
  },
  {
   "cell_type": "markdown",
   "id": "b439cac9-006d-4ced-827d-3471ffa07766",
   "metadata": {},
   "source": [
    "- [A Python package for geospatial analysis and interactive mapping in a Jupyter environment](https://leafmap.org/)\n",
    "- [Awesome-EarthObservation-Code 1](https://github.com/acgeospatial/awesome-earthobservation-code) [2](http://www.acgeospatial.co.uk/awesome-earthobservation-code/)\n",
    "- [Using Pandas and Python to Explore Your Dataset](https://realpython.com/pandas-python-explore-dataset/)\n",
    "- [Downloading YouTube Videos](https://github.com/pytube/pytube)\n",
    "- [Create Beautiful Tkinter GUIs by Drag and Drop](https://github.com/ParthJadhav/Tkinter-Designer)\n",
    "- [A simple way of creating movies from xarray objects](https://github.com/jbusecke/xmovie)"
   ]
  },
  {
   "cell_type": "markdown",
   "id": "4356d2dd-b880-48fa-83e2-a8c39c1f680b",
   "metadata": {},
   "source": [
    "## Articles"
   ]
  },
  {
   "cell_type": "markdown",
   "id": "e7abd40d-8a7a-4c89-adfd-b5abaddaf804",
   "metadata": {},
   "source": [
    "- [What Is NetCDF Data and Why Is It Interesting?](https://towardsdatascience.com/what-is-netcdf-data-and-why-is-it-interesting-ec26bcece19d)\n",
    "- [Visualization in Python —Visualizing Geospatial Data](https://towardsdatascience.com/visualization-in-python-visualizing-geospatial-data-122bf85d128f)\n",
    "- [Detecting deforestation from satellite images](https://towardsdatascience.com/detecting-deforestation-from-satellite-images-7aa6dfbd9f61)\n",
    "-[How to get started with GRIB2 Weather Data and Python](https://medium.com/@elliottwobler/how-to-get-started-with-grib2-weather-data-and-python-757df9433d19)\n",
    "- [Spatial Data Science: Spatial Data Storage](https://towardsdatascience.com/spatial-data-science-spatial-data-storage-364a8df4038c)\n",
    "- [All open source Python GIS and Earth Observation libraries](https://ecosystem.pythongis.org/all-tools.html)\n",
    "- [GeoWombat: Utilities for geospatial data](https://geowombat.readthedocs.io/en/latest/)\n",
    "- [Exploring Google Earth Engine Platform for Big Data Processing: Classification of Multi-Temporal Satellite Imagery for Crop Mapping](https://www.frontiersin.org/articles/10.3389/feart.2017.00017/full)\n",
    "- [Mapping Fires using Google Earth Engine and Python](https://dev.to/_aadidev/mapping-fires-using-google-earth-engine-and-python-9cc)"
   ]
  },
  {
   "cell_type": "code",
   "execution_count": null,
   "id": "35527db8-45dd-41e2-a3bc-352c3e1e00f8",
   "metadata": {},
   "outputs": [],
   "source": []
  }
 ],
 "metadata": {
  "kernelspec": {
   "display_name": "Python 3 (ipykernel)",
   "language": "python",
   "name": "python3"
  }
 },
 "nbformat": 4,
 "nbformat_minor": 5
}
