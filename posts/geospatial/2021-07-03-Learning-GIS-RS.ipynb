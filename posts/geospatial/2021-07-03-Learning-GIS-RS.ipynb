{
 "cells": [
  {
   "cell_type": "raw",
   "id": "f515e0c6-3810-4be0-b931-419003f2fd43",
   "metadata": {},
   "source": [
    "---\n",
    "title: \"GIS & RS learning and notes\"\n",
    "description: \"This post is about GIS and Remote Sensing learning and keynotes of them.\"\n",
    "author: \"Me\"\n",
    "date: \"2021-07-03\"\n",
    "categories: [Geospatial]\n",
    "image: images/GIS_RS.webp\n",
    "skip_exec: true\n",
    "skip_showdoc: true\n",
    "---"
   ]
  },
  {
   "cell_type": "markdown",
   "id": "44048564-32c0-4181-a32c-cc704e27e569",
   "metadata": {},
   "source": [
    "## GIS"
   ]
  },
  {
   "cell_type": "markdown",
   "id": "9868a05b-5e67-4556-a623-8a4d21c18451",
   "metadata": {},
   "source": [
    "- [25 Map Types: Brilliant Ideas to Build Unbeatable Maps](https://gisgeography.com/map-types/)"
   ]
  },
  {
   "cell_type": "markdown",
   "id": "e0051444-a14b-4bef-ada5-0e882d19b1ab",
   "metadata": {},
   "source": [
    "## RS"
   ]
  },
  {
   "cell_type": "markdown",
   "id": "dd62836e-a8ac-4dc5-b47e-ccdbc5b57449",
   "metadata": {},
   "source": [
    "- [Observing Earth From Space](https://www.futurelearn.com/courses/observing-earth-from-space)"
   ]
  },
  {
   "cell_type": "markdown",
   "id": "7ced9b09-1b77-4539-af51-cf75102aff8a",
   "metadata": {},
   "source": [
    "- [ORNL DAAC](https://daac.ornl.gov/resources/learning/)"
   ]
  },
  {
   "cell_type": "markdown",
   "id": "e46dec91-1866-4ece-b2e0-7ba2e889103f",
   "metadata": {},
   "source": [
    "- [Educational resource for exploring satellite images](https://www.edu-sat.com/?lang=en)"
   ]
  },
  {
   "cell_type": "markdown",
   "id": "c28cd2e7-8967-4264-beca-c305e8563a37",
   "metadata": {},
   "source": [
    "- [E-Learning LP DAAC](https://lpdaac.usgs.gov/resources/e-learning/)"
   ]
  },
  {
   "cell_type": "markdown",
   "id": "daff2e66-3c9c-45fe-ad2e-aefc6758930c",
   "metadata": {},
   "source": [
    "- [Methane Emissions from Dairy Sources](https://daac.ornl.gov/cgi-bin/dsviewer.pl?ds_id=1882)"
   ]
  },
  {
   "cell_type": "markdown",
   "id": "ad2060bc-c857-4a74-b5f8-b2083c3d10f2",
   "metadata": {},
   "source": [
    "## Python"
   ]
  },
  {
   "cell_type": "markdown",
   "id": "b439cac9-006d-4ced-827d-3471ffa07766",
   "metadata": {},
   "source": [
    "- [A Python package for geospatial analysis and interactive mapping in a Jupyter environment](https://leafmap.org/)"
   ]
  },
  {
   "cell_type": "markdown",
   "id": "518fd8b7-9a30-46cd-906e-807acc27ed2b",
   "metadata": {},
   "source": [
    "- [Awesome-EarthObservation-Code 1](https://github.com/acgeospatial/awesome-earthobservation-code) [2](http://www.acgeospatial.co.uk/awesome-earthobservation-code/)"
   ]
  },
  {
   "cell_type": "markdown",
   "id": "ee8e5aaa-dac9-4f89-9ede-32c939810904",
   "metadata": {},
   "source": [
    "- [Downloading YouTube Videos](https://github.com/pytube/pytube)"
   ]
  },
  {
   "cell_type": "markdown",
   "id": "4f4efe26-5267-4f01-b681-3a606238b9f0",
   "metadata": {},
   "source": [
    "- [Using Pandas and Python to Explore Your Dataset](https://realpython.com/pandas-python-explore-dataset/)"
   ]
  },
  {
   "cell_type": "markdown",
   "id": "4259ee3c-608b-48c6-97e0-177db9f2321e",
   "metadata": {},
   "source": [
    "- [Create Beautiful Tkinter GUIs by Drag and Drop](https://github.com/ParthJadhav/Tkinter-Designer)"
   ]
  },
  {
   "cell_type": "markdown",
   "id": "e7bf46ba-ea67-4e83-b6f9-91502c84eca6",
   "metadata": {},
   "source": [
    "- [A simple way of creating movies from xarray objects](https://github.com/jbusecke/xmovie)"
   ]
  }
 ],
 "metadata": {
  "kernelspec": {
   "display_name": "Python 3 (ipykernel)",
   "language": "python",
   "name": "python3"
  }
 },
 "nbformat": 4,
 "nbformat_minor": 5
}
