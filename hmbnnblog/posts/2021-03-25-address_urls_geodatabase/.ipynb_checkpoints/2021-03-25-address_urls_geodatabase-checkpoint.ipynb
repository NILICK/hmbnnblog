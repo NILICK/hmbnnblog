{
 "cells": [
  {
   "cell_type": "raw",
   "metadata": {},
   "source": [
    "---\n",
    "title: \"Geospatial Data Address\"\n",
    "author: \"Hossein Madadi\"\n",
    "date: \"2021-03-25\"\n",
    "categories: [Geospatial Data]\n",
    "---"
   ]
  },
  {
   "cell_type": "markdown",
   "metadata": {
    "tags": []
   },
   "source": [
    "## Climate data"
   ]
  },
  {
   "cell_type": "markdown",
   "metadata": {},
   "source": [
    "- [Worldclim](https://www.worldclim.org/)\n",
    "- Annual average climate data\n",
    "https://en.tutiempo.net/climate/iran.html\n",
    "- Climate charts\n",
    "https://www.climate-charts.com/\n",
    "- Global Historical Climatology Network Monthly\n",
    "https://www.ncdc.noaa.gov/data-access/land-based-station-data/land-based-datasets/global-historical-climatology-network-monthly-version-4\n",
    "- Climate Data Online Search \n",
    "https://www.ncdc.noaa.gov/cdo-web/search?datasetid=GHCND  ***\n",
    "- Climate Scenario Data from the Rossby Centre\n",
    "http://www.smhi.se/en/research/research-departments/climate-research-rossby-centre2-552/climate-scenario-data-from-the-rossby-centre-1.34020\n",
    "- Upperair Air Data\n",
    "http://weather.uwyo.edu/upperair/\n",
    "- Merra 2\n",
    "http://www.soda-pro.com/web-services/meteo-data/merra\n",
    "- Copernicus\n",
    "https://cds.climate.copernicus.eu/#!/home\n",
    "- Eumetsat\n",
    "https://eoportal.eumetsat.int/cas/login?service=https%3A%2F%2Feoportal.eumetsat.int%2FuserMgmt%2Fcallback%3Fclient_name%3DCasClient\n",
    "- Global Surface Summary of the Day - GSOD \n",
    "https://www.ncei.noaa.gov/access/search/data-search/global-summary-of-the-day  ***\n",
    "- Integrated Surface Dataset (Global)\n",
    "https://www.ncei.noaa.gov/access/search/data-search/global-hourly   ***\n",
    "- NOAA Climate Data\n",
    "https://www.ncdc.noaa.gov/isd/data-access\n",
    "- Surface Data Hourly Global\n",
    "https://www7.ncdc.noaa.gov/CDO/cdopoemain.cmd?datasetabbv=DS3505&countryabbv=&georegionabbv=&resolution=40\n",
    "- NOAA Dataset Search\n",
    "https://www.ncei.noaa.gov/access/search/dataset-search\n",
    "- Index of ftp://ftp.ncdc.noaa.gov/pub/data/noaa/\n",
    "ftp://ftp.ncdc.noaa.gov/pub/data/noaa\n",
    "- Free access to NCEI's archive of global coastal, oceanographic, geophysical, climate, and historical weather data\n",
    "https://www.ncei.noaa.gov/access/search/index?datasetId=global-hourly   ***\n",
    "- Renewable point data\n",
    "https://www.renewables.ninja/\n",
    "- ESA climate office\n",
    "https://climate.esa.int/en/projects/\n",
    "\n",
    "- https://cfs.climate.esa.int/index.html#/\n",
    "\n",
    "- Temperature and Precipitation data\n",
    "https://www.ncdc.noaa.gov/cdo-web/search\n",
    "https://www.ncdc.noaa.gov/cdo-web/datatools\n",
    "https://www.ncdc.noaa.gov/cdo-web/\n",
    "\n",
    "- Climate Data Online: Dataset Discovery\n",
    "https://www.ncdc.noaa.gov/cdo-web/datasets#GHCND"
   ]
  },
  {
   "cell_type": "markdown",
   "metadata": {},
   "source": [
    "## Downscaling MERRA2 and other Global Datasets"
   ]
  },
  {
   "cell_type": "markdown",
   "metadata": {},
   "source": [
    "- The Land surface Data Toolkit (LDT v7.2) – a data fusion environment for land data assimilation systems\n",
    "https://lis.gsfc.nasa.gov/ & https://github.com/NASA-LIS/LISF & https://lis.gsfc.nasa.gov/tests/ldt\n",
    "- GlobSim: downscaling global reanalysis /// GlobSim (v1.0): deriving meteorological time series for point locations from multiple global reanalyses\n",
    "https://globsim.readthedocs.io/en/latest/? & https://gmd.copernicus.org/articles/12/4661/2019/"
   ]
  },
  {
   "cell_type": "markdown",
   "metadata": {},
   "source": [
    "## Satellite data"
   ]
  },
  {
   "cell_type": "markdown",
   "metadata": {},
   "source": [
    "- VIIRS Plus DMSP Change in Lights (VIIRS+DMSP dLIGHT), v1 (1992, 2002, 2013)\n",
    "https://sedac.ciesin.columbia.edu/data/set/sdei-viirs-dmsp-dlight\n",
    "- Earthexplorer\n",
    "https://earthexplorer.usgs.gov/\n",
    "- Search Earthdata\n",
    "https://search.earthdata.nasa.gov/search\n",
    "- LANCE: NASA Near Real-Time Data and Imagery\n",
    "https://earthdata.nasa.gov/earth-observation-data/near-real-time\n",
    "- Hazards and Disasters\n",
    "https://earthdata.nasa.gov/earth-observation-data/near-real-time/hazards-and-disasters\n",
    "- Active Fire Data\n",
    "https://earthdata.nasa.gov/earth-observation-data/near-real-time/firms/active-fire-data\n",
    "- Fire Information for Resource Management System (FIRMS)\n",
    "https://earthdata.nasa.gov/earth-observation-data/near-real-time/firms\n",
    "- Worldview Earthdata\n",
    "https://worldview.earthdata.nasa.gov/\n",
    "- Worldview Snapshots\n",
    "https://wvs.earthdata.nasa.gov/\n",
    "- Glovis\n",
    "https://glovis.usgs.gov/\n",
    "- Nasa Earth Observations\n",
    "https://neo.sci.gsfc.nasa.gov/\n",
    "- EarthNow! Landsat Image Viewer\n",
    "https://earthnow.usgs.gov/observer/\n",
    ", http://observer.farearth.com/observer/\n",
    "- SAR Data\n",
    "https://web-services.unavco.org/brokered/ssara/gui\n",
    "- 9 Best Free Land Cover/Land Use Data\n",
    "https://gisgeography.com/free-global-land-cover-land-use-data/\n",
    "- TerraScope - Free resource for sentinel satellites data\n",
    "https://terrascope.be/en\n",
    "- Assessment of a Future Copernicus Earth Observation Service Component to Support Sustainable Forest Monitoring\n",
    "https://www.reddcopernicus.info/\n",
    "- Copernicus Biomass\n",
    "https://climate.esa.int/en/projects/biomass/\n",
    "- Global Forest Watch map\n",
    "https://gfw.global/315sv5h & https://www.globalforestwatch.org/map/?map=eyJkYXRhc2V0cyI6W3siZGF0YXNldCI6Im5ldC1jYXJib24tZmx1eCIsIm9wYWNpdHkiOjEsInZpc2liaWxpdHkiOnRydWUsImxheWVycyI6WyJuZXQtY2FyYm9uLWZsdXgtMjAwMS0yMDE5Il19LHsiZGF0YXNldCI6ImNhcmJvbi1yZW1vdmFscyIsIm9wYWNpdHkiOjEsInZpc2liaWxpdHkiOnRydWUsImxheWVycyI6WyJjYXJib24tcmVtb3ZhbHMtMjAwMS0yMDE5Il19LHsiZGF0YXNldCI6ImNhcmJvbi1lbWlzc2lvbnMiLCJvcGFjaXR5IjoxLCJ2aXNpYmlsaXR5Ijp0cnVlLCJsYXllcnMiOlsiY2FyYm9uLWVtaXNzaW9ucy0yMDAxLTIwMTkiXX0seyJkYXRhc2V0IjoicG9saXRpY2FsLWJvdW5kYXJpZXMiLCJsYXllcnMiOlsiZGlzcHV0ZWQtcG9saXRpY2FsLWJvdW5kYXJpZXMiLCJwb2xpdGljYWwtYm91bmRhcmllcyJdLCJvcGFjaXR5IjoxLCJ2aXNpYmlsaXR5Ijp0cnVlfV19&mapMenu=eyJtZW51U2VjdGlvbiI6ImRhdGFzZXRzIiwiZGF0YXNldENhdGVnb3J5IjoiY2xpbWF0ZSJ9 & https://www.nature.com/articles/s41558-020-00976-6\n",
    "- SPOT satellites (1, 2, 3, 4 and 5 archive)\n",
    "https://regards.cnes.fr/user/swh/modules/60"
   ]
  },
  {
   "cell_type": "markdown",
   "metadata": {},
   "source": [
    "## Sentinel Data"
   ]
  },
  {
   "cell_type": "markdown",
   "metadata": {},
   "source": [
    "- Dashboard\n",
    "https://climate.esa.int/en/odp/#/dashboard\n",
    "- openEO develops an open API to connect R, Python, JavaScript and other clients to big Earth observation cloud back-ends in a simple and unified way.\n",
    "https://openeo.org/\n",
    "- Sentinell Hub\n",
    "https://scihub.copernicus.eu/dhus/#/home\n",
    "- Sentinel5P\n",
    "https://s5phub.copernicus.eu/dhus/\n",
    "- Vito Dataset\n",
    "http://www.vito-eodata.be/PDF/portal/Application.html#Home\n",
    "- TerraScope - Free resource for sentinel satellites data\n",
    "https://terrascope.be/en\n",
    "- Assessment of a Future Copernicus Earth Observation Service Component to Support Sustainable Forest Monitoring\n",
    "https://www.reddcopernicus.info/\n",
    "- Copernicus Biomass\n",
    "https://climate.esa.int/en/projects/biomass/\n",
    "- Sea Surface Temperature\n",
    "https://climate.esa.int/en/projects/sea-surface-temperature/data/\n",
    "- Soil Moisture\n",
    "https://climate.esa.int/en/projects/soil-moisture/data/\n",
    "- Water Vapour\n",
    "https://climate.esa.int/en/projects/water-vapour/data/\n",
    "- Aerosol\n",
    "https://climate.esa.int/en/projects/aerosol/data/\n",
    "- Fire\n",
    "https://climate.esa.int/en/projects/fire/data/\n",
    "- Greenhouse Gases (GHGs)\n",
    "https://climate.esa.int/en/projects/ghgs/Data/\n",
    "- High Resolution Land Cover\n",
    "https://climate.esa.int/en/projects/high-resolution-land-cover/about/\n",
    "- Land Cover\n",
    "https://climate.esa.int/en/projects/land-cover/\n",
    "- Lakes\n",
    "https://climate.esa.int/en/projects/lakes/data/\n",
    "- Land Surface Temperature\n",
    "https://climate.esa.int/en/projects/land-surface-temperature/\n",
    "- Ocean Colour\n",
    "https://climate.esa.int/en/projects/ocean-colour/data/\n",
    "- Ozone\n",
    "https://climate.esa.int/en/projects/ozone/data/\n",
    "- RECCAP-2 supports and accelerates the analysis of regional carbon budgets\n",
    "https://climate.esa.int/en/projects/reccap-2/\n",
    "- Sea State\n",
    "https://climate.esa.int/en/projects/sea-state/data/\n",
    "- Sea Surface Salinity\n",
    "https://climate.esa.int/en/projects/sea-surface-salinity/data/\n",
    "\n",
    "\n",
    "- Global Forest Watch map\n",
    "https://gfw.global/315sv5h & https://www.globalforestwatch.org/map/?map=eyJkYXRhc2V0cyI6W3siZGF0YXNldCI6Im5ldC1jYXJib24tZmx1eCIsIm9wYWNpdHkiOjEsInZpc2liaWxpdHkiOnRydWUsImxheWVycyI6WyJuZXQtY2FyYm9uLWZsdXgtMjAwMS0yMDE5Il19LHsiZGF0YXNldCI6ImNhcmJvbi1yZW1vdmFscyIsIm9wYWNpdHkiOjEsInZpc2liaWxpdHkiOnRydWUsImxheWVycyI6WyJjYXJib24tcmVtb3ZhbHMtMjAwMS0yMDE5Il19LHsiZGF0YXNldCI6ImNhcmJvbi1lbWlzc2lvbnMiLCJvcGFjaXR5IjoxLCJ2aXNpYmlsaXR5Ijp0cnVlLCJsYXllcnMiOlsiY2FyYm9uLWVtaXNzaW9ucy0yMDAxLTIwMTkiXX0seyJkYXRhc2V0IjoicG9saXRpY2FsLWJvdW5kYXJpZXMiLCJsYXllcnMiOlsiZGlzcHV0ZWQtcG9saXRpY2FsLWJvdW5kYXJpZXMiLCJwb2xpdGljYWwtYm91bmRhcmllcyJdLCJvcGFjaXR5IjoxLCJ2aXNpYmlsaXR5Ijp0cnVlfV19&mapMenu=eyJtZW51U2VjdGlvbiI6ImRhdGFzZXRzIiwiZGF0YXNldENhdGVnb3J5IjoiY2xpbWF0ZSJ9 & https://www.nature.com/articles/s41558-020-00976-6"
   ]
  },
  {
   "cell_type": "markdown",
   "metadata": {},
   "source": [
    "## Terrian"
   ]
  },
  {
   "cell_type": "markdown",
   "metadata": {},
   "source": [
    "- The Global Multi-Resolution Topography (GMRT) Synthesis, Bathymetry and Dem\n",
    "https://www.gmrt.org/GMRTMapTool/\n",
    "-  OpenTopography High-Resolution Topography Data and Tools\n",
    "https://portal.opentopography.org/datasetMetadata\n",
    "- SRTM data\n",
    "https://srtm.csi.cgiar.org/srtmdata/\n",
    "- ACE2 (Altimeter Corrected Elevations) DEM is a global DEM at 3\" (approx 90m at the equator), 9\", 30' (approx 1km at the equator) and 5' resolution\n",
    "http://tethys.cse.dmu.ac.uk/ACE2/shared/main\n",
    "- ACE - Altimeter Corrected Elevations\n",
    "http://www.cse.dmu.ac.uk/EAPRS/products_ace_overview.html\n",
    "- **DSM** ALOS Global Digital Surface Model \"ALOS World 3D - 30m\n",
    "https://www.eorc.jaxa.jp/ALOS/en/aw3d30/\n",
    "- **DTM** FABDEM\n",
    "https://data.bristol.ac.uk/data/dataset/25wfy0f9ukoge2gs7a5mqpq2j7\n",
    "- ***DSM and DTM can be used in 3D building in QGIS with Mapflow plugin***"
   ]
  },
  {
   "cell_type": "markdown",
   "metadata": {},
   "source": [
    "## Hydrology"
   ]
  },
  {
   "cell_type": "markdown",
   "metadata": {},
   "source": [
    "- Basins, Rivers, Drainages and etc.\n",
    "https://www.hydrosheds.org/downloads"
   ]
  },
  {
   "cell_type": "markdown",
   "metadata": {},
   "source": [
    "## Human"
   ]
  },
  {
   "cell_type": "markdown",
   "metadata": {},
   "source": [
    "- Anthropogenic Biomes 2000\n",
    "https://sedac.ciesin.columbia.edu/data/set/anthromes-anthropogenic-biomes-world-v2-2000\n",
    "- Global 1-km Downscaled Population Base Year and Projection Grids Based on the SSPs, v1.01 (2000 – 2100)\n",
    "https://sedac.ciesin.columbia.edu/data/set/popdynamics-1-km-downscaled-pop-base-year-projection-ssp-2000-2100-rev01\n",
    "- Global Rural-Urban Mapping Project (GRUMP)\n",
    "https://sedac.ciesin.columbia.edu/data/set/grump-v1-urban-ext-polygons-rev02\n",
    "- Socioeconomic Data and Applications Center (sedac)\n",
    "https://sedac.ciesin.columbia.edu/\n"
   ]
  },
  {
   "cell_type": "markdown",
   "metadata": {},
   "source": [
    "## Sea"
   ]
  },
  {
   "cell_type": "markdown",
   "metadata": {},
   "source": [
    "-  OpenTopography High-Resolution Topography Data and Tools\n",
    "https://portal.opentopography.org/datasetMetadata\n",
    "- The PO.DAAC: An Open Ocean of Remote Sensing and In Situ Data for Science in the Cloud\n",
    "https://podaac.jpl.nasa.gov/\n",
    "- Ocean Dataset\n",
    "https://podaac-tools.jpl.nasa.gov/hitide/index.html#id=iQebtv&name=&version=0.1&mapState_x=0.038745394&mapState_y=-0.041098191&mapState_z=2&searchState_startDate=&searchState_endDate=&searchState_bbox=\n",
    "- ERDDAP oceanographic data\n",
    "https://coastwatch.pfeg.noaa.gov/erddap/index.html\n",
    "- Find and download data for your coastal management needs\n",
    "https://coast.noaa.gov/digitalcoast/data/home.html\n",
    "- Digital Coast to Get the Data, Tools\n",
    "https://coast.noaa.gov/digitalcoast/\n",
    "- NOAA Class\n",
    "https://www.avl.class.noaa.gov/saa/products/welcome;jsessionid=454F7F1B8035F6B94D67B39B1A5367C5\n",
    "- Bathymetry data sets for the world’s oceans\n",
    "https://www.gebco.net/\n",
    "- "
   ]
  },
  {
   "cell_type": "markdown",
   "metadata": {},
   "source": [
    "## Github"
   ]
  },
  {
   "cell_type": "markdown",
   "metadata": {},
   "source": [
    "- Global Map data archives\n",
    "https://github.com/globalmaps\n",
    "- Download MERRA 2 Data\n",
    "https://github.com/emilylaiken/merradownload & https://github.com/TUW-GEO/merra\n",
    "- "
   ]
  },
  {
   "cell_type": "markdown",
   "metadata": {},
   "source": [
    "## International Organisations"
   ]
  },
  {
   "cell_type": "markdown",
   "metadata": {},
   "source": [
    "- Fao Geonetwork\n",
    "http://www.fao.org/geonetwork/srv/en/main.home\n",
    "- UNEP Environmental Data Explorer\n",
    "http://geodata.grid.unep.ch/\n",
    "- Integrated Population and Environmental Data\n",
    "https://terra.ipums.org/\n",
    "- Natural Earthdata, Free vector and raster map data at 1:10m, 1:50m, and 1:110m scales\n",
    "http://www.naturalearthdata.com/downloads/\n",
    "- Geoportal\n",
    "https://www.geoportal.org/?m:activeLayerTileId=osm&f:dataSource=dab\n",
    "- Google Dataset Search\n",
    "https://datasetsearch.research.google.com/\n",
    "- ASDC Tools and Services\n",
    "https://eosweb.larc.nasa.gov/tools-and-services"
   ]
  },
  {
   "cell_type": "markdown",
   "metadata": {},
   "source": [
    "## Atmosphere"
   ]
  },
  {
   "cell_type": "markdown",
   "metadata": {},
   "source": [
    "- Atmospheric Science Data Center\n",
    "https://eosweb.larc.nasa.gov/\n",
    "- Copernicus\n",
    "https://atmosphere.copernicus.eu/catalogue#/"
   ]
  },
  {
   "cell_type": "markdown",
   "metadata": {},
   "source": [
    "## NASA Data"
   ]
  },
  {
   "cell_type": "markdown",
   "metadata": {},
   "source": [
    "- Giovanni https://giovanni.gsfc.nasa.gov/giovanni/\n",
    "- GES DISC https://disc.gsfc.nasa.gov/datasets?project=MERRA-2"
   ]
  },
  {
   "cell_type": "markdown",
   "metadata": {},
   "source": [
    "## Soil"
   ]
  },
  {
   "cell_type": "markdown",
   "metadata": {},
   "source": [
    "- Global maps for Soil Hydraulic Properties https://www.futurewater.eu/2021/06/hihydrosoil-v2-0-now-available-on-google-earth-engine/"
   ]
  },
  {
   "cell_type": "code",
   "execution_count": null,
   "metadata": {},
   "outputs": [],
   "source": []
  }
 ],
 "metadata": {
  "kernelspec": {
   "display_name": "Python 3 (ipykernel)",
   "language": "python",
   "name": "python3"
  },
  "language_info": {
   "codemirror_mode": {
    "name": "ipython",
    "version": 3
   },
   "file_extension": ".py",
   "mimetype": "text/x-python",
   "name": "python",
   "nbconvert_exporter": "python",
   "pygments_lexer": "ipython3",
   "version": "3.10.4"
  },
  "widgets": {
   "application/vnd.jupyter.widget-state+json": {
    "state": {},
    "version_major": 2,
    "version_minor": 0
   }
  }
 },
 "nbformat": 4,
 "nbformat_minor": 4
}
